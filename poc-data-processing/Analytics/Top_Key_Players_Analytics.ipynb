{
 "cells": [
  {
   "cell_type": "code",
   "execution_count": 1,
   "id": "c966af62-4bae-47b9-886b-b2c37be1a8b0",
   "metadata": {},
   "outputs": [
    {
     "name": "stderr",
     "output_type": "stream",
     "text": [
      "24/11/25 18:23:19 WARN Utils: Your hostname, MacBook-Pro.local resolves to a loopback address: 127.0.0.1; using 10.0.0.33 instead (on interface en0)\n",
      "24/11/25 18:23:19 WARN Utils: Set SPARK_LOCAL_IP if you need to bind to another address\n",
      "Setting default log level to \"WARN\".\n",
      "To adjust logging level use sc.setLogLevel(newLevel). For SparkR, use setLogLevel(newLevel).\n",
      "24/11/25 18:23:19 WARN NativeCodeLoader: Unable to load native-hadoop library for your platform... using builtin-java classes where applicable\n"
     ]
    }
   ],
   "source": [
    "from pyspark.sql import SparkSession\n",
    "from pyspark.sql.functions import *\n",
    "from pyspark.sql.types import *\n",
    "\n",
    "# Create a SparkSession\n",
    "spark = SparkSession.builder.appName(\"PatentTopNAnalytics\") \\\n",
    "    .config(\"spark.driver.memory\", \"8g\") \\\n",
    "    .config(\"spark.executor.memory\", \"8g\") \\\n",
    "    .getOrCreate()\n"
   ]
  },
  {
   "cell_type": "code",
   "execution_count": 2,
   "id": "7eeb6d45-3a88-46cd-a8db-54a8f5fe4e07",
   "metadata": {},
   "outputs": [
    {
     "name": "stdout",
     "output_type": "stream",
     "text": [
      "root\n",
      " |-- branch: string (nullable = true)\n",
      " |-- code: string (nullable = true)\n",
      "\n"
     ]
    },
    {
     "name": "stderr",
     "output_type": "stream",
     "text": [
      "                                                                                \r"
     ]
    },
    {
     "name": "stdout",
     "output_type": "stream",
     "text": [
      "+----------------------------------+---------+\n",
      "|branch                            |code     |\n",
      "+----------------------------------+---------+\n",
      "|Artificial Intelligence           |G06N     |\n",
      "|Artificial Intelligence           |G06F19/00|\n",
      "|Artificial Intelligence           |G06F17/27|\n",
      "|Artificial Intelligence           |G06F17/28|\n",
      "|Artificial Intelligence           |G10L15/22|\n",
      "|Artificial Intelligence           |G06T     |\n",
      "|Artificial Intelligence           |G06K9/00 |\n",
      "|Data Science and Analytics        |G06F16/00|\n",
      "|Data Science and Analytics        |G06F17/00|\n",
      "|Data Science and Analytics        |H04L67/00|\n",
      "|Data Science and Analytics        |H04L12/28|\n",
      "|Data Science and Analytics        |G06F3/06 |\n",
      "|Data Science and Analytics        |G06F12/02|\n",
      "|Data Science and Analytics        |G06F16/27|\n",
      "|Data Science and Analytics        |H04L29/06|\n",
      "|Data Science and Analytics        |G06Q50/00|\n",
      "|Data Science and Analytics        |B82Y30/00|\n",
      "|Networking and Distributed Systems|H04L29/00|\n",
      "|Networking and Distributed Systems|H04L12/00|\n",
      "|Networking and Distributed Systems|H04W     |\n",
      "+----------------------------------+---------+\n",
      "only showing top 20 rows\n",
      "\n"
     ]
    }
   ],
   "source": [
    "branches_data = [\n",
    "    \n",
    "    (\"Artificial Intelligence\", [\"G06N\", \"G06F19/00\", \"G06F17/27\", \"G06F17/28\", \"G10L15/22\", \"G06T\", \"G06K9/00\"]),\n",
    "    (\"Data Science and Analytics\", [\"G06F16/00\", \"G06F17/00\", \"H04L67/00\", \"H04L12/28\", \n",
    "                                    \"G06F3/06\", \"G06F12/02\", \"G06F16/27\", \"H04L29/06\", \"G06Q50/00\", \"B82Y30/00\"]),\n",
    "    (\"Networking and Distributed Systems\", [\"H04L29/00\", \"H04L12/00\", \"H04W\", \"H04L12/24\", \"H04L67/10\", \"G06F9/50\", \"H04L67/22\", \"H04L29/08\", \"G06F9/46\", \"G06F15/173\", \"G06F15/16\"]),\n",
    "    (\"Software Development and Security\", [\"G06F8/00\", \"G06F9/00\", \"G06F9/44\", \"G06F9/451\", \"H04L67/02\", \"G06F3/048\", \"G06Q10/00\",\"G06F3/00\", \"H04L9/00\", \"G06F21/00\", \"G06Q20/40\"]),\n",
    "    (\"Advanced Computing Technologies\", [\"B25J9/00\", \"G05B19/00\", \"G06F15/18\", \"H03K17/00\", \"G09G5/00\", \"G06Q30/00\"])\n",
    "       \n",
    "]\n",
    "\n",
    "# Create the branches DataFrame\n",
    "branches_df = spark.createDataFrame(branches_data, [\"branch\", \"codes\"])\n",
    "\n",
    "branches_df_exploded = branches_df.withColumn(\"code\", explode(col(\"codes\"))).drop(\"codes\")\n",
    "\n",
    "branches_df_exploded.printSchema()\n",
    "branches_df_exploded.show(truncate=False)"
   ]
  },
  {
   "cell_type": "code",
   "execution_count": 3,
   "id": "b567c126-f367-45cf-a459-ac950b62eed9",
   "metadata": {},
   "outputs": [
    {
     "name": "stderr",
     "output_type": "stream",
     "text": [
      "                                                                                \r"
     ]
    },
    {
     "name": "stdout",
     "output_type": "stream",
     "text": [
      "+---------+-----------------------+----+\n",
      "|patent_id|branch                 |code|\n",
      "+---------+-----------------------+----+\n",
      "|4575628  |Artificial Intelligence|G06T|\n",
      "|4575628  |Artificial Intelligence|G06T|\n",
      "|4575628  |Artificial Intelligence|G06T|\n",
      "|4575751  |Artificial Intelligence|G06T|\n",
      "|4349739  |Artificial Intelligence|G06T|\n",
      "|4349739  |Artificial Intelligence|G06T|\n",
      "|4349739  |Artificial Intelligence|G06T|\n",
      "|4533957  |Artificial Intelligence|G06T|\n",
      "|4533959  |Artificial Intelligence|G06T|\n",
      "|4670781  |Artificial Intelligence|G06T|\n",
      "|4670788  |Artificial Intelligence|G06T|\n",
      "|4670788  |Artificial Intelligence|G06T|\n",
      "|4670788  |Artificial Intelligence|G06T|\n",
      "|4670788  |Artificial Intelligence|G06T|\n",
      "|4670793  |Artificial Intelligence|G06T|\n",
      "|4670793  |Artificial Intelligence|G06T|\n",
      "|4486784  |Artificial Intelligence|G06T|\n",
      "|4670840  |Artificial Intelligence|G06T|\n",
      "|4670840  |Artificial Intelligence|G06T|\n",
      "|4670848  |Artificial Intelligence|G06N|\n",
      "+---------+-----------------------+----+\n",
      "only showing top 20 rows\n",
      "\n",
      "root\n",
      " |-- patent_id: string (nullable = true)\n",
      " |-- branch: string (nullable = true)\n",
      " |-- code: string (nullable = true)\n",
      "\n"
     ]
    },
    {
     "name": "stderr",
     "output_type": "stream",
     "text": [
      "                                                                                \r"
     ]
    }
   ],
   "source": [
    "cpc_df = spark.read.parquet(\"input_parquet/cpc_info\")  \n",
    "\n",
    "# Join condition: exact match for cpc_group and regex match for cpc_subclass\n",
    "filtered_patents = cpc_df.join(\n",
    "    branches_df_exploded,\n",
    "    (cpc_df.cpc_group == branches_df_exploded.code) |  # Exact match for group\n",
    "    (cpc_df.cpc_subclass == branches_df_exploded.code),\n",
    "    \"inner\"\n",
    ").select(\"patent_id\", \"branch\", \"code\")\n",
    "\n",
    "# Show filtered patents\n",
    "filtered_patents.show(truncate=False)\n",
    "\n",
    "filtered_patents.printSchema()"
   ]
  },
  {
   "cell_type": "code",
   "execution_count": 4,
   "id": "564a1d2c-ad20-49bb-9e52-d1439ac05527",
   "metadata": {},
   "outputs": [
    {
     "name": "stderr",
     "output_type": "stream",
     "text": [
      "[Stage 5:========================================================>(79 + 1) / 80]\r"
     ]
    },
    {
     "name": "stdout",
     "output_type": "stream",
     "text": [
      "+---------+----------------------------------+---------+\n",
      "|patent_id|branch                            |code     |\n",
      "+---------+----------------------------------+---------+\n",
      "|10000036 |Data Science and Analytics        |B82Y30/00|\n",
      "|10001293 |Networking and Distributed Systems|H04L67/10|\n",
      "|10001380 |Networking and Distributed Systems|H04W     |\n",
      "|10001910 |Software Development and Security |G06F3/048|\n",
      "|10002005 |Software Development and Security |G06F9/451|\n",
      "|10002009 |Software Development and Security |G06F21/00|\n",
      "|10002036 |Networking and Distributed Systems|H04L67/10|\n",
      "|10002095 |Artificial Intelligence           |G06N     |\n",
      "|10002107 |Artificial Intelligence           |G06N     |\n",
      "|10002157 |Data Science and Analytics        |G06F16/27|\n",
      "|10002302 |Networking and Distributed Systems|H04W     |\n",
      "|10002323 |Artificial Intelligence           |G06N     |\n",
      "|10002325 |Artificial Intelligence           |G06N     |\n",
      "|10002327 |Artificial Intelligence           |G06N     |\n",
      "|10002337 |Artificial Intelligence           |G06T     |\n",
      "|10002394 |Networking and Distributed Systems|H04W     |\n",
      "|10002411 |Artificial Intelligence           |G06T     |\n",
      "|10002417 |Artificial Intelligence           |G06T     |\n",
      "|10002437 |Artificial Intelligence           |G06T     |\n",
      "|10002442 |Artificial Intelligence           |G06T     |\n",
      "+---------+----------------------------------+---------+\n",
      "only showing top 20 rows\n",
      "\n"
     ]
    },
    {
     "name": "stderr",
     "output_type": "stream",
     "text": [
      "                                                                                \r"
     ]
    }
   ],
   "source": [
    "unique_patents_df = filtered_patents.dropDuplicates([\"patent_id\"])\n",
    "\n",
    "unique_patents_df.show(truncate=False)\n",
    "\n",
    "#record_count = filtered_patents.count()\n",
    "#print(f\"Total number of records: {record_count}\")\n",
    "\n",
    "#record_count = unique_patents_df.count()\n",
    "#print(f\"Total number of unique records: {record_count}\")"
   ]
  },
  {
   "cell_type": "code",
   "execution_count": 5,
   "id": "f5a3d8e0-9fb6-4aa0-ba29-a97cc778ccd7",
   "metadata": {},
   "outputs": [
    {
     "name": "stderr",
     "output_type": "stream",
     "text": [
      "[Stage 10:=======================================================>(79 + 1) / 80]\r"
     ]
    },
    {
     "name": "stdout",
     "output_type": "stream",
     "text": [
      "+-----------+-----------+-------------------------------------------------------------------------------------------------------------------------------------------------------+----------+--------------+-----------+-----------+---------+----------------------------------+---------+\n",
      "|patent_type|patent_date|patent_title                                                                                                                                           |num_claims|application_id|filing_date|series_code|patent_id|branch                            |code     |\n",
      "+-----------+-----------+-------------------------------------------------------------------------------------------------------------------------------------------------------+----------+--------------+-----------+-----------+---------+----------------------------------+---------+\n",
      "|utility    |2018-06-19 |High kinetic energy penetrator shielding and high wear resistance materials fabricated with boron nitride nanotubes (BNNTS) and BNNT polymer composites|20        |14753848      |2015-06-29 |14         |10000036 |Data Science and Analytics        |B82Y30/00|\n",
      "|utility    |2018-06-19 |Navigation using crowdsourcing data                                                                                                                    |12        |15149637      |2016-05-09 |15         |10001380 |Networking and Distributed Systems|H04W     |\n",
      "|utility    |2018-06-19 |Mobile terminal and controlling method thereof for creating shortcut of executing application                                                          |9         |14443153      |2015-01-21 |14         |10001910 |Software Development and Security |G06F3/048|\n",
      "|utility    |2018-06-19 |Displaying data related to media content                                                                                                               |21        |14502736      |2014-09-30 |14         |10002005 |Software Development and Security |G06F9/451|\n",
      "|utility    |2018-06-19 |System, method and computer program product for sharing information in a distributed framework                                                         |127       |15405110      |2017-01-12 |15         |10002036 |Networking and Distributed Systems|H04L67/10|\n",
      "|utility    |2018-06-19 |High performance interconnect physical layer                                                                                                           |27        |14672107      |2015-03-28 |14         |10002095 |Artificial Intelligence           |G06N     |\n",
      "|utility    |2018-06-19 |Method of host-directed illumination and system for conducting host-directed illumination                                                              |13        |15472451      |2017-03-29 |15         |10002302 |Networking and Distributed Systems|H04W     |\n",
      "|utility    |2018-06-19 |Approximate assignment operator for constrained based evolutionary search                                                                              |12        |14500092      |2014-09-29 |14         |10002323 |Artificial Intelligence           |G06N     |\n",
      "|utility    |2018-06-19 |Knowledge representation systems and methods incorporating inference rules                                                                             |15        |13345644      |2012-01-06 |13         |10002325 |Artificial Intelligence           |G06N     |\n",
      "|utility    |2018-06-19 |Systems, methods, devices and arrangements for emergency call services and emergency broadcasts                                                        |19        |15070986      |2016-03-15 |15         |10002327 |Artificial Intelligence           |G06N     |\n",
      "|utility    |2018-06-19 |Method for collaborative shopping                                                                                                                      |18        |13612593      |2012-09-12 |13         |10002337 |Artificial Intelligence           |G06T     |\n",
      "|utility    |2018-06-19 |Roadside reporter system                                                                                                                               |20        |15497401      |2017-04-26 |15         |10002394 |Networking and Distributed Systems|H04W     |\n",
      "|utility    |2018-06-19 |Ready for rotation state detection device, method of detecting ready for rotation state and substrate processing apparatus                             |15        |14281989      |2014-05-20 |14         |10002417 |Artificial Intelligence           |G06T     |\n",
      "|utility    |2018-06-19 |Method and electronic device of identifying redundant data                                                                                             |17        |15202586      |2016-07-06 |15         |10002437 |Artificial Intelligence           |G06T     |\n",
      "|utility    |2018-06-19 |Placement of augmented reality objects using a guide marker                                                                                            |20        |15850387      |2017-12-21 |15         |10002442 |Artificial Intelligence           |G06T     |\n",
      "|utility    |2018-06-19 |Data plot processing                                                                                                                                   |17        |13942904      |2013-07-16 |13         |10002458 |Artificial Intelligence           |G06T     |\n",
      "|utility    |2018-06-19 |Wear compensation for a display                                                                                                                        |25        |15085853      |2016-03-30 |15         |10002562 |Artificial Intelligence           |G06T     |\n",
      "|utility    |2018-06-19 |Guided wave communication system with interference cancellation and methods for use therewith                                                          |20        |15808131      |2017-11-09 |15         |10003364 |Networking and Distributed Systems|H04W     |\n",
      "|utility    |2018-06-19 |Key generating method and apparatus                                                                                                                    |4         |14867106      |2015-09-28 |14         |10003462 |Artificial Intelligence           |G06T     |\n",
      "|utility    |2018-06-19 |System for allocating sensor network resources                                                                                                         |20        |15134675      |2016-04-21 |15         |10003549 |Advanced Computing Technologies   |G06Q30/00|\n",
      "+-----------+-----------+-------------------------------------------------------------------------------------------------------------------------------------------------------+----------+--------------+-----------+-----------+---------+----------------------------------+---------+\n",
      "only showing top 20 rows\n",
      "\n"
     ]
    },
    {
     "name": "stderr",
     "output_type": "stream",
     "text": [
      "                                                                                \r"
     ]
    }
   ],
   "source": [
    "patent_df = spark.read.parquet(\"input_parquet/patent_info\")\n",
    "\n",
    "patents_filtered_df = patent_df.join(\n",
    "    unique_patents_df,\n",
    "    patent_df.patent_id == unique_patents_df.patent_id, \n",
    "    \"inner\"\n",
    ")\n",
    "\n",
    "patents_filtered_df = patents_filtered_df.drop(patent_df['patent_id'])\n",
    "patents_filtered_df.show(truncate=False)"
   ]
  },
  {
   "cell_type": "code",
   "execution_count": 6,
   "id": "776d879f-c391-4904-86c7-dc3342643e48",
   "metadata": {},
   "outputs": [],
   "source": [
    "inventor_data_path = \"input_parquet/inventor_info\"  \n",
    "inventor_df = spark.read.parquet(inventor_data_path)\n",
    "\n",
    "inventor_filtered_df = inventor_df.join(\n",
    "    patents_filtered_df,\n",
    "    inventor_df.patent_id == patents_filtered_df.patent_id, \n",
    "    \"inner\"\n",
    ")\n",
    "\n",
    "inventor_filtered_df = inventor_filtered_df.drop(inventor_df['patent_id'])"
   ]
  },
  {
   "cell_type": "code",
   "execution_count": 7,
   "id": "a1feddc8-f8bb-42df-b45f-e4a1d593c83f",
   "metadata": {},
   "outputs": [
    {
     "name": "stderr",
     "output_type": "stream",
     "text": [
      "[Stage 26:>                                                         (0 + 8) / 9]\r"
     ]
    },
    {
     "name": "stdout",
     "output_type": "stream",
     "text": [
      "+-------------------------------+----------------------+--------------------+------+-----+----------+------------+------------+----+\n",
      "|branch                         |inventor_id           |inventor_name       |gender|state|latitude  |longitude   |patent_count|rank|\n",
      "+-------------------------------+----------------------+--------------------+------+-----+----------+------------+------------+----+\n",
      "|Advanced Computing Technologies|fl:ja_ln:walker-54    |Jay S. Walker       |M     |CT   |41.2814842|-73.4981792 |34          |1   |\n",
      "|Advanced Computing Technologies|fl:ma_ln:stefik-1     |Mark J. Stefik      |M     |CA   |37.3736298|-122.219047 |26          |2   |\n",
      "|Advanced Computing Technologies|fl:pe_ln:pirolli-1    |Peter L. T. Pirolli |M     |CA   |37.7790262|-122.419906 |24          |3   |\n",
      "|Advanced Computing Technologies|fl:sh_ln:hussain-12   |Shariq Hussain      |M     |CA   |33.2000368|-117.2425355|20          |4   |\n",
      "|Advanced Computing Technologies|fl:ia_ln:miller-9     |Ian Miller          |M     |PA   |40.491242 |-79.9035096 |19          |5   |\n",
      "|Advanced Computing Technologies|fl:br_ln:sierer-1     |Brian Sierer        |M     |TX   |30.2711286|-97.7436995 |19          |6   |\n",
      "|Advanced Computing Technologies|fl:yi_ln:gu-3         |Yizhu Gu            |F     |PA   |40.4416941|-79.9900861 |19          |7   |\n",
      "|Advanced Computing Technologies|fl:ke_ln:low-9        |Kevin Y. Low        |M     |PA   |40.4416941|-79.9900861 |19          |8   |\n",
      "|Advanced Computing Technologies|fl:to_ln:joslin-1     |Todd Joslin         |M     |PA   |40.6264561|-80.055891  |19          |9   |\n",
      "|Advanced Computing Technologies|fl:jo_ln:moore-81     |Joshua Moore        |M     |PA   |40.4416941|-79.9900861 |19          |10  |\n",
      "|Advanced Computing Technologies|fl:ed_ln:bryner-1     |Edward A. Bryner    |M     |PA   |40.4416941|-79.9900861 |19          |11  |\n",
      "|Advanced Computing Technologies|fl:al_ln:chou-1       |Alvin Chou          |M     |GA   |34.0709576|-84.2747329 |18          |12  |\n",
      "|Advanced Computing Technologies|fl:ma_ln:loosararian-1|Mark Loosararian    |M     |PA   |40.4416941|-79.9900861 |17          |13  |\n",
      "|Advanced Computing Technologies|fl:da_ln:fuller-9     |David W Fuller, III |M     |TX   |30.2711286|-97.7436995 |15          |14  |\n",
      "|Advanced Computing Technologies|fl:ri_ln:hamilton-16  |Rick A. Hamilton, II|M     |VA   |38.029306 |-78.4766781 |15          |15  |\n",
      "|Advanced Computing Technologies|fl:lo_ln:mackenzie-1  |Logan MacKenzie     |M     |PA   |41.8995001|-79.8453298 |15          |16  |\n",
      "|Advanced Computing Technologies|fl:pe_ln:pirolli-1    |Peter L. T. Pirolli |M     |CA   |33.8752945|-117.5664449|14          |17  |\n",
      "|Advanced Computing Technologies|fl:je_ln:shamblin-1   |Jeffrey Shamblin    |M     |CA   |33.1433723|-117.1661449|14          |18  |\n",
      "|Advanced Computing Technologies|fl:lo_ln:wood-12      |Lowell L. Wood, JR. |M     |WA   |47.6144219|-122.192337 |13          |19  |\n",
      "|Advanced Computing Technologies|fl:hy_ln:kim-578      |Hyun Jin Kim        |F     |NULL |37.5666791|126.9782914 |13          |20  |\n",
      "+-------------------------------+----------------------+--------------------+------+-----+----------+------------+------------+----+\n",
      "only showing top 20 rows\n",
      "\n"
     ]
    },
    {
     "name": "stderr",
     "output_type": "stream",
     "text": [
      "                                                                                \r"
     ]
    }
   ],
   "source": [
    "from pyspark.sql.window import Window\n",
    "from pyspark.sql import functions as F\n",
    "\n",
    "grouped_df = inventor_filtered_df.groupBy(\n",
    "    \"branch\", \n",
    "    \"inventor_id\", \n",
    "    \"disambig_inventor_name_first\", \n",
    "    \"disambig_inventor_name_last\", \n",
    "    \"gender_code\", \n",
    "    \"latitude\",\n",
    "    \"longitude\",\n",
    "    \"disambig_state\"\n",
    ").agg(\n",
    "    F.count(\"patent_id\").alias(\"patent_count\")  # Count the number of patents per inventor per branch\n",
    ")\n",
    "\n",
    "# Step 2: Define a window specification to rank inventors within each branch\n",
    "window_spec = Window.partitionBy(\"branch\").orderBy(F.desc(\"patent_count\"))\n",
    "\n",
    "# Step 3: Add rank column based on patent_count\n",
    "ranked_df = grouped_df.withColumn(\"rank\", F.row_number().over(window_spec))\n",
    "\n",
    "# Step 4: Filter top 20 inventors in each branch\n",
    "top_inventors = ranked_df.filter(F.col(\"rank\") <= 20)\n",
    "\n",
    "# Step 5: Rename fields and select the desired columns\n",
    "#F.concat(F.col(\"disambig_inventor_name_first\"), F.lit(\" \"), F.col(\"disambig_inventor_name_last\")).alias(\"inventor_name\"),\n",
    "final_result = top_inventors.select(\n",
    "    F.col(\"branch\"),\n",
    "    F.col(\"inventor_id\"),\n",
    "    F.concat(F.col(\"disambig_inventor_name_first\"), F.lit(\" \"), F.col(\"disambig_inventor_name_last\")).alias(\"inventor_name\"),\n",
    "    F.col(\"gender_code\").alias(\"gender\"),\n",
    "    F.col(\"disambig_state\").alias(\"state\"),\n",
    "    F.col(\"latitude\"),\n",
    "    F.col(\"longitude\"),\n",
    "    F.col(\"patent_count\"),\n",
    "    F.col(\"rank\")\n",
    ").orderBy(\"branch\", \"rank\")\n",
    "\n",
    "final_result.show(truncate=False)\n",
    "\n"
   ]
  },
  {
   "cell_type": "code",
   "execution_count": 8,
   "id": "b4ab0d0c-efe7-414f-a594-d8965351dec4",
   "metadata": {},
   "outputs": [
    {
     "name": "stdout",
     "output_type": "stream",
     "text": [
      "root\n",
      " |-- branch: string (nullable = true)\n",
      " |-- inventor_id: string (nullable = true)\n",
      " |-- inventor_name: string (nullable = true)\n",
      " |-- gender: string (nullable = true)\n",
      " |-- state: string (nullable = true)\n",
      " |-- latitude: double (nullable = true)\n",
      " |-- longitude: double (nullable = true)\n",
      " |-- patent_count: integer (nullable = false)\n",
      " |-- rank: integer (nullable = false)\n",
      "\n"
     ]
    }
   ],
   "source": [
    "final_result_with_schema = final_result.select(\n",
    "    col(\"branch\").cast(StringType()),\n",
    "    col(\"inventor_id\").cast(StringType()),\n",
    "    col(\"inventor_name\").cast(StringType()),\n",
    "    col(\"gender\").cast(StringType()),\n",
    "    col(\"state\").cast(StringType()),\n",
    "    col(\"latitude\").cast(DoubleType()),\n",
    "    col(\"longitude\").cast(DoubleType()),\n",
    "    col(\"patent_count\").cast(IntegerType()),\n",
    "    col(\"rank\").cast(IntegerType())\n",
    ")\n",
    "\n",
    "final_result_with_schema.printSchema()\n",
    "# Show the final result"
   ]
  },
  {
   "cell_type": "code",
   "execution_count": 9,
   "id": "643f00f6-d659-45fc-b78e-68db51994b59",
   "metadata": {},
   "outputs": [
    {
     "name": "stderr",
     "output_type": "stream",
     "text": [
      "                                                                                \r"
     ]
    }
   ],
   "source": [
    "final_result_with_schema.write.parquet(\"analytics_output_parquet/top_inventors\", mode=\"overwrite\")"
   ]
  },
  {
   "cell_type": "code",
   "execution_count": 10,
   "id": "24ef6798-d0cc-4d72-8b1d-c1ba4d7b8274",
   "metadata": {},
   "outputs": [
    {
     "name": "stderr",
     "output_type": "stream",
     "text": [
      "[Stage 70:================================================>       (20 + 3) / 23]\r"
     ]
    },
    {
     "name": "stdout",
     "output_type": "stream",
     "text": [
      "+----------------------------------+-----+------------------+-------------------+--------------+------------+\n",
      "|branch                            |state|latitude          |longitude          |inventor_count|patent_count|\n",
      "+----------------------------------+-----+------------------+-------------------+--------------+------------+\n",
      "|Artificial Intelligence           |US-WY|41.902003858823534|-106.46323838352941|45            |70          |\n",
      "|Software Development and Security |US-FL|27.280714325476314|-81.08960283375069 |806           |1108        |\n",
      "|Data Science and Analytics        |US-MD|39.147088231774056|-76.87314561800527 |491           |592         |\n",
      "|Advanced Computing Technologies   |US-WV|38.8935492        |-79.14055222       |3             |5           |\n",
      "|Networking and Distributed Systems|US-PA|40.27709383376434 |-76.07247477966796 |1784          |4348        |\n",
      "|Software Development and Security |US-CO|39.721263518850876|-105.11172825712248|890           |1038        |\n",
      "|Networking and Distributed Systems|US-DC|38.895036800000014|-77.03654270000001 |251           |636         |\n",
      "|Data Science and Analytics        |US-WA|47.55487293365685 |-122.08681833836006|2557          |1919        |\n",
      "|Advanced Computing Technologies   |US-CO|39.927179383647804|-105.06145468050315|102           |67          |\n",
      "|Data Science and Analytics        |US-MI|42.7280501693118  |-83.84401431011234 |791           |683         |\n",
      "|Networking and Distributed Systems|US-HI|21.03148298820755 |-157.31270838537736|68            |160         |\n",
      "|Artificial Intelligence           |US-IA|41.90721216637027 |-92.26960123144708 |559           |640         |\n",
      "|Software Development and Security |US-KS|38.8210040747093  |-95.05738832122093 |209           |168         |\n",
      "|Software Development and Security |US-NS|39.92145459027778 |-71.26179264305556 |45            |37          |\n",
      "|Software Development and Security |US-CA|36.937095259344986|-121.46248607176095|13361         |12097       |\n",
      "|Software Development and Security |US-WA|47.619847298275864|-122.16429521969461|5925          |3933        |\n",
      "|Software Development and Security |US-WI|43.405518102531644|-88.81588588227851 |238           |248         |\n",
      "|Artificial Intelligence           |US-OH|40.456387133167276|-82.55075024151097 |1983          |2266        |\n",
      "|Software Development and Security |US-KY|38.257841890598286|-84.83514781623933 |68            |78          |\n",
      "|Data Science and Analytics        |US-LA|30.754010753658545|-91.02310447317073 |53            |53          |\n",
      "+----------------------------------+-----+------------------+-------------------+--------------+------------+\n",
      "only showing top 20 rows\n",
      "\n",
      "root\n",
      " |-- branch: string (nullable = true)\n",
      " |-- state: string (nullable = true)\n",
      " |-- latitude: double (nullable = true)\n",
      " |-- longitude: double (nullable = true)\n",
      " |-- inventor_count: integer (nullable = false)\n",
      " |-- patent_count: integer (nullable = false)\n",
      "\n"
     ]
    },
    {
     "name": "stderr",
     "output_type": "stream",
     "text": [
      "                                                                                \r"
     ]
    }
   ],
   "source": [
    "geo_data = inventor_filtered_df.groupBy(\"branch\", \"disambig_state\").agg(\n",
    "    F.avg(\"latitude\").alias(\"latitude\"),  \n",
    "    F.avg(\"longitude\").alias(\"longitude\"), \n",
    "    F.countDistinct(\"inventor_id\").alias(\"inventor_count\"),  # Count unique inventors\n",
    "    F.countDistinct(\"patent_id\").alias(\"patent_count\")  # Count unique patents\n",
    ")\n",
    "\n",
    "# Step 2: Select relevant columns\n",
    "geo_distribution = geo_data.select(\n",
    "    F.col(\"branch\"),\n",
    "    F.concat(F.lit(\"US-\"), F.col(\"disambig_state\")).alias(\"state\"),\n",
    "    F.col(\"latitude\"),\n",
    "    F.col(\"longitude\"),\n",
    "    F.col(\"inventor_count\"),\n",
    "    F.col(\"patent_count\")\n",
    ")\n",
    "\n",
    "\n",
    "# Show the resulting DataFrame\n",
    "geo_distribution.show(truncate=False)\n",
    "\n",
    "geo_distribution_with_schema = geo_distribution.select(\n",
    "    col(\"branch\").cast(StringType()),\n",
    "    col(\"state\").cast(StringType()),\n",
    "    col(\"latitude\").cast(DoubleType()),\n",
    "    col(\"longitude\").cast(DoubleType()),\n",
    "    col(\"inventor_count\").cast(IntegerType()),\n",
    "    col(\"patent_count\").cast(IntegerType())\n",
    ")\n",
    "\n",
    "geo_distribution_with_schema.printSchema()"
   ]
  },
  {
   "cell_type": "code",
   "execution_count": 11,
   "id": "aeef8e81-7340-4988-92ae-60d2a50c7c44",
   "metadata": {},
   "outputs": [
    {
     "name": "stderr",
     "output_type": "stream",
     "text": [
      "                                                                                \r"
     ]
    }
   ],
   "source": [
    "geo_distribution_with_schema.write.parquet(\"analytics_output_parquet/geo_distribution\", mode=\"overwrite\")"
   ]
  },
  {
   "cell_type": "code",
   "execution_count": 12,
   "id": "67f49a3a-c7ec-4e97-9374-63382a47140b",
   "metadata": {},
   "outputs": [
    {
     "name": "stdout",
     "output_type": "stream",
     "text": [
      "root\n",
      " |-- applicant_sequence: string (nullable = true)\n",
      " |-- raw_applicant_name_first: string (nullable = true)\n",
      " |-- raw_applicant_name_last: string (nullable = true)\n",
      " |-- raw_applicant_organization: string (nullable = true)\n",
      " |-- applicant_type: string (nullable = true)\n",
      " |-- patent_type: string (nullable = true)\n",
      " |-- patent_date: string (nullable = true)\n",
      " |-- patent_title: string (nullable = true)\n",
      " |-- num_claims: string (nullable = true)\n",
      " |-- application_id: string (nullable = true)\n",
      " |-- filing_date: string (nullable = true)\n",
      " |-- series_code: string (nullable = true)\n",
      " |-- patent_id: string (nullable = true)\n",
      " |-- branch: string (nullable = true)\n",
      " |-- code: string (nullable = true)\n",
      "\n"
     ]
    }
   ],
   "source": [
    "applicant_data_path = \"input_parquet/applicant_info\"  # Path to the patent data\n",
    "applicant_df = spark.read.parquet(applicant_data_path)\n",
    "\n",
    "applicant_filtered_df = applicant_df.join(\n",
    "    patents_filtered_df,\n",
    "    applicant_df.patent_id == patents_filtered_df.patent_id, \n",
    "    \"inner\"\n",
    ")\n",
    "\n",
    "applicant_filtered_df = applicant_filtered_df.drop(applicant_df['patent_id'])\n",
    "applicant_filtered_df.printSchema()"
   ]
  },
  {
   "cell_type": "code",
   "execution_count": 20,
   "id": "bc9dd394-34c4-4358-ae7f-516ef12f2d0b",
   "metadata": {},
   "outputs": [
    {
     "name": "stderr",
     "output_type": "stream",
     "text": [
      "[Stage 205:>                                                        (0 + 8) / 9]\r"
     ]
    },
    {
     "name": "stdout",
     "output_type": "stream",
     "text": [
      "+-------------------------------+----------------------------------------------------+------------+----+\n",
      "|branch                         |organization                                        |patent_count|rank|\n",
      "+-------------------------------+----------------------------------------------------+------------+----+\n",
      "|Advanced Computing Technologies|Samsung Electronics Co., Ltd.                       |110         |1   |\n",
      "|Advanced Computing Technologies|Sony Corporation                                    |66          |2   |\n",
      "|Advanced Computing Technologies|Amazon Technologies, Inc.                           |48          |3   |\n",
      "|Advanced Computing Technologies|Google Inc.                                         |43          |4   |\n",
      "|Advanced Computing Technologies|International Business Machines Corporation         |41          |5   |\n",
      "|Advanced Computing Technologies|Samsung Display Co., Ltd.                           |40          |6   |\n",
      "|Advanced Computing Technologies|Ebay Inc.                                           |37          |7   |\n",
      "|Advanced Computing Technologies|Boe Technology Group Co., Ltd.                      |37          |8   |\n",
      "|Advanced Computing Technologies|Panasonic Intellectual Property Management Co., Ltd.|36          |9   |\n",
      "|Advanced Computing Technologies|Lg Electronics Inc.                                 |32          |10  |\n",
      "|Advanced Computing Technologies|Google Llc                                          |29          |11  |\n",
      "|Advanced Computing Technologies|Seiko Epson Corporation                             |28          |12  |\n",
      "|Advanced Computing Technologies|Sony Interactive Entertainment Inc.                 |25          |13  |\n",
      "|Advanced Computing Technologies|Denso Corporation                                   |24          |14  |\n",
      "|Advanced Computing Technologies|Apple Inc.                                          |23          |15  |\n",
      "|Advanced Computing Technologies|Intel Corporation                                   |21          |16  |\n",
      "|Advanced Computing Technologies|Gecko Robotics, Inc.                                |19          |17  |\n",
      "|Advanced Computing Technologies|Meps Real-time, Inc.                                |18          |18  |\n",
      "|Advanced Computing Technologies|Microsoft Technology Licensing, Llc                 |17          |19  |\n",
      "|Advanced Computing Technologies|Canon Kabushiki Kaisha                              |17          |20  |\n",
      "+-------------------------------+----------------------------------------------------+------------+----+\n",
      "only showing top 20 rows\n",
      "\n"
     ]
    },
    {
     "name": "stderr",
     "output_type": "stream",
     "text": [
      "                                                                                \r"
     ]
    }
   ],
   "source": [
    "from pyspark.sql import Window\n",
    "from pyspark.sql import functions as F\n",
    "\n",
    "# Step 1: Remove NULL values\n",
    "applicant_cleaned_df = applicant_filtered_df.filter(F.col(\"raw_applicant_organization\").isNotNull())\n",
    "\n",
    "# Step 2: Normalize organization names to sentence case for deduplication\n",
    "# This ensures records like \"SAMSUNG ELECTRONICS CO., LTD.\" and \"Samsung Electronics Co., Ltd.\" are treated the same\n",
    "applicant_normalized_df = applicant_cleaned_df.withColumn(\n",
    "    \"normalized_organization\", \n",
    "    F.initcap(F.lower(F.col(\"raw_applicant_organization\")))\n",
    ")\n",
    "\n",
    "# Step 3: Group by normalized organization and branch, then sum the patent counts\n",
    "applicant_grouped_df = applicant_normalized_df.groupBy(\n",
    "    \"branch\", \n",
    "    \"normalized_organization\"\n",
    ").agg(\n",
    "    F.count(\"patent_id\").alias(\"patent_count\")  # Count the number of patents per inventor per branch\n",
    ")\n",
    "\n",
    "# Step 4: Define a window specification to rank organizations within each branch\n",
    "applicant_window_spec = Window.partitionBy(\"branch\").orderBy(F.desc(\"patent_count\"))\n",
    "\n",
    "# Step 5: Add rank column based on patent_count\n",
    "applicant_ranked_df = applicant_grouped_df.withColumn(\n",
    "    \"rank\", \n",
    "    F.row_number().over(applicant_window_spec)\n",
    ")\n",
    "\n",
    "# Step 6: Filter top 20 organizations in each branch\n",
    "top_applicants = applicant_ranked_df.filter(F.col(\"rank\") <= 20)\n",
    "\n",
    "# Step 7: Rename fields and select the desired columns\n",
    "final_applicant_result = top_applicants.select(\n",
    "    F.col(\"branch\"),\n",
    "    F.col(\"normalized_organization\").alias(\"organization\"),\n",
    "    F.col(\"patent_count\"),\n",
    "    F.col(\"rank\")\n",
    ").orderBy(\"branch\", \"rank\")\n",
    "\n",
    "# Step 8: Show the results\n",
    "final_applicant_result.show(truncate=False)"
   ]
  },
  {
   "cell_type": "code",
   "execution_count": 21,
   "id": "5b1f03aa-851f-45a2-ae3c-2a869575a0da",
   "metadata": {},
   "outputs": [],
   "source": [
    "final_applicant_with_schema = final_applicant_result.select(\n",
    "    col(\"branch\").cast(StringType()),\n",
    "    col(\"organization\").cast(StringType()),\n",
    "    col(\"patent_count\").cast(IntegerType()),\n",
    "    col(\"rank\").cast(IntegerType())\n",
    ")"
   ]
  },
  {
   "cell_type": "code",
   "execution_count": 22,
   "id": "344d26d3-6b3c-44c1-8e51-b9919041f4de",
   "metadata": {},
   "outputs": [
    {
     "name": "stderr",
     "output_type": "stream",
     "text": [
      "                                                                                \r"
     ]
    }
   ],
   "source": [
    "final_applicant_with_schema.write.parquet(\"analytics_output_parquet/top_applicants\", mode=\"overwrite\")"
   ]
  },
  {
   "cell_type": "code",
   "execution_count": null,
   "id": "f2e898ab-ef04-409a-8932-daa5b0049f69",
   "metadata": {},
   "outputs": [],
   "source": []
  }
 ],
 "metadata": {
  "kernelspec": {
   "display_name": "Python 3 (ipykernel)",
   "language": "python",
   "name": "python3"
  },
  "language_info": {
   "codemirror_mode": {
    "name": "ipython",
    "version": 3
   },
   "file_extension": ".py",
   "mimetype": "text/x-python",
   "name": "python",
   "nbconvert_exporter": "python",
   "pygments_lexer": "ipython3",
   "version": "3.10.6"
  }
 },
 "nbformat": 4,
 "nbformat_minor": 5
}
