{
 "cells": [
  {
   "cell_type": "code",
   "execution_count": 2,
   "id": "84b04870-b8a0-4a57-a722-e5a73a996444",
   "metadata": {},
   "outputs": [],
   "source": [
    "from pyspark.sql import SparkSession\n",
    "from pyspark.sql.functions import *\n",
    "from pyspark.sql.types import *\n",
    "\n",
    "# Create a SparkSession\n",
    "spark = SparkSession.builder.appName(\"PatentBranchAnalytics\").config(\"spark.driver.memory\", \"8g\").config(\"spark.executor.memory\", \"8g\").getOrCreate()\n"
   ]
  },
  {
   "cell_type": "code",
   "execution_count": 3,
   "id": "58449fce-be89-43df-b4a5-3c66954baabd",
   "metadata": {},
   "outputs": [
    {
     "name": "stdout",
     "output_type": "stream",
     "text": [
      "root\n",
      " |-- branch: string (nullable = true)\n",
      " |-- code: string (nullable = true)\n",
      "\n"
     ]
    },
    {
     "name": "stderr",
     "output_type": "stream",
     "text": [
      "                                                                                \r"
     ]
    },
    {
     "name": "stdout",
     "output_type": "stream",
     "text": [
      "+----------------------------------+---------+\n",
      "|branch                            |code     |\n",
      "+----------------------------------+---------+\n",
      "|Artificial Intelligence           |G06N     |\n",
      "|Artificial Intelligence           |G06F19/00|\n",
      "|Artificial Intelligence           |G06F17/27|\n",
      "|Artificial Intelligence           |G06F17/28|\n",
      "|Artificial Intelligence           |G10L15/22|\n",
      "|Artificial Intelligence           |G06T     |\n",
      "|Artificial Intelligence           |G06K9/00 |\n",
      "|Data Science and Analytics        |G06F16/00|\n",
      "|Data Science and Analytics        |G06F17/00|\n",
      "|Data Science and Analytics        |H04L67/00|\n",
      "|Data Science and Analytics        |H04L12/28|\n",
      "|Data Science and Analytics        |G06F3/06 |\n",
      "|Data Science and Analytics        |G06F12/02|\n",
      "|Data Science and Analytics        |G06F16/27|\n",
      "|Data Science and Analytics        |H04L29/06|\n",
      "|Data Science and Analytics        |G06Q50/00|\n",
      "|Data Science and Analytics        |B82Y30/00|\n",
      "|Networking and Distributed Systems|H04L29/00|\n",
      "|Networking and Distributed Systems|H04L12/00|\n",
      "|Networking and Distributed Systems|H04W     |\n",
      "+----------------------------------+---------+\n",
      "only showing top 20 rows\n",
      "\n"
     ]
    }
   ],
   "source": [
    "branches_data = [\n",
    "    \n",
    "    (\"Artificial Intelligence\", [\"G06N\", \"G06F19/00\", \"G06F17/27\", \"G06F17/28\", \"G10L15/22\", \"G06T\", \"G06K9/00\"]),\n",
    "    (\"Data Science and Analytics\", [\"G06F16/00\", \"G06F17/00\", \"H04L67/00\", \"H04L12/28\", \n",
    "                                    \"G06F3/06\", \"G06F12/02\", \"G06F16/27\", \"H04L29/06\", \"G06Q50/00\", \"B82Y30/00\"]),\n",
    "    (\"Networking and Distributed Systems\", [\"H04L29/00\", \"H04L12/00\", \"H04W\", \"H04L12/24\", \"H04L67/10\", \"G06F9/50\", \"H04L67/22\", \"H04L29/08\", \"G06F9/46\", \"G06F15/173\", \"G06F15/16\"]),\n",
    "    (\"Software Development and Security\", [\"G06F8/00\", \"G06F9/00\", \"G06F9/44\", \"G06F9/451\", \"H04L67/02\", \"G06F3/048\", \"G06Q10/00\",\"G06F3/00\", \"H04L9/00\", \"G06F21/00\", \"G06Q20/40\"]),\n",
    "    (\"Advanced Computing Technologies\", [\"B25J9/00\", \"G05B19/00\", \"G06F15/18\", \"H03K17/00\", \"G09G5/00\", \"G06Q30/00\"])\n",
    "       \n",
    "]\n",
    "\n",
    "\n",
    "# Create the branches DataFrame\n",
    "branches_df = spark.createDataFrame(branches_data, [\"branch\", \"codes\"])\n",
    "\n",
    "# Explode the `codes` array into individual rows and remove spaces in codes\n",
    "branches_df_exploded = branches_df.withColumn(\"code\", explode(col(\"codes\"))).drop(\"codes\")\n",
    "\n",
    "branches_df_exploded.printSchema()\n",
    "branches_df_exploded.show(truncate=False)"
   ]
  },
  {
   "cell_type": "code",
   "execution_count": 4,
   "id": "a536cc8a-121d-49d1-890a-1f8f9096c1c5",
   "metadata": {},
   "outputs": [
    {
     "name": "stderr",
     "output_type": "stream",
     "text": [
      "                                                                                \r"
     ]
    },
    {
     "name": "stdout",
     "output_type": "stream",
     "text": [
      "+---------+-----------------------+----+\n",
      "|patent_id|branch                 |code|\n",
      "+---------+-----------------------+----+\n",
      "|4575628  |Artificial Intelligence|G06T|\n",
      "|4575628  |Artificial Intelligence|G06T|\n",
      "|4575628  |Artificial Intelligence|G06T|\n",
      "|4575751  |Artificial Intelligence|G06T|\n",
      "|4349739  |Artificial Intelligence|G06T|\n",
      "|4349739  |Artificial Intelligence|G06T|\n",
      "|4349739  |Artificial Intelligence|G06T|\n",
      "|4533957  |Artificial Intelligence|G06T|\n",
      "|4533959  |Artificial Intelligence|G06T|\n",
      "|4670781  |Artificial Intelligence|G06T|\n",
      "|4670788  |Artificial Intelligence|G06T|\n",
      "|4670788  |Artificial Intelligence|G06T|\n",
      "|4670788  |Artificial Intelligence|G06T|\n",
      "|4670788  |Artificial Intelligence|G06T|\n",
      "|4670793  |Artificial Intelligence|G06T|\n",
      "|4670793  |Artificial Intelligence|G06T|\n",
      "|4486784  |Artificial Intelligence|G06T|\n",
      "|4670840  |Artificial Intelligence|G06T|\n",
      "|4670840  |Artificial Intelligence|G06T|\n",
      "|4670848  |Artificial Intelligence|G06N|\n",
      "+---------+-----------------------+----+\n",
      "only showing top 20 rows\n",
      "\n",
      "root\n",
      " |-- patent_id: string (nullable = true)\n",
      " |-- branch: string (nullable = true)\n",
      " |-- code: string (nullable = true)\n",
      "\n"
     ]
    },
    {
     "name": "stderr",
     "output_type": "stream",
     "text": [
      "                                                                                \r"
     ]
    }
   ],
   "source": [
    "cpc_df = spark.read.parquet(\"input_parquet/cpc_info\")  \n",
    "\n",
    "# Step 3: Join the datasets to map patents to branches and codes\n",
    "filtered_patents = cpc_df.join(\n",
    "    branches_df_exploded, \n",
    "    (cpc_df.cpc_group == branches_df_exploded.code) | (cpc_df.cpc_subclass == branches_df_exploded.code), \n",
    "    \"inner\"\n",
    ").select(\"patent_id\", \"branch\", \"code\")\n",
    "\n",
    "filtered_patents.show(truncate=False)\n",
    "\n",
    "filtered_patents.printSchema()\n"
   ]
  },
  {
   "cell_type": "code",
   "execution_count": 5,
   "id": "0608c8d7-91cc-45e2-85fc-f80b50524b10",
   "metadata": {},
   "outputs": [
    {
     "name": "stderr",
     "output_type": "stream",
     "text": [
      "[Stage 5:========================================================>(79 + 1) / 80]\r"
     ]
    },
    {
     "name": "stdout",
     "output_type": "stream",
     "text": [
      "+---------+----------------------------------+---------+\n",
      "|patent_id|branch                            |code     |\n",
      "+---------+----------------------------------+---------+\n",
      "|10000036 |Data Science and Analytics        |B82Y30/00|\n",
      "|10001293 |Networking and Distributed Systems|H04L67/10|\n",
      "|10001380 |Networking and Distributed Systems|H04W     |\n",
      "|10001910 |Software Development and Security |G06F3/048|\n",
      "|10002005 |Software Development and Security |G06F9/451|\n",
      "|10002009 |Software Development and Security |G06F21/00|\n",
      "|10002036 |Networking and Distributed Systems|H04L67/10|\n",
      "|10002095 |Artificial Intelligence           |G06N     |\n",
      "|10002107 |Artificial Intelligence           |G06N     |\n",
      "|10002157 |Data Science and Analytics        |G06F16/27|\n",
      "|10002302 |Networking and Distributed Systems|H04W     |\n",
      "|10002323 |Artificial Intelligence           |G06N     |\n",
      "|10002325 |Artificial Intelligence           |G06N     |\n",
      "|10002327 |Artificial Intelligence           |G06N     |\n",
      "|10002337 |Artificial Intelligence           |G06T     |\n",
      "|10002394 |Networking and Distributed Systems|H04W     |\n",
      "|10002411 |Artificial Intelligence           |G06T     |\n",
      "|10002417 |Artificial Intelligence           |G06T     |\n",
      "|10002437 |Artificial Intelligence           |G06T     |\n",
      "|10002442 |Artificial Intelligence           |G06T     |\n",
      "+---------+----------------------------------+---------+\n",
      "only showing top 20 rows\n",
      "\n"
     ]
    },
    {
     "name": "stderr",
     "output_type": "stream",
     "text": [
      "                                                                                \r"
     ]
    }
   ],
   "source": [
    "unique_patents_df = filtered_patents.dropDuplicates([\"patent_id\"])\n",
    "\n",
    "unique_patents_df.show(truncate=False)\n",
    "\n",
    "#record_count = filtered_patents.count()\n",
    "#print(f\"Total number of records: {record_count}\")\n",
    "\n",
    "#record_count = unique_patents_df.count()\n",
    "#print(f\"Total number of unique records: {record_count}\")"
   ]
  },
  {
   "cell_type": "code",
   "execution_count": 6,
   "id": "e3b2b446-a5ec-47d5-b5f2-4367a74c58ce",
   "metadata": {},
   "outputs": [
    {
     "name": "stderr",
     "output_type": "stream",
     "text": [
      "[Stage 10:=======================================================>(79 + 1) / 80]\r"
     ]
    },
    {
     "name": "stdout",
     "output_type": "stream",
     "text": [
      "+-----------+-----------+-------------------------------------------------------------------------------------------------------------------------------------------------------+----------+--------------+-----------+-----------+---------+----------------------------------+---------+\n",
      "|patent_type|patent_date|patent_title                                                                                                                                           |num_claims|application_id|filing_date|series_code|patent_id|branch                            |code     |\n",
      "+-----------+-----------+-------------------------------------------------------------------------------------------------------------------------------------------------------+----------+--------------+-----------+-----------+---------+----------------------------------+---------+\n",
      "|utility    |2018-06-19 |High kinetic energy penetrator shielding and high wear resistance materials fabricated with boron nitride nanotubes (BNNTS) and BNNT polymer composites|20        |14753848      |2015-06-29 |14         |10000036 |Data Science and Analytics        |B82Y30/00|\n",
      "|utility    |2018-06-19 |Navigation using crowdsourcing data                                                                                                                    |12        |15149637      |2016-05-09 |15         |10001380 |Networking and Distributed Systems|H04W     |\n",
      "|utility    |2018-06-19 |Mobile terminal and controlling method thereof for creating shortcut of executing application                                                          |9         |14443153      |2015-01-21 |14         |10001910 |Software Development and Security |G06F3/048|\n",
      "|utility    |2018-06-19 |Displaying data related to media content                                                                                                               |21        |14502736      |2014-09-30 |14         |10002005 |Software Development and Security |G06F9/451|\n",
      "|utility    |2018-06-19 |System, method and computer program product for sharing information in a distributed framework                                                         |127       |15405110      |2017-01-12 |15         |10002036 |Networking and Distributed Systems|H04L67/10|\n",
      "|utility    |2018-06-19 |High performance interconnect physical layer                                                                                                           |27        |14672107      |2015-03-28 |14         |10002095 |Artificial Intelligence           |G06N     |\n",
      "|utility    |2018-06-19 |Method of host-directed illumination and system for conducting host-directed illumination                                                              |13        |15472451      |2017-03-29 |15         |10002302 |Networking and Distributed Systems|H04W     |\n",
      "|utility    |2018-06-19 |Approximate assignment operator for constrained based evolutionary search                                                                              |12        |14500092      |2014-09-29 |14         |10002323 |Artificial Intelligence           |G06N     |\n",
      "|utility    |2018-06-19 |Knowledge representation systems and methods incorporating inference rules                                                                             |15        |13345644      |2012-01-06 |13         |10002325 |Artificial Intelligence           |G06N     |\n",
      "|utility    |2018-06-19 |Systems, methods, devices and arrangements for emergency call services and emergency broadcasts                                                        |19        |15070986      |2016-03-15 |15         |10002327 |Artificial Intelligence           |G06N     |\n",
      "|utility    |2018-06-19 |Method for collaborative shopping                                                                                                                      |18        |13612593      |2012-09-12 |13         |10002337 |Artificial Intelligence           |G06T     |\n",
      "|utility    |2018-06-19 |Roadside reporter system                                                                                                                               |20        |15497401      |2017-04-26 |15         |10002394 |Networking and Distributed Systems|H04W     |\n",
      "|utility    |2018-06-19 |Ready for rotation state detection device, method of detecting ready for rotation state and substrate processing apparatus                             |15        |14281989      |2014-05-20 |14         |10002417 |Artificial Intelligence           |G06T     |\n",
      "|utility    |2018-06-19 |Method and electronic device of identifying redundant data                                                                                             |17        |15202586      |2016-07-06 |15         |10002437 |Artificial Intelligence           |G06T     |\n",
      "|utility    |2018-06-19 |Placement of augmented reality objects using a guide marker                                                                                            |20        |15850387      |2017-12-21 |15         |10002442 |Artificial Intelligence           |G06T     |\n",
      "|utility    |2018-06-19 |Data plot processing                                                                                                                                   |17        |13942904      |2013-07-16 |13         |10002458 |Artificial Intelligence           |G06T     |\n",
      "|utility    |2018-06-19 |Wear compensation for a display                                                                                                                        |25        |15085853      |2016-03-30 |15         |10002562 |Artificial Intelligence           |G06T     |\n",
      "|utility    |2018-06-19 |Guided wave communication system with interference cancellation and methods for use therewith                                                          |20        |15808131      |2017-11-09 |15         |10003364 |Networking and Distributed Systems|H04W     |\n",
      "|utility    |2018-06-19 |Key generating method and apparatus                                                                                                                    |4         |14867106      |2015-09-28 |14         |10003462 |Artificial Intelligence           |G06T     |\n",
      "|utility    |2018-06-19 |System for allocating sensor network resources                                                                                                         |20        |15134675      |2016-04-21 |15         |10003549 |Advanced Computing Technologies   |G06Q30/00|\n",
      "+-----------+-----------+-------------------------------------------------------------------------------------------------------------------------------------------------------+----------+--------------+-----------+-----------+---------+----------------------------------+---------+\n",
      "only showing top 20 rows\n",
      "\n"
     ]
    },
    {
     "name": "stderr",
     "output_type": "stream",
     "text": [
      "                                                                                \r"
     ]
    }
   ],
   "source": [
    "patent_df = spark.read.parquet(\"input_parquet/patent_info\")\n",
    "\n",
    "\n",
    "patents_filtered_df = patent_df.join(\n",
    "    unique_patents_df,\n",
    "    patent_df.patent_id == unique_patents_df.patent_id, \n",
    "    \"inner\"\n",
    ")\n",
    "\n",
    "patents_filtered_df = patents_filtered_df.drop(patent_df['patent_id'])\n",
    "\n",
    "patents_filtered_df.show(truncate=False)\n",
    "\n"
   ]
  },
  {
   "cell_type": "code",
   "execution_count": 7,
   "id": "f2d351f5-7740-4bbf-8a80-fb7e9aa9e1e9",
   "metadata": {},
   "outputs": [],
   "source": [
    "patent_df_with_years = patents_filtered_df.withColumn(\"grant_year\", year(col(\"patent_date\"))) \\\n",
    "                                .withColumn(\"filed_year\", year(col(\"filing_date\")))\n",
    "\n",
    "\n",
    "patent_df_with_years = patent_df_with_years.withColumn(\"grant_year\", make_date(col(\"grant_year\"), lit(1), lit(1)))\n",
    "patent_df_with_years = patent_df_with_years.withColumn(\"filed_year\", make_date(col(\"filed_year\"), lit(1), lit(1)))\n"
   ]
  },
  {
   "cell_type": "code",
   "execution_count": 8,
   "id": "a794827f-b93a-4171-814a-0ca5eef80d7f",
   "metadata": {},
   "outputs": [],
   "source": [
    "# Step 3: Group by Year and Aggregate Counts\n",
    "grant_counts = patent_df_with_years.groupBy(\"grant_year\", \"branch\").agg(\n",
    "    count(\"patent_id\").alias(\"patent_grant_count\")\n",
    ")\n",
    "\n",
    "filed_counts = patent_df_with_years.groupBy(\"filed_year\", \"branch\").agg(\n",
    "    count(\"patent_id\").alias(\"patent_filed_count\")\n",
    ")\n"
   ]
  },
  {
   "cell_type": "code",
   "execution_count": 9,
   "id": "da5af729-7a26-479a-8117-46251aefcdaa",
   "metadata": {},
   "outputs": [],
   "source": [
    "grant_counts = grant_counts.withColumnRenamed(\"branch\", \"grant_branch\")\n",
    "filed_counts = filed_counts.withColumnRenamed(\"branch\", \"filed_branch\")\n",
    "\n",
    "\n",
    "# Step 4: Combine Both Aggregations\n",
    "result = grant_counts.join(\n",
    "    filed_counts,\n",
    "    (grant_counts.grant_year == filed_counts.filed_year) & (grant_counts.grant_branch == filed_counts.filed_branch),    \n",
    "    \"full_outer\"\n",
    ")\n",
    "\n",
    "result_filled = result.fillna({\"patent_grant_count\": 0, \"patent_filed_count\": 0})\n"
   ]
  },
  {
   "cell_type": "code",
   "execution_count": 10,
   "id": "b3e2e83a-0ada-476d-9d82-c274f2e722c7",
   "metadata": {},
   "outputs": [
    {
     "name": "stderr",
     "output_type": "stream",
     "text": [
      "[Stage 21:============>                                             (2 + 7) / 9]\r"
     ]
    },
    {
     "name": "stdout",
     "output_type": "stream",
     "text": [
      "+----------------------------------+----------+-----------+-----------+\n",
      "|branch                            |year      |grant_count|filed_count|\n",
      "+----------------------------------+----------+-----------+-----------+\n",
      "|Software Development and Security |1959-01-01|0          |1          |\n",
      "|Networking and Distributed Systems|1965-01-01|0          |1          |\n",
      "|Artificial Intelligence           |1969-01-01|0          |1          |\n",
      "|Software Development and Security |1969-01-01|0          |2          |\n",
      "|Networking and Distributed Systems|1971-01-01|0          |1          |\n",
      "|Artificial Intelligence           |1972-01-01|0          |1          |\n",
      "|Artificial Intelligence           |1973-01-01|0          |8          |\n",
      "|Data Science and Analytics        |1973-01-01|0          |2          |\n",
      "|Networking and Distributed Systems|1973-01-01|0          |4          |\n",
      "|Software Development and Security |1973-01-01|0          |1          |\n",
      "|Artificial Intelligence           |1974-01-01|0          |27         |\n",
      "|Data Science and Analytics        |1974-01-01|0          |10         |\n",
      "|Networking and Distributed Systems|1974-01-01|0          |10         |\n",
      "|Software Development and Security |1974-01-01|0          |2          |\n",
      "|Advanced Computing Technologies   |1975-01-01|0          |1          |\n",
      "|Artificial Intelligence           |1975-01-01|0          |60         |\n",
      "|Data Science and Analytics        |1975-01-01|0          |15         |\n",
      "|Networking and Distributed Systems|1975-01-01|0          |36         |\n",
      "|Software Development and Security |1975-01-01|0          |2          |\n",
      "|Advanced Computing Technologies   |1976-01-01|1          |0          |\n",
      "+----------------------------------+----------+-----------+-----------+\n",
      "only showing top 20 rows\n",
      "\n"
     ]
    },
    {
     "name": "stderr",
     "output_type": "stream",
     "text": [
      "                                                                                \r"
     ]
    }
   ],
   "source": [
    "from pyspark.sql import functions as F\n",
    "\n",
    "\n",
    "final_result = result_filled.select(\n",
    "    F.coalesce(grant_counts.grant_branch, filed_counts.filed_branch).alias(\"branch\"),\n",
    "    F.coalesce(grant_counts.grant_year, filed_counts.filed_year).alias(\"year\"),\n",
    "    F.coalesce(result_filled.patent_grant_count, F.lit(0)).alias(\"grant_count\"),\n",
    "    F.coalesce(result_filled.patent_filed_count, F.lit(0)).alias(\"filed_count\")\n",
    ")\n",
    "\n",
    "# Show the result\n",
    "final_result.show(truncate=False)\n"
   ]
  },
  {
   "cell_type": "code",
   "execution_count": 11,
   "id": "c2c23b5f-744c-46dd-9bd9-f9459f0e2016",
   "metadata": {},
   "outputs": [
    {
     "name": "stderr",
     "output_type": "stream",
     "text": [
      "[Stage 38:>                 (0 + 8) / 9][Stage 43:>                 (0 + 0) / 1]\r"
     ]
    },
    {
     "name": "stdout",
     "output_type": "stream",
     "text": [
      "+----------+----------------------------------+-----------+-----------+------------------+\n",
      "|year      |branch                            |grant_count|filed_count|avg_claims        |\n",
      "+----------+----------------------------------+-----------+-----------+------------------+\n",
      "|1965-01-01|Networking and Distributed Systems|0          |1          |NULL              |\n",
      "|1975-01-01|Advanced Computing Technologies   |0          |1          |NULL              |\n",
      "|1974-01-01|Software Development and Security |0          |2          |NULL              |\n",
      "|1975-01-01|Artificial Intelligence           |0          |60         |NULL              |\n",
      "|1973-01-01|Artificial Intelligence           |0          |8          |NULL              |\n",
      "|1975-01-01|Software Development and Security |0          |2          |NULL              |\n",
      "|1973-01-01|Networking and Distributed Systems|0          |4          |NULL              |\n",
      "|1974-01-01|Data Science and Analytics        |0          |10         |NULL              |\n",
      "|1969-01-01|Artificial Intelligence           |0          |1          |NULL              |\n",
      "|1975-01-01|Networking and Distributed Systems|0          |36         |NULL              |\n",
      "|1975-01-01|Data Science and Analytics        |0          |15         |NULL              |\n",
      "|1973-01-01|Software Development and Security |0          |1          |NULL              |\n",
      "|1976-01-01|Artificial Intelligence           |46         |60         |16.217391304347824|\n",
      "|1971-01-01|Networking and Distributed Systems|0          |1          |NULL              |\n",
      "|1972-01-01|Artificial Intelligence           |0          |1          |NULL              |\n",
      "|1973-01-01|Data Science and Analytics        |0          |2          |NULL              |\n",
      "|1974-01-01|Networking and Distributed Systems|0          |10         |NULL              |\n",
      "|1976-01-01|Advanced Computing Technologies   |1          |0          |13.0              |\n",
      "|1959-01-01|Software Development and Security |0          |1          |NULL              |\n",
      "|1969-01-01|Software Development and Security |0          |2          |NULL              |\n",
      "+----------+----------------------------------+-----------+-----------+------------------+\n",
      "only showing top 20 rows\n",
      "\n"
     ]
    },
    {
     "name": "stderr",
     "output_type": "stream",
     "text": [
      "                                                                                \r"
     ]
    }
   ],
   "source": [
    "df_with_year = patents_filtered_df.withColumn(\"year\", F.year(\"patent_date\"))  # Or use grant_year if needed\n",
    "\n",
    "# Step 2: Group by year and branch, and calculate the average number of claims\n",
    "avg_claims = df_with_year.groupBy(\"year\", \"branch\").agg(\n",
    "    F.avg(\"num_claims\").alias(\"avg_claims\")\n",
    ")\n",
    "\n",
    "avg_claims = avg_claims.withColumn(\"year\", make_date(col(\"year\"), lit(1), lit(1)))\n",
    "\n",
    "combined_df = final_result.join(\n",
    "    avg_claims,\n",
    "    on=[\"year\", \"branch\"],\n",
    "    how=\"left\"\n",
    ")\n",
    "\n",
    "combined_df.show(truncate=False)"
   ]
  },
  {
   "cell_type": "code",
   "execution_count": 12,
   "id": "e82b9311-e707-488b-a646-4b9142d097d0",
   "metadata": {},
   "outputs": [],
   "source": [
    "inventor_data_path = \"input_parquet/inventor_info\"  # Path to the patent data\n",
    "inventor_df = spark.read.parquet(inventor_data_path)\n",
    "\n",
    "inventor_filtered_df = inventor_df.join(\n",
    "    patents_filtered_df,\n",
    "    inventor_df.patent_id == patents_filtered_df.patent_id, \n",
    "    \"inner\"\n",
    ")\n",
    "\n",
    "inventor_filtered_df = inventor_filtered_df.drop(inventor_df['patent_id'])\n",
    "\n",
    "inventor_df_with_year = inventor_filtered_df.withColumn(\"year\", F.year(\"patent_date\"))  # Or use grant_year if needed\n"
   ]
  },
  {
   "cell_type": "code",
   "execution_count": 13,
   "id": "f5e9bbed-ce61-4d4a-ae2c-b7519430c88a",
   "metadata": {},
   "outputs": [
    {
     "name": "stderr",
     "output_type": "stream",
     "text": [
      "                                                                                \r"
     ]
    },
    {
     "name": "stdout",
     "output_type": "stream",
     "text": [
      "+----------+----------------------------------+-----------+-----------+------------------+----------+\n",
      "|year      |branch                            |grant_count|filed_count|avg_claims        |male_count|\n",
      "+----------+----------------------------------+-----------+-----------+------------------+----------+\n",
      "|2024-01-01|Networking and Distributed Systems|17502      |56         |18.759227516855216|41876     |\n",
      "|2024-01-01|Data Science and Analytics        |1265       |3          |17.583399209486167|3208      |\n",
      "|2024-01-01|Software Development and Security |1524       |3          |19.211286089238847|3956      |\n",
      "|2024-01-01|Advanced Computing Technologies   |123        |0          |15.959349593495935|268       |\n",
      "|2024-01-01|Artificial Intelligence           |22116      |104        |18.173132573702297|56927     |\n",
      "|2023-01-01|Software Development and Security |2266       |365        |19.127537511032656|5831      |\n",
      "|2023-01-01|Artificial Intelligence           |29707      |3831       |18.430975864274412|76113     |\n",
      "|2023-01-01|Data Science and Analytics        |1833       |218        |17.451172940534644|4845      |\n",
      "|2023-01-01|Advanced Computing Technologies   |139        |22         |17.381294964028775|349       |\n",
      "|2023-01-01|Networking and Distributed Systems|22627      |2873       |19.372784726212046|54840     |\n",
      "|2022-01-01|Artificial Intelligence           |27949      |10547      |18.156141543525706|69732     |\n",
      "|2022-01-01|Data Science and Analytics        |2002       |703        |17.79270729270729 |5238      |\n",
      "|2022-01-01|Networking and Distributed Systems|23156      |8285       |18.546985662463292|53032     |\n",
      "|2022-01-01|Advanced Computing Technologies   |187        |65         |16.470588235294116|432       |\n",
      "|2022-01-01|Software Development and Security |2475       |1144       |18.694545454545455|6227      |\n",
      "|2021-01-01|Artificial Intelligence           |24902      |20203      |18.198257168098948|62727     |\n",
      "|2021-01-01|Software Development and Security |2829       |1670       |18.87557440791799 |7209      |\n",
      "|2021-01-01|Data Science and Analytics        |2118       |1088       |17.57932011331445 |5366      |\n",
      "|2021-01-01|Advanced Computing Technologies   |228        |86         |16.486842105263158|561       |\n",
      "|2021-01-01|Networking and Distributed Systems|23767      |17778      |18.368241679639837|54527     |\n",
      "+----------+----------------------------------+-----------+-----------+------------------+----------+\n",
      "only showing top 20 rows\n",
      "\n"
     ]
    }
   ],
   "source": [
    "# Step 2: Group by year and branch, and calculate the average number of claims\n",
    "\n",
    "inventer_with_gender = inventor_df_with_year.withColumn(\n",
    "    \"gender_code\",\n",
    "    F.coalesce(F.col(\"gender_code\"), F.lit(\"U\"))\n",
    ")\n",
    "\n",
    "\n",
    "\n",
    "male_df = inventer_with_gender.filter(F.col(\"gender_code\") == \"M\") \n",
    "\n",
    "male_count_df = male_df.groupBy(\"year\", \"branch\").agg(\n",
    "    count(\"patent_id\").alias(\"male_count\")\n",
    ")\n",
    "\n",
    "male_count_df = male_count_df.withColumn(\"year\", make_date(col(\"year\"), lit(1), lit(1)))\n",
    "\n",
    "male_combined_df = combined_df.join(\n",
    "    male_count_df,\n",
    "    on=[\"year\", \"branch\"],\n",
    "    how=\"left\"\n",
    ").orderBy(desc(\"year\"))\n",
    "\n",
    "\n",
    "male_combined_df.show(truncate=False)"
   ]
  },
  {
   "cell_type": "code",
   "execution_count": 14,
   "id": "ffcc085a-7062-4e8f-9bd9-b220c6b013ba",
   "metadata": {},
   "outputs": [
    {
     "name": "stderr",
     "output_type": "stream",
     "text": [
      "                                                                                \r"
     ]
    },
    {
     "name": "stdout",
     "output_type": "stream",
     "text": [
      "+----------+----------------------------------+-----------+-----------+------------------+----------+------------+\n",
      "|year      |branch                            |grant_count|filed_count|avg_claims        |male_count|female_count|\n",
      "+----------+----------------------------------+-----------+-----------+------------------+----------+------------+\n",
      "|2024-01-01|Networking and Distributed Systems|17502      |56         |18.759227516855216|41876     |7586        |\n",
      "|2024-01-01|Data Science and Analytics        |1265       |3          |17.583399209486167|3208      |607         |\n",
      "|2024-01-01|Software Development and Security |1524       |3          |19.211286089238847|3956      |680         |\n",
      "|2024-01-01|Advanced Computing Technologies   |123        |0          |15.959349593495935|268       |40          |\n",
      "|2024-01-01|Artificial Intelligence           |22116      |104        |18.173132573702297|56927     |10100       |\n",
      "|2023-01-01|Software Development and Security |2266       |365        |19.127537511032656|5831      |863         |\n",
      "|2023-01-01|Artificial Intelligence           |29707      |3831       |18.430975864274412|76113     |13283       |\n",
      "|2023-01-01|Data Science and Analytics        |1833       |218        |17.451172940534644|4845      |879         |\n",
      "|2023-01-01|Advanced Computing Technologies   |139        |22         |17.381294964028775|349       |51          |\n",
      "|2023-01-01|Networking and Distributed Systems|22627      |2873       |19.372784726212046|54840     |9997        |\n",
      "|2022-01-01|Artificial Intelligence           |27949      |10547      |18.156141543525706|69732     |11959       |\n",
      "|2022-01-01|Data Science and Analytics        |2002       |703        |17.79270729270729 |5238      |868         |\n",
      "|2022-01-01|Networking and Distributed Systems|23156      |8285       |18.546985662463292|53032     |9242        |\n",
      "|2022-01-01|Advanced Computing Technologies   |187        |65         |16.470588235294116|432       |65          |\n",
      "|2022-01-01|Software Development and Security |2475       |1144       |18.694545454545455|6227      |972         |\n",
      "|2021-01-01|Artificial Intelligence           |24902      |20203      |18.198257168098948|62727     |10048       |\n",
      "|2021-01-01|Software Development and Security |2829       |1670       |18.87557440791799 |7209      |1097        |\n",
      "|2021-01-01|Data Science and Analytics        |2118       |1088       |17.57932011331445 |5366      |933         |\n",
      "|2021-01-01|Advanced Computing Technologies   |228        |86         |16.486842105263158|561       |77          |\n",
      "|2021-01-01|Networking and Distributed Systems|23767      |17778      |18.368241679639837|54527     |9074        |\n",
      "+----------+----------------------------------+-----------+-----------+------------------+----------+------------+\n",
      "only showing top 20 rows\n",
      "\n"
     ]
    }
   ],
   "source": [
    "female_df = inventer_with_gender.filter(F.col(\"gender_code\") == \"F\") \n",
    "\n",
    "female_count_df = female_df.groupBy(\"year\", \"branch\").agg(\n",
    "    count(\"patent_id\").alias(\"female_count\")\n",
    ")\n",
    "\n",
    "female_count_df = female_count_df.withColumn(\"year\", make_date(col(\"year\"), lit(1), lit(1)))\n",
    "\n",
    "\n",
    "female_combined_df = male_combined_df.join(\n",
    "    female_count_df,\n",
    "    on=[\"year\", \"branch\"],\n",
    "    how=\"left\"\n",
    ").orderBy(desc(\"year\"))\n",
    "\n",
    "\n",
    "female_combined_df.show(truncate=False)"
   ]
  },
  {
   "cell_type": "code",
   "execution_count": 15,
   "id": "422ebd9b-2dc3-4909-a4c2-12ce92fe6f97",
   "metadata": {},
   "outputs": [],
   "source": [
    "unknown_df = inventer_with_gender.filter(F.col(\"gender_code\") == \"U\") \n",
    "\n",
    "unknown_count_df = unknown_df.groupBy(\"year\", \"branch\").agg(\n",
    "    count(\"patent_id\").alias(\"unknown_count\")\n",
    ")\n",
    "\n",
    "unknown_count_df = unknown_count_df.withColumn(\"year\", make_date(col(\"year\"), lit(1), lit(1)))\n",
    "\n",
    "unknown_count_df_filled = unknown_count_df.withColumn(\n",
    "    \"unknown_count\", \n",
    "    F.nanvl(F.col(\"unknown_count\"), F.lit(0))\n",
    ")\n",
    "\n",
    "unknown_combined_df = female_combined_df.join(\n",
    "    unknown_count_df,\n",
    "    on=[\"year\", \"branch\"],\n",
    "    how=\"left\"\n",
    ")\n",
    "\n",
    "\n"
   ]
  },
  {
   "cell_type": "code",
   "execution_count": 16,
   "id": "2084c35b-a2dd-4dad-8267-281e6c3d212c",
   "metadata": {},
   "outputs": [
    {
     "name": "stderr",
     "output_type": "stream",
     "text": [
      "[Stage 155:>  (0 + 8) / 9][Stage 160:>  (0 + 0) / 1][Stage 163:>  (0 + 0) / 1]0]\r"
     ]
    },
    {
     "name": "stdout",
     "output_type": "stream",
     "text": [
      "+----------+----------------------------------+-----------+-----------+-------------+------------+----------+------------------+\n",
      "|year      |branch                            |grant_count|filed_count|unknown_count|female_count|male_count|avg_claims        |\n",
      "+----------+----------------------------------+-----------+-----------+-------------+------------+----------+------------------+\n",
      "|1965-01-01|Networking and Distributed Systems|0          |1          |0            |0           |0         |0.0               |\n",
      "|1975-01-01|Advanced Computing Technologies   |0          |1          |0            |0           |0         |0.0               |\n",
      "|1974-01-01|Software Development and Security |0          |2          |0            |0           |0         |0.0               |\n",
      "|1975-01-01|Artificial Intelligence           |0          |60         |0            |0           |0         |0.0               |\n",
      "|1973-01-01|Artificial Intelligence           |0          |8          |0            |0           |0         |0.0               |\n",
      "|1975-01-01|Software Development and Security |0          |2          |0            |0           |0         |0.0               |\n",
      "|1973-01-01|Networking and Distributed Systems|0          |4          |0            |0           |0         |0.0               |\n",
      "|1974-01-01|Data Science and Analytics        |0          |10         |0            |0           |0         |0.0               |\n",
      "|1969-01-01|Artificial Intelligence           |0          |1          |0            |0           |0         |0.0               |\n",
      "|1975-01-01|Networking and Distributed Systems|0          |36         |0            |0           |0         |0.0               |\n",
      "|1975-01-01|Data Science and Analytics        |0          |15         |0            |0           |0         |0.0               |\n",
      "|1973-01-01|Software Development and Security |0          |1          |0            |0           |0         |0.0               |\n",
      "|1976-01-01|Artificial Intelligence           |46         |60         |8            |0           |81        |16.217391304347824|\n",
      "|1971-01-01|Networking and Distributed Systems|0          |1          |0            |0           |0         |0.0               |\n",
      "|1972-01-01|Artificial Intelligence           |0          |1          |0            |0           |0         |0.0               |\n",
      "|1973-01-01|Data Science and Analytics        |0          |2          |0            |0           |0         |0.0               |\n",
      "|1974-01-01|Networking and Distributed Systems|0          |10         |0            |0           |0         |0.0               |\n",
      "|1976-01-01|Advanced Computing Technologies   |1          |0          |0            |0           |4         |13.0              |\n",
      "|1959-01-01|Software Development and Security |0          |1          |0            |0           |0         |0.0               |\n",
      "|1969-01-01|Software Development and Security |0          |2          |0            |0           |0         |0.0               |\n",
      "+----------+----------------------------------+-----------+-----------+-------------+------------+----------+------------------+\n",
      "only showing top 20 rows\n",
      "\n"
     ]
    },
    {
     "name": "stderr",
     "output_type": "stream",
     "text": [
      "                                                                                \r"
     ]
    }
   ],
   "source": [
    "final_combined_result = unknown_combined_df.select(\n",
    "    unknown_combined_df.year,\n",
    "    unknown_combined_df.branch,\n",
    "    unknown_combined_df.grant_count,\n",
    "    unknown_combined_df.filed_count,\n",
    "    F.coalesce(unknown_combined_df.unknown_count, F.lit(0)).alias(\"unknown_count\"),\n",
    "    F.coalesce(unknown_combined_df.female_count, F.lit(0)).alias(\"female_count\"),\n",
    "    F.coalesce(unknown_combined_df.male_count, F.lit(0)).alias(\"male_count\"),\n",
    "    F.coalesce(unknown_combined_df.avg_claims, F.lit(0)).alias(\"avg_claims\")\n",
    ")\n",
    "\n",
    "final_combined_result.show(truncate=False)"
   ]
  },
  {
   "cell_type": "code",
   "execution_count": 17,
   "id": "6de84442-6bef-4fa5-9cda-140ad2e8c121",
   "metadata": {},
   "outputs": [
    {
     "name": "stdout",
     "output_type": "stream",
     "text": [
      "root\n",
      " |-- year: date (nullable = true)\n",
      " |-- branch: string (nullable = true)\n",
      " |-- grant_count: integer (nullable = false)\n",
      " |-- filed_count: integer (nullable = false)\n",
      " |-- male_count: integer (nullable = false)\n",
      " |-- female_count: integer (nullable = false)\n",
      " |-- unknown_count: integer (nullable = false)\n",
      " |-- avg_claims: float (nullable = false)\n",
      "\n"
     ]
    }
   ],
   "source": [
    "result_with_schema = final_combined_result.select(\n",
    "    col(\"year\").cast(DateType()),\n",
    "    col(\"branch\").cast(StringType()),\n",
    "    col(\"grant_count\").cast(IntegerType()),\n",
    "    col(\"filed_count\").cast(IntegerType()),\n",
    "    col(\"male_count\").cast(IntegerType()),\n",
    "    col(\"female_count\").cast(IntegerType()),\n",
    "    col(\"unknown_count\").cast(IntegerType()),\n",
    "    col(\"avg_claims\").cast(FloatType()),\n",
    ")\n",
    "\n",
    "result_with_schema.printSchema()"
   ]
  },
  {
   "cell_type": "code",
   "execution_count": 18,
   "id": "4904e154-f5a5-4bb1-bd41-e700b3e0a68d",
   "metadata": {},
   "outputs": [
    {
     "name": "stderr",
     "output_type": "stream",
     "text": [
      "                                                                                \r"
     ]
    }
   ],
   "source": [
    "result_with_schema.write.parquet(\"analytics_output_parquet/trend_analytics\", mode=\"overwrite\")"
   ]
  },
  {
   "cell_type": "code",
   "execution_count": null,
   "id": "a91072b7-15e6-422a-bc88-dd69f26ffe1d",
   "metadata": {},
   "outputs": [],
   "source": []
  }
 ],
 "metadata": {
  "kernelspec": {
   "display_name": "Python 3 (ipykernel)",
   "language": "python",
   "name": "python3"
  },
  "language_info": {
   "codemirror_mode": {
    "name": "ipython",
    "version": 3
   },
   "file_extension": ".py",
   "mimetype": "text/x-python",
   "name": "python",
   "nbconvert_exporter": "python",
   "pygments_lexer": "ipython3",
   "version": "3.10.6"
  }
 },
 "nbformat": 4,
 "nbformat_minor": 5
}
