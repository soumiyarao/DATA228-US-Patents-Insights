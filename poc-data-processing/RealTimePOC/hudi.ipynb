{
 "cells": [
  {
   "cell_type": "code",
   "execution_count": 1,
   "id": "1efbc7a0-0752-4cbf-adfc-2a10a4e9553b",
   "metadata": {},
   "outputs": [
    {
     "name": "stderr",
     "output_type": "stream",
     "text": [
      "24/11/27 12:01:48 WARN Utils: Your hostname, MacBook-Pro.local resolves to a loopback address: 127.0.0.1; using 10.0.0.33 instead (on interface en0)\n",
      "24/11/27 12:01:48 WARN Utils: Set SPARK_LOCAL_IP if you need to bind to another address\n",
      "Ivy Default Cache set to: /Users/bhland/.ivy2/cache\n",
      "The jars for the packages stored in: /Users/bhland/.ivy2/jars\n",
      "org.apache.hudi#hudi-spark3.5-bundle_2.12 added as a dependency\n",
      ":: resolving dependencies :: org.apache.spark#spark-submit-parent-a679abae-25f9-4de9-a22d-6621dbc7602d;1.0\n",
      "\tconfs: [default]\n",
      "\tfound org.apache.hudi#hudi-spark3.5-bundle_2.12;0.15.0 in central\n",
      "\tfound org.apache.hive#hive-storage-api;2.8.1 in central\n"
     ]
    },
    {
     "name": "stdout",
     "output_type": "stream",
     "text": [
      ":: loading settings :: url = jar:file:/Users/bhland/miniforge3/lib/python3.10/site-packages/pyspark/jars/ivy-2.5.1.jar!/org/apache/ivy/core/settings/ivysettings.xml\n"
     ]
    },
    {
     "name": "stderr",
     "output_type": "stream",
     "text": [
      "\tfound org.slf4j#slf4j-api;1.7.36 in local-m2-cache\n",
      ":: resolution report :: resolve 77ms :: artifacts dl 2ms\n",
      "\t:: modules in use:\n",
      "\torg.apache.hive#hive-storage-api;2.8.1 from central in [default]\n",
      "\torg.apache.hudi#hudi-spark3.5-bundle_2.12;0.15.0 from central in [default]\n",
      "\torg.slf4j#slf4j-api;1.7.36 from local-m2-cache in [default]\n",
      "\t---------------------------------------------------------------------\n",
      "\t|                  |            modules            ||   artifacts   |\n",
      "\t|       conf       | number| search|dwnlded|evicted|| number|dwnlded|\n",
      "\t---------------------------------------------------------------------\n",
      "\t|      default     |   3   |   0   |   0   |   0   ||   3   |   0   |\n",
      "\t---------------------------------------------------------------------\n",
      ":: retrieving :: org.apache.spark#spark-submit-parent-a679abae-25f9-4de9-a22d-6621dbc7602d\n",
      "\tconfs: [default]\n",
      "\t0 artifacts copied, 3 already retrieved (0kB/3ms)\n",
      "24/11/27 12:01:48 WARN NativeCodeLoader: Unable to load native-hadoop library for your platform... using builtin-java classes where applicable\n",
      "Setting default log level to \"WARN\".\n",
      "To adjust logging level use sc.setLogLevel(newLevel). For SparkR, use setLogLevel(newLevel).\n"
     ]
    }
   ],
   "source": [
    "from pyspark.sql import SparkSession\n",
    "from pyspark.sql.functions import col, avg, count\n",
    "from pyspark.sql import Row\n",
    "\n",
    "# Step 2.1: Initialize Spark Session\n",
    "spark = SparkSession.builder \\\n",
    "    .appName(\"Hudi Example\") \\\n",
    "    .config(\"spark.jars.packages\", \"org.apache.hudi:hudi-spark3.5-bundle_2.12:0.15.0\") \\\n",
    "    .config(\"spark.serializer\", \"org.apache.spark.serializer.KryoSerializer\") \\\n",
    "    .config(\"spark.sql.catalog.spark_catalog\", \"org.apache.spark.sql.hudi.catalog.HoodieCatalog\") \\\n",
    "    .config(\"spark.driver.memory\", \"4g\") \\\n",
    "    .config(\"spark.executor.memory\", \"4g\") \\\n",
    "    .getOrCreate()\n"
   ]
  },
  {
   "cell_type": "code",
   "execution_count": 2,
   "id": "1f533246-d51d-47ce-8663-97dbae2b919c",
   "metadata": {},
   "outputs": [
    {
     "name": "stderr",
     "output_type": "stream",
     "text": [
      "                                                                                \r"
     ]
    },
    {
     "name": "stdout",
     "output_type": "stream",
     "text": [
      "+---+-----------+------+\n",
      "| id|   category| price|\n",
      "+---+-----------+------+\n",
      "|  1|Electronics|299.99|\n",
      "|  2|      Books| 15.99|\n",
      "|  3|   Clothing| 49.99|\n",
      "|  4|  Furniture| 89.99|\n",
      "+---+-----------+------+\n",
      "\n"
     ]
    },
    {
     "name": "stderr",
     "output_type": "stream",
     "text": [
      "24/11/27 11:37:16 WARN DFSPropertiesConfiguration: Cannot find HUDI_CONF_DIR, please set it as the dir of hudi-defaults.conf\n",
      "24/11/27 11:37:16 WARN DFSPropertiesConfiguration: Properties file file:/etc/hudi/conf/hudi-defaults.conf not found. Ignoring to load props file\n",
      "24/11/27 11:37:17 WARN MetricsConfig: Cannot locate configuration: tried hadoop-metrics2-hbase.properties,hadoop-metrics2.properties\n"
     ]
    },
    {
     "name": "stdout",
     "output_type": "stream",
     "text": [
      "# WARNING: Unable to get Instrumentation. Dynamic Attach failed. You may add this JAR as -javaagent manually, or supply -Djdk.attach.allowAttachSelf\n",
      "# WARNING: Unable to attach Serviceability Agent. Unable to attach even with module exceptions: [org.apache.hudi.org.openjdk.jol.vm.sa.SASupportException: Sense failed., org.apache.hudi.org.openjdk.jol.vm.sa.SASupportException: Sense failed., org.apache.hudi.org.openjdk.jol.vm.sa.SASupportException: Sense failed.]\n",
      "Hudi table created at: file:///Volumes/BH_Land/BigData Project/Dataset/RealTimePOC/output/hudi_streaming_table\n"
     ]
    },
    {
     "name": "stderr",
     "output_type": "stream",
     "text": [
      "24/11/27 11:37:19 WARN HoodieSparkSqlWriterInternal: Closing write client\n"
     ]
    }
   ],
   "source": [
    "# Define sample data\n",
    "sample_data = [\n",
    "    Row(id=1, category=\"Electronics\", price=299.99),\n",
    "    Row(id=2, category=\"Books\", price=15.99),\n",
    "    Row(id=3, category=\"Clothing\", price=49.99),\n",
    "    Row(id=4, category=\"Furniture\", price=89.99),\n",
    "]\n",
    "\n",
    "# Create DataFrame\n",
    "schema_df = spark.createDataFrame(sample_data)\n",
    "schema_df.show()\n",
    "\n",
    "\n",
    "# Hudi options\n",
    "hudi_options_insert = {\n",
    "    'hoodie.table.name': 'hudi_streaming_table',\n",
    "    'hoodie.datasource.write.recordkey.field': 'id',  # Primary key\n",
    "    'hoodie.datasource.write.partitionpath.field': '',  # Non-partitioned table\n",
    "    'hoodie.datasource.write.hive_style_partitioning': 'false',\n",
    "    'hoodie.datasource.write.precombine.field': 'price',  # Used for deduplication\n",
    "    'hoodie.datasource.write.operation': 'insert',  # Initial insert\n",
    "    'hoodie.insert.shuffle.parallelism': 2,\n",
    "    'hoodie.upsert.shuffle.parallelism': 2,\n",
    "    'hoodie.write.handle.insert.skip.null.record': 'true'\n",
    "}\n",
    "\n",
    "# Output path for Hudi table\n",
    "output_path = \"file:///Users/bhland/Big_Data_Project/RealTimePOC/output/hudi_streaming_table\" \n",
    "\n",
    "# Write the DataFrame to Hudi\n",
    "schema_df.write.format(\"hudi\").options(**hudi_options_insert).mode(\"overwrite\").save(output_path)\n",
    "\n",
    "print(f\"Hudi table created at: {output_path}\")"
   ]
  },
  {
   "cell_type": "code",
   "execution_count": 3,
   "id": "162b237d-bec6-4d94-84cf-9ac42695116a",
   "metadata": {},
   "outputs": [
    {
     "name": "stdout",
     "output_type": "stream",
     "text": [
      "+-------------------+--------------------+------------------+----------------------+--------------------+---+-----------+------+\n",
      "|_hoodie_commit_time|_hoodie_commit_seqno|_hoodie_record_key|_hoodie_partition_path|   _hoodie_file_name| id|   category| price|\n",
      "+-------------------+--------------------+------------------+----------------------+--------------------+---+-----------+------+\n",
      "|  20241127113716384|20241127113716384...|                 1|                      |07ec6f27-a6ff-46c...|  1|Electronics|299.99|\n",
      "|  20241127113716384|20241127113716384...|                 2|                      |07ec6f27-a6ff-46c...|  2|      Books| 15.99|\n",
      "|  20241127113716384|20241127113716384...|                 3|                      |07ec6f27-a6ff-46c...|  3|   Clothing| 49.99|\n",
      "|  20241127113716384|20241127113716384...|                 4|                      |07ec6f27-a6ff-46c...|  4|  Furniture| 89.99|\n",
      "+-------------------+--------------------+------------------+----------------------+--------------------+---+-----------+------+\n",
      "\n"
     ]
    }
   ],
   "source": [
    "hudi_df = spark.read.format(\"hudi\").load(output_path)\n",
    "hudi_df.show()"
   ]
  },
  {
   "cell_type": "code",
   "execution_count": 3,
   "id": "53920981-9484-4f41-9dc5-7809f66064bd",
   "metadata": {},
   "outputs": [
    {
     "name": "stderr",
     "output_type": "stream",
     "text": [
      "24/11/27 12:02:44 WARN HoodieStreamingSink: Ignore TableNotFoundException as it is first microbatch.\n",
      "24/11/27 12:02:44 WARN ResolveWriteToStream: spark.sql.adaptive.enabled is not supported in streaming DataFrames/Datasets and will be disabled.\n",
      "24/11/27 12:02:54 WARN DFSPropertiesConfiguration: Cannot find HUDI_CONF_DIR, please set it as the dir of hudi-defaults.conf\n",
      "24/11/27 12:02:54 WARN DFSPropertiesConfiguration: Properties file file:/etc/hudi/conf/hudi-defaults.conf not found. Ignoring to load props file\n",
      "24/11/27 12:02:54 WARN HoodieWriteConfig: Embedded timeline server is disabled, fallback to use direct marker type for spark\n",
      "24/11/27 12:02:55 WARN MetricsConfig: Cannot locate configuration: tried hadoop-metrics2-hbase.properties,hadoop-metrics2.properties\n",
      "                                                                                \r"
     ]
    },
    {
     "name": "stdout",
     "output_type": "stream",
     "text": [
      "# WARNING: Unable to get Instrumentation. Dynamic Attach failed. You may add this JAR as -javaagent manually, or supply -Djdk.attach.allowAttachSelf\n",
      "# WARNING: Unable to attach Serviceability Agent. Unable to attach even with module exceptions: [org.apache.hudi.org.openjdk.jol.vm.sa.SASupportException: Sense failed., org.apache.hudi.org.openjdk.jol.vm.sa.SASupportException: Sense failed., org.apache.hudi.org.openjdk.jol.vm.sa.SASupportException: Sense failed.]\n"
     ]
    },
    {
     "name": "stderr",
     "output_type": "stream",
     "text": [
      "24/11/27 12:02:59 WARN HoodieSparkSqlWriterInternal: Closing write client\n",
      "ERROR:root:KeyboardInterrupt while sending command.\n",
      "Traceback (most recent call last):\n",
      "  File \"/Users/bhland/miniforge3/lib/python3.10/site-packages/py4j/java_gateway.py\", line 1038, in send_command\n",
      "    response = connection.send_command(command)\n",
      "  File \"/Users/bhland/miniforge3/lib/python3.10/site-packages/py4j/clientserver.py\", line 511, in send_command\n",
      "    answer = smart_decode(self.stream.readline()[:-1])\n",
      "  File \"/Users/bhland/miniforge3/lib/python3.10/socket.py\", line 705, in readinto\n",
      "    return self._sock.recv_into(b)\n",
      "KeyboardInterrupt\n"
     ]
    },
    {
     "ename": "KeyboardInterrupt",
     "evalue": "",
     "output_type": "error",
     "traceback": [
      "\u001b[0;31m---------------------------------------------------------------------------\u001b[0m",
      "\u001b[0;31mKeyboardInterrupt\u001b[0m                         Traceback (most recent call last)",
      "Cell \u001b[0;32mIn[3], line 54\u001b[0m\n\u001b[1;32m     45\u001b[0m hudi_query \u001b[38;5;241m=\u001b[39m agg_stream_df\u001b[38;5;241m.\u001b[39mwriteStream \\\n\u001b[1;32m     46\u001b[0m     \u001b[38;5;241m.\u001b[39mformat(\u001b[38;5;124m\"\u001b[39m\u001b[38;5;124mhudi\u001b[39m\u001b[38;5;124m\"\u001b[39m) \\\n\u001b[1;32m     47\u001b[0m     \u001b[38;5;241m.\u001b[39moptions(\u001b[38;5;241m*\u001b[39m\u001b[38;5;241m*\u001b[39mhudi_options_stream) \\\n\u001b[1;32m     48\u001b[0m     \u001b[38;5;241m.\u001b[39moutputMode(\u001b[38;5;124m\"\u001b[39m\u001b[38;5;124mupdate\u001b[39m\u001b[38;5;124m\"\u001b[39m) \\\n\u001b[1;32m     49\u001b[0m     \u001b[38;5;241m.\u001b[39moption(\u001b[38;5;124m\"\u001b[39m\u001b[38;5;124mcheckpointLocation\u001b[39m\u001b[38;5;124m\"\u001b[39m, \u001b[38;5;124m\"\u001b[39m\u001b[38;5;124mfile:///Users/bhland/Big_Data_Project/RealTimePOC/output/checkpoint_dir\u001b[39m\u001b[38;5;124m\"\u001b[39m) \\\n\u001b[1;32m     50\u001b[0m     \u001b[38;5;241m.\u001b[39mstart(output_path)\n\u001b[1;32m     53\u001b[0m \u001b[38;5;66;03m# Await termination to keep the stream running\u001b[39;00m\n\u001b[0;32m---> 54\u001b[0m \u001b[43mhudi_query\u001b[49m\u001b[38;5;241;43m.\u001b[39;49m\u001b[43mawaitTermination\u001b[49m\u001b[43m(\u001b[49m\u001b[43m)\u001b[49m\n",
      "File \u001b[0;32m~/miniforge3/lib/python3.10/site-packages/pyspark/sql/streaming/query.py:221\u001b[0m, in \u001b[0;36mStreamingQuery.awaitTermination\u001b[0;34m(self, timeout)\u001b[0m\n\u001b[1;32m    219\u001b[0m     \u001b[38;5;28;01mreturn\u001b[39;00m \u001b[38;5;28mself\u001b[39m\u001b[38;5;241m.\u001b[39m_jsq\u001b[38;5;241m.\u001b[39mawaitTermination(\u001b[38;5;28mint\u001b[39m(timeout \u001b[38;5;241m*\u001b[39m \u001b[38;5;241m1000\u001b[39m))\n\u001b[1;32m    220\u001b[0m \u001b[38;5;28;01melse\u001b[39;00m:\n\u001b[0;32m--> 221\u001b[0m     \u001b[38;5;28;01mreturn\u001b[39;00m \u001b[38;5;28;43mself\u001b[39;49m\u001b[38;5;241;43m.\u001b[39;49m\u001b[43m_jsq\u001b[49m\u001b[38;5;241;43m.\u001b[39;49m\u001b[43mawaitTermination\u001b[49m\u001b[43m(\u001b[49m\u001b[43m)\u001b[49m\n",
      "File \u001b[0;32m~/miniforge3/lib/python3.10/site-packages/py4j/java_gateway.py:1321\u001b[0m, in \u001b[0;36mJavaMember.__call__\u001b[0;34m(self, *args)\u001b[0m\n\u001b[1;32m   1314\u001b[0m args_command, temp_args \u001b[38;5;241m=\u001b[39m \u001b[38;5;28mself\u001b[39m\u001b[38;5;241m.\u001b[39m_build_args(\u001b[38;5;241m*\u001b[39margs)\n\u001b[1;32m   1316\u001b[0m command \u001b[38;5;241m=\u001b[39m proto\u001b[38;5;241m.\u001b[39mCALL_COMMAND_NAME \u001b[38;5;241m+\u001b[39m\\\n\u001b[1;32m   1317\u001b[0m     \u001b[38;5;28mself\u001b[39m\u001b[38;5;241m.\u001b[39mcommand_header \u001b[38;5;241m+\u001b[39m\\\n\u001b[1;32m   1318\u001b[0m     args_command \u001b[38;5;241m+\u001b[39m\\\n\u001b[1;32m   1319\u001b[0m     proto\u001b[38;5;241m.\u001b[39mEND_COMMAND_PART\n\u001b[0;32m-> 1321\u001b[0m answer \u001b[38;5;241m=\u001b[39m \u001b[38;5;28;43mself\u001b[39;49m\u001b[38;5;241;43m.\u001b[39;49m\u001b[43mgateway_client\u001b[49m\u001b[38;5;241;43m.\u001b[39;49m\u001b[43msend_command\u001b[49m\u001b[43m(\u001b[49m\u001b[43mcommand\u001b[49m\u001b[43m)\u001b[49m\n\u001b[1;32m   1322\u001b[0m return_value \u001b[38;5;241m=\u001b[39m get_return_value(\n\u001b[1;32m   1323\u001b[0m     answer, \u001b[38;5;28mself\u001b[39m\u001b[38;5;241m.\u001b[39mgateway_client, \u001b[38;5;28mself\u001b[39m\u001b[38;5;241m.\u001b[39mtarget_id, \u001b[38;5;28mself\u001b[39m\u001b[38;5;241m.\u001b[39mname)\n\u001b[1;32m   1325\u001b[0m \u001b[38;5;28;01mfor\u001b[39;00m temp_arg \u001b[38;5;129;01min\u001b[39;00m temp_args:\n",
      "File \u001b[0;32m~/miniforge3/lib/python3.10/site-packages/py4j/java_gateway.py:1038\u001b[0m, in \u001b[0;36mGatewayClient.send_command\u001b[0;34m(self, command, retry, binary)\u001b[0m\n\u001b[1;32m   1036\u001b[0m connection \u001b[38;5;241m=\u001b[39m \u001b[38;5;28mself\u001b[39m\u001b[38;5;241m.\u001b[39m_get_connection()\n\u001b[1;32m   1037\u001b[0m \u001b[38;5;28;01mtry\u001b[39;00m:\n\u001b[0;32m-> 1038\u001b[0m     response \u001b[38;5;241m=\u001b[39m \u001b[43mconnection\u001b[49m\u001b[38;5;241;43m.\u001b[39;49m\u001b[43msend_command\u001b[49m\u001b[43m(\u001b[49m\u001b[43mcommand\u001b[49m\u001b[43m)\u001b[49m\n\u001b[1;32m   1039\u001b[0m     \u001b[38;5;28;01mif\u001b[39;00m binary:\n\u001b[1;32m   1040\u001b[0m         \u001b[38;5;28;01mreturn\u001b[39;00m response, \u001b[38;5;28mself\u001b[39m\u001b[38;5;241m.\u001b[39m_create_connection_guard(connection)\n",
      "File \u001b[0;32m~/miniforge3/lib/python3.10/site-packages/py4j/clientserver.py:511\u001b[0m, in \u001b[0;36mClientServerConnection.send_command\u001b[0;34m(self, command)\u001b[0m\n\u001b[1;32m    509\u001b[0m \u001b[38;5;28;01mtry\u001b[39;00m:\n\u001b[1;32m    510\u001b[0m     \u001b[38;5;28;01mwhile\u001b[39;00m \u001b[38;5;28;01mTrue\u001b[39;00m:\n\u001b[0;32m--> 511\u001b[0m         answer \u001b[38;5;241m=\u001b[39m smart_decode(\u001b[38;5;28;43mself\u001b[39;49m\u001b[38;5;241;43m.\u001b[39;49m\u001b[43mstream\u001b[49m\u001b[38;5;241;43m.\u001b[39;49m\u001b[43mreadline\u001b[49m\u001b[43m(\u001b[49m\u001b[43m)\u001b[49m[:\u001b[38;5;241m-\u001b[39m\u001b[38;5;241m1\u001b[39m])\n\u001b[1;32m    512\u001b[0m         logger\u001b[38;5;241m.\u001b[39mdebug(\u001b[38;5;124m\"\u001b[39m\u001b[38;5;124mAnswer received: \u001b[39m\u001b[38;5;132;01m{0}\u001b[39;00m\u001b[38;5;124m\"\u001b[39m\u001b[38;5;241m.\u001b[39mformat(answer))\n\u001b[1;32m    513\u001b[0m         \u001b[38;5;66;03m# Happens when a the other end is dead. There might be an empty\u001b[39;00m\n\u001b[1;32m    514\u001b[0m         \u001b[38;5;66;03m# answer before the socket raises an error.\u001b[39;00m\n",
      "File \u001b[0;32m~/miniforge3/lib/python3.10/socket.py:705\u001b[0m, in \u001b[0;36mSocketIO.readinto\u001b[0;34m(self, b)\u001b[0m\n\u001b[1;32m    703\u001b[0m \u001b[38;5;28;01mwhile\u001b[39;00m \u001b[38;5;28;01mTrue\u001b[39;00m:\n\u001b[1;32m    704\u001b[0m     \u001b[38;5;28;01mtry\u001b[39;00m:\n\u001b[0;32m--> 705\u001b[0m         \u001b[38;5;28;01mreturn\u001b[39;00m \u001b[38;5;28;43mself\u001b[39;49m\u001b[38;5;241;43m.\u001b[39;49m\u001b[43m_sock\u001b[49m\u001b[38;5;241;43m.\u001b[39;49m\u001b[43mrecv_into\u001b[49m\u001b[43m(\u001b[49m\u001b[43mb\u001b[49m\u001b[43m)\u001b[49m\n\u001b[1;32m    706\u001b[0m     \u001b[38;5;28;01mexcept\u001b[39;00m timeout:\n\u001b[1;32m    707\u001b[0m         \u001b[38;5;28mself\u001b[39m\u001b[38;5;241m.\u001b[39m_timeout_occurred \u001b[38;5;241m=\u001b[39m \u001b[38;5;28;01mTrue\u001b[39;00m\n",
      "\u001b[0;31mKeyboardInterrupt\u001b[0m: "
     ]
    }
   ],
   "source": [
    "# Step 2.2: Read JSON File into a Spark DataFrame\n",
    "input_path = \"file:///Users/bhland/Big_Data_Project/RealTimePOC/input\"  # Update this path\n",
    "\n",
    "# Step 2.3: Read JSON Files as a Streaming Source\n",
    "json_stream_df = spark.readStream \\\n",
    "    .format(\"json\") \\\n",
    "    .schema(\"id INT, category STRING, price DOUBLE\") \\\n",
    "    .load(input_path)\n",
    "\n",
    "json_stream_df = json_stream_df.na.drop(how=\"any\")\n",
    "\n",
    "'''\n",
    "print_query = json_stream_df.writeStream \\\n",
    "    .outputMode(\"append\") \\\n",
    "    .format(\"console\") \\\n",
    "    .option(\"truncate\", \"false\") \\\n",
    "    .start()\n",
    "\n",
    "print_query.awaitTermination()\n",
    "'''\n",
    "\n",
    "# Step 2.4: Apply Aggregation Transformation\n",
    "agg_stream_df = json_stream_df.groupBy(\"category\").agg(\n",
    "    count(\"id\").alias(\"count\"),\n",
    "    avg(\"price\").alias(\"avg_price\")\n",
    ")\n",
    "\n",
    "# Step 2.4: Define Hudi Options\n",
    "hudi_options_stream = {\n",
    "    'hoodie.table.name': 'hudi_streaming_table',\n",
    "    'hoodie.datasource.write.recordkey.field': 'category',\n",
    "    'hoodie.datasource.write.precombine.field': 'avg_price',\n",
    "    'hoodie.datasource.write.table.name': 'hudi_streaming_table',\n",
    "    'hoodie.datasource.write.operation': 'upsert',\n",
    "    'hoodie.datasource.write.hive_style_partitioning': 'true',\n",
    "    'hoodie.upsert.shuffle.parallelism': 2,\n",
    "    'hoodie.insert.shuffle.parallelism': 2,\n",
    "    'hoodie.write.handle.insert.skip.null.record': 'true'\n",
    "}\n",
    "\n",
    "# Output path for Hudi table\n",
    "output_path = \"file:///Users/bhland/Big_Data_Project/RealTimePOC/output/hudi_streaming_table\" \n",
    "\n",
    "# Step 2.6: Write to Hudi Table Using Structured Streaming\n",
    "hudi_query = agg_stream_df.writeStream \\\n",
    "    .format(\"hudi\") \\\n",
    "    .options(**hudi_options_stream) \\\n",
    "    .outputMode(\"update\") \\\n",
    "    .option(\"checkpointLocation\", \"file:///Users/bhland/Big_Data_Project/RealTimePOC/output/checkpoint_dir\") \\\n",
    "    .start(output_path)\n",
    "\n",
    "\n",
    "# Await termination to keep the stream running\n",
    "hudi_query.awaitTermination()\n",
    "\n"
   ]
  },
  {
   "cell_type": "code",
   "execution_count": 4,
   "id": "9cad9341-0f03-4380-bd51-dc8cb0f38ee7",
   "metadata": {},
   "outputs": [
    {
     "name": "stdout",
     "output_type": "stream",
     "text": [
      "+-------------------+--------------------+------------------+----------------------+--------------------+-----------+-----+-----------------+\n",
      "|_hoodie_commit_time|_hoodie_commit_seqno|_hoodie_record_key|_hoodie_partition_path|   _hoodie_file_name|   category|count|        avg_price|\n",
      "+-------------------+--------------------+------------------+----------------------+--------------------+-----------+-----+-----------------+\n",
      "|  20241127120254388|20241127120254388...|       electronics|                      |081f6589-f80b-4f6...|electronics|    3|328.3333333333333|\n",
      "|  20241127120254388|20241127120254388...|        appliances|                      |081f6589-f80b-4f6...| appliances|    1|            850.0|\n",
      "|  20241127120254388|20241127120254388...|         furniture|                      |081f6589-f80b-4f6...|  furniture|    2|            550.0|\n",
      "+-------------------+--------------------+------------------+----------------------+--------------------+-----------+-----+-----------------+\n",
      "\n"
     ]
    }
   ],
   "source": [
    "hudi_df = spark.read.format(\"hudi\").load(output_path)\n",
    "hudi_df.show()"
   ]
  },
  {
   "cell_type": "code",
   "execution_count": null,
   "id": "44d5a84a-2101-4020-8f54-bed008979ad5",
   "metadata": {},
   "outputs": [],
   "source": []
  }
 ],
 "metadata": {
  "kernelspec": {
   "display_name": "Python 3 (ipykernel)",
   "language": "python",
   "name": "python3"
  },
  "language_info": {
   "codemirror_mode": {
    "name": "ipython",
    "version": 3
   },
   "file_extension": ".py",
   "mimetype": "text/x-python",
   "name": "python",
   "nbconvert_exporter": "python",
   "pygments_lexer": "ipython3",
   "version": "3.10.6"
  }
 },
 "nbformat": 4,
 "nbformat_minor": 5
}
