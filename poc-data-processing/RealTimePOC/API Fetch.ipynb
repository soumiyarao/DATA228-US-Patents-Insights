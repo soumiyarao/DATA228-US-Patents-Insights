{
 "cells": [
  {
   "cell_type": "code",
   "execution_count": 1,
   "id": "7be0a748-4761-45b4-bdc4-dda0a4e860ed",
   "metadata": {},
   "outputs": [
    {
     "name": "stdout",
     "output_type": "stream",
     "text": [
      "Data written to output/cat_facts_1.txt\n",
      "Data written to output/cat_facts_2.txt\n",
      "Data written to output/cat_facts_3.txt\n",
      "Data written to output/cat_facts_4.txt\n",
      "Data written to output/cat_facts_5.txt\n"
     ]
    }
   ],
   "source": [
    "import requests\n",
    "import time\n",
    "import os\n",
    "\n",
    "def fetch_cat_facts(output_dir, interval=5, num_fetches=5):\n",
    "    \"\"\"\n",
    "    Fetch random cat facts from the Cat Facts API and write them to a new file.\n",
    "    :param output_dir: Directory to store the output files\n",
    "    :param interval: Time interval (seconds) between API calls\n",
    "    :param num_fetches: Number of times to fetch data\n",
    "    \"\"\"\n",
    "    api_url = \"https://catfact.ninja/fact\"\n",
    "    \n",
    "    for i in range(num_fetches):  # Fetch 5 times\n",
    "        response = requests.get(api_url)\n",
    "        \n",
    "        if response.status_code == 200:\n",
    "            data = response.json()  # Convert JSON response to a Python dictionary\n",
    "            \n",
    "            # Create a new file with a unique name for each fetch\n",
    "            file_name = os.path.join(output_dir, f\"cat_facts_{i+1}.txt\")\n",
    "            \n",
    "            with open(file_name, \"w\") as file:\n",
    "                file.write(f\"{data}\\n\")\n",
    "            \n",
    "            print(f\"Data written to {file_name}\")\n",
    "        else:\n",
    "            print(f\"Failed to fetch data: {response.status_code}\")\n",
    "        \n",
    "        time.sleep(interval)\n",
    "\n",
    "# Directory to store the cat facts\n",
    "output_dir = \"output\"\n",
    "os.makedirs(output_dir, exist_ok=True)  # Create the directory if it doesn't exist\n",
    "\n",
    "# Start fetching cat facts\n",
    "fetch_cat_facts(output_dir)\n"
   ]
  },
  {
   "cell_type": "code",
   "execution_count": null,
   "id": "4a13a088-5d85-41fc-92c4-c7f744c51c84",
   "metadata": {},
   "outputs": [],
   "source": []
  },
  {
   "cell_type": "code",
   "execution_count": null,
   "id": "25cb5b2a-b4f6-4edf-bfa4-0f64126fef33",
   "metadata": {},
   "outputs": [],
   "source": []
  }
 ],
 "metadata": {
  "kernelspec": {
   "display_name": "Python 3 (ipykernel)",
   "language": "python",
   "name": "python3"
  },
  "language_info": {
   "codemirror_mode": {
    "name": "ipython",
    "version": 3
   },
   "file_extension": ".py",
   "mimetype": "text/x-python",
   "name": "python",
   "nbconvert_exporter": "python",
   "pygments_lexer": "ipython3",
   "version": "3.10.6"
  }
 },
 "nbformat": 4,
 "nbformat_minor": 5
}
