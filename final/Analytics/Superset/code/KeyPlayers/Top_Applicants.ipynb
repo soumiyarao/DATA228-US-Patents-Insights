{
 "cells": [
  {
   "cell_type": "code",
   "execution_count": 8,
   "id": "285d9380-af2e-47dd-af59-f22083c33a27",
   "metadata": {},
   "outputs": [],
   "source": [
    "from pyspark.sql import SparkSession\n",
    "from pyspark.sql.functions import *\n",
    "from pyspark.sql.types import *\n",
    "from pyspark.sql.window import Window\n",
    "from pyspark.sql import functions as F\n",
    "\n",
    "# Create a SparkSession\n",
    "spark = SparkSession.builder.appName(\"PatentKeyPlayersAnalytics\") \\\n",
    "    .config(\"spark.driver.memory\", \"8g\") \\\n",
    "    .config(\"spark.executor.memory\", \"8g\") \\\n",
    "    .getOrCreate()\n"
   ]
  },
  {
   "cell_type": "code",
   "execution_count": 9,
   "id": "f9f5505a-ebc6-40c9-b436-36c75d02ef4a",
   "metadata": {},
   "outputs": [],
   "source": [
    "# Constants\n",
    "\n",
    "filtered_patents_input_path = \"../../data_source/filtered_patents\"\n",
    "applicant_data_path = \"../../data_source/preprocessed_data_input/applicant_info\"\n",
    "\n",
    "top_applicants_path = \"file:/Users/bhland/hive/warehouse/dashboard_analytics_results/top_applicants\""
   ]
  },
  {
   "cell_type": "code",
   "execution_count": 10,
   "id": "91984aa0-46fb-472e-824b-07be623cbfe8",
   "metadata": {},
   "outputs": [
    {
     "name": "stdout",
     "output_type": "stream",
     "text": [
      "+-----------+-----------+-------------------------------------------------------------------------------------------------------------------------------+----------+--------------+-----------+-----------+---------+----------------------------------+---------+\n",
      "|patent_type|patent_date|patent_title                                                                                                                   |num_claims|application_id|filing_date|series_code|patent_id|branch                            |code     |\n",
      "+-----------+-----------+-------------------------------------------------------------------------------------------------------------------------------+----------+--------------+-----------+-----------+---------+----------------------------------+---------+\n",
      "|utility    |2018-06-19 |Filler neck closure assembly                                                                                                   |19        |15412444      |2017-01-23 |15         |10000117 |Software Development and Security |G06Q10/00|\n",
      "|utility    |2018-06-19 |Vehicle camera peripheral                                                                                                      |11        |15655054      |2017-07-20 |15         |10000164 |Networking and Distributed Systems|H04W     |\n",
      "|utility    |2018-06-19 |Creatinine biosensor and method of using the same                                                                              |6         |15509067      |2015-09-01 |15         |10000784 |Data Science and Analytics        |B82Y30/00|\n",
      "|utility    |2018-06-19 |Focusing control device, focusing control method, focusing control program, lens device, and imaging device                    |20        |15590019      |2017-05-09 |15         |10001621 |Artificial Intelligence           |G06T     |\n",
      "|utility    |2018-06-19 |Electronic device comprising a wake up module distinct from a core domain                                                      |19        |14852513      |2015-09-12 |14         |10001829 |Artificial Intelligence           |G10L15/22|\n",
      "|utility    |2018-06-19 |Calibration of multiple rigid bodies in a virtual reality system                                                               |20        |15402422      |2017-01-10 |15         |10001834 |Artificial Intelligence           |G06T     |\n",
      "|utility    |2018-06-19 |Gamification platform                                                                                                          |20        |14845953      |2015-09-04 |14         |10001896 |Software Development and Security |G06F3/048|\n",
      "|utility    |2018-06-19 |Information processing apparatus, information processing system, and information processing method                             |9         |15145178      |2016-05-03 |15         |10001934 |Software Development and Security |H04L67/02|\n",
      "|utility    |2018-06-19 |Systems, methods, and devices for handling Wi-Fi and bluetooth audio                                                           |18        |14733169      |2015-06-08 |14         |10001964 |Networking and Distributed Systems|H04W     |\n",
      "|utility    |2018-06-19 |Determining whether a data storage is encrypted                                                                                |9         |15636520      |2017-06-28 |15         |10002083 |Software Development and Security |G06F21/00|\n",
      "|utility    |2018-06-19 |Client computer for updating a database stored on a server via a network                                                       |5         |15202672      |2016-07-06 |15         |10002151 |Data Science and Analytics        |G06F16/27|\n",
      "|utility    |2018-06-19 |System and method for registration in orthopaedic applications                                                                 |4         |14429301      |2013-10-15 |14         |10002227 |Artificial Intelligence           |G06T     |\n",
      "|utility    |2018-06-19 |Moving body tracking method and moving body tracking device                                                                    |18        |15317758      |2015-07-27 |15         |10002289 |Artificial Intelligence           |G06T     |\n",
      "|utility    |2018-06-19 |Systems and methods for predicting transactions                                                                                |26        |15481094      |2017-04-06 |15         |10002322 |Artificial Intelligence           |G06N     |\n",
      "|utility    |2018-06-19 |Systems and methods for point of sale deposits                                                                                 |20        |15899962      |2018-02-20 |15         |10002346 |Software Development and Security |G06Q20/40|\n",
      "|utility    |2018-06-19 |Producing glyph distance fields                                                                                                |36        |13571562      |2012-08-10 |13         |10002448 |Artificial Intelligence           |G06T     |\n",
      "|utility    |2018-06-19 |Image rendering apparatus and method                                                                                           |24        |14321493      |2014-07-01 |14         |10002457 |Artificial Intelligence           |G06T     |\n",
      "|utility    |2018-06-19 |Information processing apparatus, information processing method, and storage medium, for enabling accurate detection of a color|15        |15150236      |2016-05-09 |15         |10002463 |Artificial Intelligence           |G06T     |\n",
      "|utility    |2018-06-19 |Light field light source orientation method for augmented reality and virtual reality and front-end device                     |6         |15381137      |2016-12-16 |15         |10002464 |Artificial Intelligence           |G06T     |\n",
      "|utility    |2018-06-19 |Information signalling for network assisted interference mitigation                                                            |23        |14440337      |2013-12-03 |14         |10003367 |Networking and Distributed Systems|H04W     |\n",
      "+-----------+-----------+-------------------------------------------------------------------------------------------------------------------------------+----------+--------------+-----------+-----------+---------+----------------------------------+---------+\n",
      "only showing top 20 rows\n",
      "\n"
     ]
    }
   ],
   "source": [
    "patents_filtered_df = spark.read.parquet(filtered_patents_input_path)\n",
    "patents_filtered_df.show(truncate=False)"
   ]
  },
  {
   "cell_type": "code",
   "execution_count": 11,
   "id": "8570d434-2134-409f-87fa-93a3a0289b29",
   "metadata": {},
   "outputs": [
    {
     "name": "stdout",
     "output_type": "stream",
     "text": [
      "root\n",
      " |-- applicant_sequence: integer (nullable = true)\n",
      " |-- raw_applicant_name_first: string (nullable = true)\n",
      " |-- raw_applicant_name_last: string (nullable = true)\n",
      " |-- raw_applicant_organization: string (nullable = true)\n",
      " |-- applicant_type: string (nullable = true)\n",
      " |-- patent_type: string (nullable = true)\n",
      " |-- patent_date: date (nullable = true)\n",
      " |-- patent_title: string (nullable = true)\n",
      " |-- num_claims: integer (nullable = true)\n",
      " |-- application_id: string (nullable = true)\n",
      " |-- filing_date: date (nullable = true)\n",
      " |-- series_code: string (nullable = true)\n",
      " |-- patent_id: string (nullable = true)\n",
      " |-- branch: string (nullable = true)\n",
      " |-- code: string (nullable = true)\n",
      "\n"
     ]
    }
   ],
   "source": [
    "applicant_df = spark.read.parquet(applicant_data_path)\n",
    "\n",
    "applicant_filtered_df = applicant_df.join(\n",
    "    patents_filtered_df,\n",
    "    applicant_df.patent_id == patents_filtered_df.patent_id, \n",
    "    \"inner\"\n",
    ")\n",
    "\n",
    "applicant_filtered_df = applicant_filtered_df.drop(applicant_df['patent_id'])\n",
    "applicant_filtered_df.printSchema()"
   ]
  },
  {
   "cell_type": "code",
   "execution_count": 12,
   "id": "3fdf43b9-e61a-45c8-a69f-da544858b963",
   "metadata": {},
   "outputs": [
    {
     "name": "stdout",
     "output_type": "stream",
     "text": [
      "+-------------------------------+----------------------------------------------------+------------+----+\n",
      "|branch                         |organization                                        |patent_count|rank|\n",
      "+-------------------------------+----------------------------------------------------+------------+----+\n",
      "|Advanced Computing Technologies|Samsung Electronics Co., Ltd.                       |108         |1   |\n",
      "|Advanced Computing Technologies|Sony Corporation                                    |65          |2   |\n",
      "|Advanced Computing Technologies|Amazon Technologies, Inc.                           |48          |3   |\n",
      "|Advanced Computing Technologies|Google Inc.                                         |43          |4   |\n",
      "|Advanced Computing Technologies|International Business Machines Corporation         |41          |5   |\n",
      "|Advanced Computing Technologies|Samsung Display Co., Ltd.                           |40          |6   |\n",
      "|Advanced Computing Technologies|Ebay Inc.                                           |37          |7   |\n",
      "|Advanced Computing Technologies|Boe Technology Group Co., Ltd.                      |37          |8   |\n",
      "|Advanced Computing Technologies|Panasonic Intellectual Property Management Co., Ltd.|33          |9   |\n",
      "|Advanced Computing Technologies|Lg Electronics Inc.                                 |31          |10  |\n",
      "|Advanced Computing Technologies|Google Llc                                          |29          |11  |\n",
      "|Advanced Computing Technologies|Seiko Epson Corporation                             |28          |12  |\n",
      "|Advanced Computing Technologies|Sony Interactive Entertainment Inc.                 |24          |13  |\n",
      "|Advanced Computing Technologies|Apple Inc.                                          |23          |14  |\n",
      "|Advanced Computing Technologies|Denso Corporation                                   |22          |15  |\n",
      "|Advanced Computing Technologies|Intel Corporation                                   |21          |16  |\n",
      "|Advanced Computing Technologies|Meps Real-time, Inc.                                |18          |17  |\n",
      "|Advanced Computing Technologies|Canon Kabushiki Kaisha                              |17          |18  |\n",
      "|Advanced Computing Technologies|The Nielsen Company (us), Llc                       |17          |19  |\n",
      "|Advanced Computing Technologies|Gecko Robotics, Inc.                                |17          |20  |\n",
      "+-------------------------------+----------------------------------------------------+------------+----+\n",
      "only showing top 20 rows\n",
      "\n"
     ]
    }
   ],
   "source": [
    "from pyspark.sql import Window\n",
    "from pyspark.sql import functions as F\n",
    "\n",
    "\n",
    "applicant_cleaned_df = applicant_filtered_df.filter(F.col(\"raw_applicant_organization\").isNotNull())\n",
    "\n",
    "applicant_normalized_df = applicant_cleaned_df.withColumn(\n",
    "    \"normalized_organization\", \n",
    "    F.initcap(F.lower(F.col(\"raw_applicant_organization\")))\n",
    ")\n",
    "\n",
    "applicant_grouped_df = applicant_normalized_df.groupBy(\n",
    "    \"branch\", \n",
    "    \"normalized_organization\"\n",
    ").agg(\n",
    "    F.count(\"patent_id\").alias(\"patent_count\")  \n",
    ")\n",
    "\n",
    "applicant_window_spec = Window.partitionBy(\"branch\").orderBy(F.desc(\"patent_count\"))\n",
    "\n",
    "\n",
    "applicant_ranked_df = applicant_grouped_df.withColumn(\n",
    "    \"rank\", \n",
    "    F.row_number().over(applicant_window_spec)\n",
    ")\n",
    "\n",
    "\n",
    "top_applicants = applicant_ranked_df.filter(F.col(\"rank\") <= 20)\n",
    "\n",
    "final_applicant_result = top_applicants.select(\n",
    "    F.col(\"branch\"),\n",
    "    F.col(\"normalized_organization\").alias(\"organization\"),\n",
    "    F.col(\"patent_count\"),\n",
    "    F.col(\"rank\")\n",
    ").orderBy(\"branch\", \"rank\")\n",
    "\n",
    "final_applicant_result.show(truncate=False)"
   ]
  },
  {
   "cell_type": "code",
   "execution_count": 13,
   "id": "446756d8-6635-4bab-a713-3b6ad55226b2",
   "metadata": {},
   "outputs": [],
   "source": [
    "final_applicant_with_schema = final_applicant_result.select(\n",
    "    col(\"branch\").cast(StringType()),\n",
    "    col(\"organization\").cast(StringType()),\n",
    "    col(\"patent_count\").cast(IntegerType()),\n",
    "    col(\"rank\").cast(IntegerType())\n",
    ")"
   ]
  },
  {
   "cell_type": "code",
   "execution_count": 14,
   "id": "43cdc44c-9f26-47f6-8f87-47dfa625e3ad",
   "metadata": {},
   "outputs": [
    {
     "name": "stdout",
     "output_type": "stream",
     "text": [
      "The Top Applicants results have been successfully written to the parquet file in hive warehouse.\n"
     ]
    }
   ],
   "source": [
    "final_applicant_with_schema.write.parquet(top_applicants_path, mode=\"overwrite\")\n",
    "\n",
    "print(\"The Top Applicants results have been successfully written to the parquet file in hive warehouse.\")"
   ]
  }
 ],
 "metadata": {
  "kernelspec": {
   "display_name": "Python 3 (ipykernel)",
   "language": "python",
   "name": "python3"
  },
  "language_info": {
   "codemirror_mode": {
    "name": "ipython",
    "version": 3
   },
   "file_extension": ".py",
   "mimetype": "text/x-python",
   "name": "python",
   "nbconvert_exporter": "python",
   "pygments_lexer": "ipython3",
   "version": "3.10.6"
  }
 },
 "nbformat": 4,
 "nbformat_minor": 5
}
