{
 "cells": [
  {
   "cell_type": "code",
   "execution_count": 1,
   "id": "7aa639f4-be49-4a81-9538-c7ab3ee6f505",
   "metadata": {},
   "outputs": [
    {
     "name": "stderr",
     "output_type": "stream",
     "text": [
      "24/12/01 18:26:32 WARN Utils: Your hostname, MacBook-Pro.local resolves to a loopback address: 127.0.0.1; using 10.0.0.33 instead (on interface en0)\n",
      "24/12/01 18:26:32 WARN Utils: Set SPARK_LOCAL_IP if you need to bind to another address\n",
      "Setting default log level to \"WARN\".\n",
      "To adjust logging level use sc.setLogLevel(newLevel). For SparkR, use setLogLevel(newLevel).\n",
      "24/12/01 18:26:32 WARN NativeCodeLoader: Unable to load native-hadoop library for your platform... using builtin-java classes where applicable\n",
      "24/12/01 18:26:32 WARN Utils: Service 'SparkUI' could not bind on port 4040. Attempting port 4041.\n",
      "24/12/01 18:26:32 WARN Utils: Service 'SparkUI' could not bind on port 4041. Attempting port 4042.\n",
      "24/12/01 18:26:32 WARN Utils: Service 'SparkUI' could not bind on port 4042. Attempting port 4043.\n",
      "24/12/01 18:26:32 WARN Utils: Service 'SparkUI' could not bind on port 4043. Attempting port 4044.\n",
      "24/12/01 18:26:32 WARN Utils: Service 'SparkUI' could not bind on port 4044. Attempting port 4045.\n",
      "24/12/01 18:26:32 WARN Utils: Service 'SparkUI' could not bind on port 4045. Attempting port 4046.\n"
     ]
    }
   ],
   "source": [
    "from pyspark.sql import SparkSession\n",
    "from pyspark.sql.functions import *\n",
    "from pyspark.sql.types import *\n",
    "\n",
    "# Create a SparkSession\n",
    "spark = SparkSession.builder.appName(\"PatentKeyPlayersAnalytics\") \\\n",
    "    .config(\"spark.driver.memory\", \"8g\") \\\n",
    "    .config(\"spark.executor.memory\", \"8g\") \\\n",
    "    .getOrCreate()\n"
   ]
  },
  {
   "cell_type": "code",
   "execution_count": 2,
   "id": "15bf919b-9468-4f7f-a5ee-80256f1b110f",
   "metadata": {},
   "outputs": [],
   "source": [
    "# Constants\n",
    "\n",
    "filtered_patents_input_path = \"../../data_source/filtered_patents\"\n",
    "keywords_data_path = \"../../data_source/keywords\"\n",
    "\n",
    "top_keywords_path = \"file:/Users/bhland/hive/warehouse/dashboard_analytics_results/top_keywords\""
   ]
  },
  {
   "cell_type": "code",
   "execution_count": 3,
   "id": "9705705b-b52a-46d6-80d4-ff2c9b86b009",
   "metadata": {},
   "outputs": [
    {
     "name": "stdout",
     "output_type": "stream",
     "text": [
      "+-----------+-----------+-------------------------------------------------------------------------------------------------------------------------------+----------+--------------+-----------+-----------+---------+----------------------------------+---------+\n",
      "|patent_type|patent_date|patent_title                                                                                                                   |num_claims|application_id|filing_date|series_code|patent_id|branch                            |code     |\n",
      "+-----------+-----------+-------------------------------------------------------------------------------------------------------------------------------+----------+--------------+-----------+-----------+---------+----------------------------------+---------+\n",
      "|utility    |2018-06-19 |Filler neck closure assembly                                                                                                   |19        |15412444      |2017-01-23 |15         |10000117 |Software Development and Security |G06Q10/00|\n",
      "|utility    |2018-06-19 |Vehicle camera peripheral                                                                                                      |11        |15655054      |2017-07-20 |15         |10000164 |Networking and Distributed Systems|H04W     |\n",
      "|utility    |2018-06-19 |Creatinine biosensor and method of using the same                                                                              |6         |15509067      |2015-09-01 |15         |10000784 |Data Science and Analytics        |B82Y30/00|\n",
      "|utility    |2018-06-19 |Focusing control device, focusing control method, focusing control program, lens device, and imaging device                    |20        |15590019      |2017-05-09 |15         |10001621 |Artificial Intelligence           |G06T     |\n",
      "|utility    |2018-06-19 |Electronic device comprising a wake up module distinct from a core domain                                                      |19        |14852513      |2015-09-12 |14         |10001829 |Artificial Intelligence           |G10L15/22|\n",
      "|utility    |2018-06-19 |Calibration of multiple rigid bodies in a virtual reality system                                                               |20        |15402422      |2017-01-10 |15         |10001834 |Artificial Intelligence           |G06T     |\n",
      "|utility    |2018-06-19 |Gamification platform                                                                                                          |20        |14845953      |2015-09-04 |14         |10001896 |Software Development and Security |G06F3/048|\n",
      "|utility    |2018-06-19 |Information processing apparatus, information processing system, and information processing method                             |9         |15145178      |2016-05-03 |15         |10001934 |Software Development and Security |H04L67/02|\n",
      "|utility    |2018-06-19 |Systems, methods, and devices for handling Wi-Fi and bluetooth audio                                                           |18        |14733169      |2015-06-08 |14         |10001964 |Networking and Distributed Systems|H04W     |\n",
      "|utility    |2018-06-19 |Determining whether a data storage is encrypted                                                                                |9         |15636520      |2017-06-28 |15         |10002083 |Software Development and Security |G06F21/00|\n",
      "|utility    |2018-06-19 |Client computer for updating a database stored on a server via a network                                                       |5         |15202672      |2016-07-06 |15         |10002151 |Data Science and Analytics        |G06F16/27|\n",
      "|utility    |2018-06-19 |System and method for registration in orthopaedic applications                                                                 |4         |14429301      |2013-10-15 |14         |10002227 |Artificial Intelligence           |G06T     |\n",
      "|utility    |2018-06-19 |Moving body tracking method and moving body tracking device                                                                    |18        |15317758      |2015-07-27 |15         |10002289 |Artificial Intelligence           |G06T     |\n",
      "|utility    |2018-06-19 |Systems and methods for predicting transactions                                                                                |26        |15481094      |2017-04-06 |15         |10002322 |Artificial Intelligence           |G06N     |\n",
      "|utility    |2018-06-19 |Systems and methods for point of sale deposits                                                                                 |20        |15899962      |2018-02-20 |15         |10002346 |Software Development and Security |G06Q20/40|\n",
      "|utility    |2018-06-19 |Producing glyph distance fields                                                                                                |36        |13571562      |2012-08-10 |13         |10002448 |Artificial Intelligence           |G06T     |\n",
      "|utility    |2018-06-19 |Image rendering apparatus and method                                                                                           |24        |14321493      |2014-07-01 |14         |10002457 |Artificial Intelligence           |G06T     |\n",
      "|utility    |2018-06-19 |Information processing apparatus, information processing method, and storage medium, for enabling accurate detection of a color|15        |15150236      |2016-05-09 |15         |10002463 |Artificial Intelligence           |G06T     |\n",
      "|utility    |2018-06-19 |Light field light source orientation method for augmented reality and virtual reality and front-end device                     |6         |15381137      |2016-12-16 |15         |10002464 |Artificial Intelligence           |G06T     |\n",
      "|utility    |2018-06-19 |Information signalling for network assisted interference mitigation                                                            |23        |14440337      |2013-12-03 |14         |10003367 |Networking and Distributed Systems|H04W     |\n",
      "+-----------+-----------+-------------------------------------------------------------------------------------------------------------------------------+----------+--------------+-----------+-----------+---------+----------------------------------+---------+\n",
      "only showing top 20 rows\n",
      "\n"
     ]
    }
   ],
   "source": [
    "patents_filtered_df = spark.read.parquet(filtered_patents_input_path)\n",
    "patents_filtered_df.show(truncate=False)"
   ]
  },
  {
   "cell_type": "code",
   "execution_count": 4,
   "id": "53f217ad-c8a2-481d-9665-cd3c418b431a",
   "metadata": {},
   "outputs": [
    {
     "name": "stderr",
     "output_type": "stream",
     "text": [
      "[Stage 4:=============================>                             (3 + 3) / 6]\r"
     ]
    },
    {
     "name": "stdout",
     "output_type": "stream",
     "text": [
      "+-------------------------------+------------------+-------------+------------------+------------------+----+\n",
      "|branch                         |normalized_keyword|keyword_count|total_weight      |ranking_metric    |rank|\n",
      "+-------------------------------+------------------+-------------+------------------+------------------+----+\n",
      "|Advanced Computing Technologies|display           |29           |13.075399999999998|379.18659999999994|1   |\n",
      "|Advanced Computing Technologies|device            |25           |10.477499999999997|261.93749999999994|2   |\n",
      "|Advanced Computing Technologies|screen            |14           |6.041900000000001 |84.58660000000002 |3   |\n",
      "|Advanced Computing Technologies|image             |13           |5.5571            |72.2423           |4   |\n",
      "|Advanced Computing Technologies|view              |8            |3.409             |27.272            |5   |\n",
      "|Advanced Computing Technologies|camera            |7            |3.2539999999999996|22.778            |6   |\n",
      "|Advanced Computing Technologies|robot             |7            |3.0404            |21.2828           |7   |\n",
      "|Advanced Computing Technologies|service           |7            |2.8017000000000003|19.611900000000002|8   |\n",
      "|Advanced Computing Technologies|projection        |5            |2.6413            |13.206500000000002|9   |\n",
      "|Advanced Computing Technologies|retail            |5            |2.2653            |11.3265           |10  |\n",
      "|Advanced Computing Technologies|processing        |5            |2.2156000000000002|11.078000000000001|11  |\n",
      "|Advanced Computing Technologies|project           |5            |2.1512000000000002|10.756            |12  |\n",
      "|Advanced Computing Technologies|video             |5            |2.0753000000000004|10.376500000000002|13  |\n",
      "|Advanced Computing Technologies|transaction       |5            |2.0298            |10.149            |14  |\n",
      "|Advanced Computing Technologies|authorization     |4            |1.8963999999999999|7.5855999999999995|15  |\n",
      "|Advanced Computing Technologies|television        |4            |1.8445999999999998|7.378399999999999 |16  |\n",
      "|Advanced Computing Technologies|security          |4            |1.8318            |7.3272            |17  |\n",
      "|Advanced Computing Technologies|pixel             |4            |1.6642000000000001|6.6568000000000005|18  |\n",
      "|Advanced Computing Technologies|resolution        |4            |1.5816000000000001|6.3264000000000005|19  |\n",
      "|Advanced Computing Technologies|invention         |4            |1.5538            |6.2152            |20  |\n",
      "+-------------------------------+------------------+-------------+------------------+------------------+----+\n",
      "only showing top 20 rows\n",
      "\n"
     ]
    },
    {
     "name": "stderr",
     "output_type": "stream",
     "text": [
      "                                                                                \r"
     ]
    }
   ],
   "source": [
    "from nltk.corpus import stopwords\n",
    "from pyspark.sql.types import StringType\n",
    "from pyspark.sql.window import Window\n",
    "from pyspark.sql import functions as F\n",
    "from nltk.stem import WordNetLemmatizer\n",
    "from nltk import pos_tag, word_tokenize\n",
    "\n",
    "\n",
    "lemmatizer = WordNetLemmatizer()\n",
    "stop_words = set(stopwords.words(\"english\"))\n",
    "\n",
    "\n",
    "def lemmatize_keyword(keyword):\n",
    "    if keyword:\n",
    "        tagged = pos_tag(word_tokenize(keyword))\n",
    "        pos = tagged[0][1] if tagged else 'NN'  \n",
    "\n",
    "        if pos.startswith('V'):\n",
    "            pos = 'v'  \n",
    "        elif pos.startswith('N'):\n",
    "            pos = 'n'  \n",
    "        elif pos.startswith('J'):\n",
    "            pos = 'a' \n",
    "        else:\n",
    "            pos = 'n'  \n",
    "        \n",
    "        return lemmatizer.lemmatize(keyword, pos)\n",
    "    return None\n",
    "\n",
    "# Define a UDF to apply lemmatization\n",
    "lemmatize_keyword_udf = F.udf(lemmatize_keyword, StringType())\n",
    "\n",
    "keywords_df = spark.read.parquet(keywords_data_path)\n",
    "\n",
    "joined_df = keywords_df.join(patents_filtered_df, on=\"patent_id\")\n",
    "\n",
    "exploded_df = joined_df.withColumn(\"keyword_struct\", F.explode(F.col(\"keywords\")))\n",
    "\n",
    "keyword_split_df = exploded_df.withColumn(\"keyword\", F.col(\"keyword_struct._1\")) \\\n",
    "    .withColumn(\"weight\", F.col(\"keyword_struct._2\"))\n",
    "\n",
    "\n",
    "keyword_normalized_df = keyword_split_df.withColumn(\"normalized_keyword\", lemmatize_keyword_udf(F.col(\"keyword\")))\n",
    "\n",
    "\n",
    "keyword_cleaned_df = keyword_normalized_df.filter(\n",
    "    F.col(\"normalized_keyword\").isNotNull() & (F.col(\"normalized_keyword\") != \"\") & \n",
    "    (F.trim(F.col(\"normalized_keyword\")) != \"\")\n",
    ")\n",
    "\n",
    "\n",
    "keyword_agg_df = keyword_cleaned_df.groupBy(\"branch\", \"normalized_keyword\").agg(\n",
    "    F.count(\"*\").alias(\"keyword_count\"),\n",
    "    F.sum(\"weight\").alias(\"total_weight\")\n",
    ")\n",
    "\n",
    "\n",
    "keyword_rank_df = keyword_agg_df.withColumn(\n",
    "    \"ranking_metric\", F.col(\"keyword_count\") * F.col(\"total_weight\")\n",
    ")\n",
    "\n",
    "\n",
    "window_spec = Window.partitionBy(\"branch\").orderBy(F.desc(\"ranking_metric\"))\n",
    "\n",
    "\n",
    "ranked_df = keyword_rank_df.withColumn(\n",
    "    \"rank\", F.row_number().over(window_spec)\n",
    ").filter(F.col(\"rank\") <= 50)\n",
    "\n",
    "\n",
    "top_keywords_df = ranked_df.select(\"branch\", \"normalized_keyword\", \"keyword_count\", \"total_weight\", \"ranking_metric\", \"rank\")\n",
    "\n",
    "top_keywords_df.show(truncate=False)\n"
   ]
  },
  {
   "cell_type": "code",
   "execution_count": 5,
   "id": "efbdecda-7030-41a0-9e71-46d118e88d6e",
   "metadata": {},
   "outputs": [
    {
     "name": "stderr",
     "output_type": "stream",
     "text": [
      "[Stage 11:===================>                                      (2 + 4) / 6]\r"
     ]
    },
    {
     "name": "stdout",
     "output_type": "stream",
     "text": [
      "+--------------------+-------------+-------------+----+\n",
      "|              branch|      keyword|keyword_count|rank|\n",
      "+--------------------+-------------+-------------+----+\n",
      "|Advanced Computin...|      display|           29|   1|\n",
      "|Advanced Computin...|       device|           25|   2|\n",
      "|Advanced Computin...|       screen|           14|   3|\n",
      "|Advanced Computin...|        image|           13|   4|\n",
      "|Advanced Computin...|         view|            8|   5|\n",
      "|Advanced Computin...|       camera|            7|   6|\n",
      "|Advanced Computin...|        robot|            7|   7|\n",
      "|Advanced Computin...|      service|            7|   8|\n",
      "|Advanced Computin...|   projection|            5|   9|\n",
      "|Advanced Computin...|       retail|            5|  10|\n",
      "|Advanced Computin...|   processing|            5|  11|\n",
      "|Advanced Computin...|      project|            5|  12|\n",
      "|Advanced Computin...|        video|            5|  13|\n",
      "|Advanced Computin...|  transaction|            5|  14|\n",
      "|Advanced Computin...|authorization|            4|  15|\n",
      "|Advanced Computin...|   television|            4|  16|\n",
      "|Advanced Computin...|     security|            4|  17|\n",
      "|Advanced Computin...|        pixel|            4|  18|\n",
      "|Advanced Computin...|   resolution|            4|  19|\n",
      "|Advanced Computin...|    invention|            4|  20|\n",
      "+--------------------+-------------+-------------+----+\n",
      "only showing top 20 rows\n",
      "\n"
     ]
    },
    {
     "name": "stderr",
     "output_type": "stream",
     "text": [
      "                                                                                \r"
     ]
    }
   ],
   "source": [
    "final_keywords_with_schema = top_keywords_df.select(\n",
    "    col(\"branch\").cast(StringType()),\n",
    "    col(\"normalized_keyword\").alias(\"keyword\").cast(StringType()),\n",
    "    col(\"keyword_count\").cast(IntegerType()),\n",
    "    col(\"rank\").cast(IntegerType())\n",
    ")\n",
    "\n",
    "final_keywords_with_schema.show()"
   ]
  },
  {
   "cell_type": "code",
   "execution_count": 6,
   "id": "f116892b-102b-4f2d-b5d9-6b0385550ec5",
   "metadata": {},
   "outputs": [
    {
     "name": "stderr",
     "output_type": "stream",
     "text": [
      "[Stage 18:===================>                                      (2 + 4) / 6]\r"
     ]
    },
    {
     "name": "stdout",
     "output_type": "stream",
     "text": [
      "The Top Keywords results have been successfully written to the parquet file in hive warehouse.\n"
     ]
    },
    {
     "name": "stderr",
     "output_type": "stream",
     "text": [
      "                                                                                \r"
     ]
    }
   ],
   "source": [
    "final_keywords_with_schema.write.mode(\"overwrite\").parquet(top_keywords_path)\n",
    "print(\"The Top Keywords results have been successfully written to the parquet file in hive warehouse.\")"
   ]
  },
  {
   "cell_type": "code",
   "execution_count": null,
   "id": "d31d2d7d-f0ce-4818-81dd-98e5c4842e09",
   "metadata": {},
   "outputs": [],
   "source": []
  }
 ],
 "metadata": {
  "kernelspec": {
   "display_name": "Python 3 (ipykernel)",
   "language": "python",
   "name": "python3"
  },
  "language_info": {
   "codemirror_mode": {
    "name": "ipython",
    "version": 3
   },
   "file_extension": ".py",
   "mimetype": "text/x-python",
   "name": "python",
   "nbconvert_exporter": "python",
   "pygments_lexer": "ipython3",
   "version": "3.10.6"
  }
 },
 "nbformat": 4,
 "nbformat_minor": 5
}
