{
 "cells": [
  {
   "cell_type": "code",
   "execution_count": 1,
   "id": "c966af62-4bae-47b9-886b-b2c37be1a8b0",
   "metadata": {},
   "outputs": [
    {
     "name": "stderr",
     "output_type": "stream",
     "text": [
      "24/12/01 18:13:22 WARN Utils: Your hostname, MacBook-Pro.local resolves to a loopback address: 127.0.0.1; using 10.0.0.33 instead (on interface en0)\n",
      "24/12/01 18:13:22 WARN Utils: Set SPARK_LOCAL_IP if you need to bind to another address\n",
      "Setting default log level to \"WARN\".\n",
      "To adjust logging level use sc.setLogLevel(newLevel). For SparkR, use setLogLevel(newLevel).\n",
      "24/12/01 18:13:23 WARN NativeCodeLoader: Unable to load native-hadoop library for your platform... using builtin-java classes where applicable\n",
      "24/12/01 18:13:23 WARN Utils: Service 'SparkUI' could not bind on port 4040. Attempting port 4041.\n",
      "24/12/01 18:13:23 WARN Utils: Service 'SparkUI' could not bind on port 4041. Attempting port 4042.\n",
      "24/12/01 18:13:23 WARN Utils: Service 'SparkUI' could not bind on port 4042. Attempting port 4043.\n",
      "24/12/01 18:13:23 WARN Utils: Service 'SparkUI' could not bind on port 4043. Attempting port 4044.\n"
     ]
    }
   ],
   "source": [
    "from pyspark.sql import SparkSession\n",
    "from pyspark.sql.functions import *\n",
    "from pyspark.sql.types import *\n",
    "from pyspark.sql.window import Window\n",
    "from pyspark.sql import functions as F\n",
    "\n",
    "# Create a SparkSession\n",
    "spark = SparkSession.builder.appName(\"PatentKeyPlayersAnalytics\") \\\n",
    "    .config(\"spark.driver.memory\", \"8g\") \\\n",
    "    .config(\"spark.executor.memory\", \"8g\") \\\n",
    "    .getOrCreate()\n"
   ]
  },
  {
   "cell_type": "code",
   "execution_count": 2,
   "id": "c54a6ced-6afe-4087-b1f2-117e27ddb39c",
   "metadata": {},
   "outputs": [],
   "source": [
    "# Constants\n",
    "\n",
    "filtered_patents_input_path = \"../../data_source/filtered_patents\"\n",
    "inventor_data_path = \"../../data_source/preprocessed_data_input/inventor_info\"\n",
    "\n",
    "top_inventors_path = \"file:/Users/bhland/hive/warehouse/dashboard_analytics_results/top_inventors\""
   ]
  },
  {
   "cell_type": "code",
   "execution_count": 3,
   "id": "fa566e70-cf65-4114-b283-35439905e7f9",
   "metadata": {},
   "outputs": [
    {
     "name": "stdout",
     "output_type": "stream",
     "text": [
      "+-----------+-----------+-------------------------------------------------------------------------------------------------------------------------------+----------+--------------+-----------+-----------+---------+----------------------------------+---------+\n",
      "|patent_type|patent_date|patent_title                                                                                                                   |num_claims|application_id|filing_date|series_code|patent_id|branch                            |code     |\n",
      "+-----------+-----------+-------------------------------------------------------------------------------------------------------------------------------+----------+--------------+-----------+-----------+---------+----------------------------------+---------+\n",
      "|utility    |2018-06-19 |Filler neck closure assembly                                                                                                   |19        |15412444      |2017-01-23 |15         |10000117 |Software Development and Security |G06Q10/00|\n",
      "|utility    |2018-06-19 |Vehicle camera peripheral                                                                                                      |11        |15655054      |2017-07-20 |15         |10000164 |Networking and Distributed Systems|H04W     |\n",
      "|utility    |2018-06-19 |Creatinine biosensor and method of using the same                                                                              |6         |15509067      |2015-09-01 |15         |10000784 |Data Science and Analytics        |B82Y30/00|\n",
      "|utility    |2018-06-19 |Focusing control device, focusing control method, focusing control program, lens device, and imaging device                    |20        |15590019      |2017-05-09 |15         |10001621 |Artificial Intelligence           |G06T     |\n",
      "|utility    |2018-06-19 |Electronic device comprising a wake up module distinct from a core domain                                                      |19        |14852513      |2015-09-12 |14         |10001829 |Artificial Intelligence           |G10L15/22|\n",
      "|utility    |2018-06-19 |Calibration of multiple rigid bodies in a virtual reality system                                                               |20        |15402422      |2017-01-10 |15         |10001834 |Artificial Intelligence           |G06T     |\n",
      "|utility    |2018-06-19 |Gamification platform                                                                                                          |20        |14845953      |2015-09-04 |14         |10001896 |Software Development and Security |G06F3/048|\n",
      "|utility    |2018-06-19 |Information processing apparatus, information processing system, and information processing method                             |9         |15145178      |2016-05-03 |15         |10001934 |Software Development and Security |H04L67/02|\n",
      "|utility    |2018-06-19 |Systems, methods, and devices for handling Wi-Fi and bluetooth audio                                                           |18        |14733169      |2015-06-08 |14         |10001964 |Networking and Distributed Systems|H04W     |\n",
      "|utility    |2018-06-19 |Determining whether a data storage is encrypted                                                                                |9         |15636520      |2017-06-28 |15         |10002083 |Software Development and Security |G06F21/00|\n",
      "|utility    |2018-06-19 |Client computer for updating a database stored on a server via a network                                                       |5         |15202672      |2016-07-06 |15         |10002151 |Data Science and Analytics        |G06F16/27|\n",
      "|utility    |2018-06-19 |System and method for registration in orthopaedic applications                                                                 |4         |14429301      |2013-10-15 |14         |10002227 |Artificial Intelligence           |G06T     |\n",
      "|utility    |2018-06-19 |Moving body tracking method and moving body tracking device                                                                    |18        |15317758      |2015-07-27 |15         |10002289 |Artificial Intelligence           |G06T     |\n",
      "|utility    |2018-06-19 |Systems and methods for predicting transactions                                                                                |26        |15481094      |2017-04-06 |15         |10002322 |Artificial Intelligence           |G06N     |\n",
      "|utility    |2018-06-19 |Systems and methods for point of sale deposits                                                                                 |20        |15899962      |2018-02-20 |15         |10002346 |Software Development and Security |G06Q20/40|\n",
      "|utility    |2018-06-19 |Producing glyph distance fields                                                                                                |36        |13571562      |2012-08-10 |13         |10002448 |Artificial Intelligence           |G06T     |\n",
      "|utility    |2018-06-19 |Image rendering apparatus and method                                                                                           |24        |14321493      |2014-07-01 |14         |10002457 |Artificial Intelligence           |G06T     |\n",
      "|utility    |2018-06-19 |Information processing apparatus, information processing method, and storage medium, for enabling accurate detection of a color|15        |15150236      |2016-05-09 |15         |10002463 |Artificial Intelligence           |G06T     |\n",
      "|utility    |2018-06-19 |Light field light source orientation method for augmented reality and virtual reality and front-end device                     |6         |15381137      |2016-12-16 |15         |10002464 |Artificial Intelligence           |G06T     |\n",
      "|utility    |2018-06-19 |Information signalling for network assisted interference mitigation                                                            |23        |14440337      |2013-12-03 |14         |10003367 |Networking and Distributed Systems|H04W     |\n",
      "+-----------+-----------+-------------------------------------------------------------------------------------------------------------------------------+----------+--------------+-----------+-----------+---------+----------------------------------+---------+\n",
      "only showing top 20 rows\n",
      "\n"
     ]
    }
   ],
   "source": [
    "patents_filtered_df = spark.read.parquet(filtered_patents_input_path)\n",
    "patents_filtered_df.show(truncate=False)"
   ]
  },
  {
   "cell_type": "code",
   "execution_count": 4,
   "id": "776d879f-c391-4904-86c7-dc3342643e48",
   "metadata": {},
   "outputs": [],
   "source": [
    "inventor_df = spark.read.parquet(inventor_data_path)\n",
    "\n",
    "inventor_filtered_df = inventor_df.join(\n",
    "    patents_filtered_df,\n",
    "    inventor_df.patent_id == patents_filtered_df.patent_id, \n",
    "    \"inner\"\n",
    ")\n",
    "\n",
    "inventor_filtered_df = inventor_filtered_df.drop(inventor_df['patent_id'])"
   ]
  },
  {
   "cell_type": "code",
   "execution_count": 5,
   "id": "a1feddc8-f8bb-42df-b45f-e4a1d593c83f",
   "metadata": {},
   "outputs": [
    {
     "name": "stderr",
     "output_type": "stream",
     "text": [
      "[Stage 6:>                                                          (0 + 8) / 9]\r"
     ]
    },
    {
     "name": "stdout",
     "output_type": "stream",
     "text": [
      "+-------------------------------+----------------------+--------------------+------+-----+---------+-----------+------------+----+\n",
      "|branch                         |inventor_id           |inventor_name       |gender|state|latitude |longitude  |patent_count|rank|\n",
      "+-------------------------------+----------------------+--------------------+------+-----+---------+-----------+------------+----+\n",
      "|Advanced Computing Technologies|fl:ja_ln:walker-54    |Jay S. Walker       |M     |CT   |41.281483|-73.49818  |34          |1   |\n",
      "|Advanced Computing Technologies|fl:ma_ln:stefik-1     |Mark J. Stefik      |M     |CA   |37.37363 |-122.21905 |26          |2   |\n",
      "|Advanced Computing Technologies|fl:pe_ln:pirolli-1    |Peter L. T. Pirolli |M     |CA   |37.779026|-122.41991 |24          |3   |\n",
      "|Advanced Computing Technologies|fl:sh_ln:hussain-12   |Shariq Hussain      |M     |CA   |33.200035|-117.24254 |20          |4   |\n",
      "|Advanced Computing Technologies|fl:br_ln:sierer-1     |Brian Sierer        |M     |TX   |30.271128|-97.7437   |19          |5   |\n",
      "|Advanced Computing Technologies|fl:ia_ln:miller-9     |Ian Miller          |M     |PA   |40.49124 |-79.90351  |17          |6   |\n",
      "|Advanced Computing Technologies|fl:ed_ln:bryner-1     |Edward A. Bryner    |M     |PA   |40.441692|-79.99009  |17          |7   |\n",
      "|Advanced Computing Technologies|fl:yi_ln:gu-3         |Yizhu Gu            |F     |PA   |40.441692|-79.99009  |17          |8   |\n",
      "|Advanced Computing Technologies|fl:ke_ln:low-9        |Kevin Y. Low        |M     |PA   |40.441692|-79.99009  |17          |9   |\n",
      "|Advanced Computing Technologies|fl:to_ln:joslin-1     |Todd Joslin         |M     |PA   |40.626457|-80.05589  |17          |10  |\n",
      "|Advanced Computing Technologies|fl:jo_ln:moore-81     |Joshua Moore        |M     |PA   |40.441692|-79.99009  |17          |11  |\n",
      "|Advanced Computing Technologies|fl:al_ln:chou-1       |Alvin Chou          |M     |GA   |34.070957|-84.274734 |16          |12  |\n",
      "|Advanced Computing Technologies|fl:ma_ln:loosararian-1|Mark Loosararian    |M     |PA   |40.441692|-79.99009  |16          |13  |\n",
      "|Advanced Computing Technologies|fl:ri_ln:hamilton-16  |Rick A. Hamilton, II|M     |VA   |38.029305|-78.47668  |15          |14  |\n",
      "|Advanced Computing Technologies|fl:da_ln:fuller-9     |David W Fuller, III |M     |TX   |30.271128|-97.7437   |15          |15  |\n",
      "|Advanced Computing Technologies|fl:lo_ln:mackenzie-1  |Logan MacKenzie     |M     |PA   |41.8995  |-79.84533  |14          |16  |\n",
      "|Advanced Computing Technologies|fl:pe_ln:pirolli-1    |Peter L. T. Pirolli |M     |CA   |33.875294|-117.566444|14          |17  |\n",
      "|Advanced Computing Technologies|fl:je_ln:shamblin-1   |Jeffrey Shamblin    |M     |CA   |33.14337 |-117.166145|14          |18  |\n",
      "|Advanced Computing Technologies|fl:ro_ln:lord-5       |Robert W. Lord      |M     |WA   |47.603832|-122.33006 |13          |19  |\n",
      "|Advanced Computing Technologies|fl:lo_ln:wood-12      |Lowell L. Wood, JR. |M     |WA   |47.61442 |-122.19234 |13          |20  |\n",
      "+-------------------------------+----------------------+--------------------+------+-----+---------+-----------+------------+----+\n",
      "only showing top 20 rows\n",
      "\n"
     ]
    },
    {
     "name": "stderr",
     "output_type": "stream",
     "text": [
      "                                                                                \r"
     ]
    }
   ],
   "source": [
    "grouped_df = inventor_filtered_df.groupBy(\n",
    "    \"branch\", \n",
    "    \"inventor_id\", \n",
    "    \"disambig_inventor_name_first\", \n",
    "    \"disambig_inventor_name_last\", \n",
    "    \"gender_code\", \n",
    "    \"latitude\",\n",
    "    \"longitude\",\n",
    "    \"disambig_state\"\n",
    ").agg(\n",
    "    F.count(\"patent_id\").alias(\"patent_count\")  \n",
    ")\n",
    "\n",
    "\n",
    "window_spec = Window.partitionBy(\"branch\").orderBy(F.desc(\"patent_count\"))\n",
    "\n",
    "\n",
    "ranked_df = grouped_df.withColumn(\"rank\", F.row_number().over(window_spec))\n",
    "\n",
    "top_inventors = ranked_df.filter(F.col(\"rank\") <= 20)\n",
    "\n",
    "final_result = top_inventors.select(\n",
    "    F.col(\"branch\"),\n",
    "    F.col(\"inventor_id\"),\n",
    "    F.concat(F.col(\"disambig_inventor_name_first\"), F.lit(\" \"), F.col(\"disambig_inventor_name_last\")).alias(\"inventor_name\"),\n",
    "    F.col(\"gender_code\").alias(\"gender\"),\n",
    "    F.col(\"disambig_state\").alias(\"state\"),\n",
    "    F.col(\"latitude\"),\n",
    "    F.col(\"longitude\"),\n",
    "    F.col(\"patent_count\"),\n",
    "    F.col(\"rank\")\n",
    ").orderBy(\"branch\", \"rank\")\n",
    "\n",
    "final_result.show(truncate=False)"
   ]
  },
  {
   "cell_type": "code",
   "execution_count": 6,
   "id": "b4ab0d0c-efe7-414f-a594-d8965351dec4",
   "metadata": {},
   "outputs": [
    {
     "name": "stdout",
     "output_type": "stream",
     "text": [
      "root\n",
      " |-- branch: string (nullable = true)\n",
      " |-- inventor_id: string (nullable = true)\n",
      " |-- inventor_name: string (nullable = true)\n",
      " |-- gender: string (nullable = true)\n",
      " |-- state: string (nullable = true)\n",
      " |-- latitude: double (nullable = true)\n",
      " |-- longitude: double (nullable = true)\n",
      " |-- patent_count: integer (nullable = false)\n",
      " |-- rank: integer (nullable = false)\n",
      "\n"
     ]
    }
   ],
   "source": [
    "final_result_with_schema = final_result.select(\n",
    "    col(\"branch\").cast(StringType()),\n",
    "    col(\"inventor_id\").cast(StringType()),\n",
    "    col(\"inventor_name\").cast(StringType()),\n",
    "    col(\"gender\").cast(StringType()),\n",
    "    col(\"state\").cast(StringType()),\n",
    "    col(\"latitude\").cast(DoubleType()),\n",
    "    col(\"longitude\").cast(DoubleType()),\n",
    "    col(\"patent_count\").cast(IntegerType()),\n",
    "    col(\"rank\").cast(IntegerType())\n",
    ")\n",
    "\n",
    "final_result_with_schema.printSchema()"
   ]
  },
  {
   "cell_type": "code",
   "execution_count": 7,
   "id": "643f00f6-d659-45fc-b78e-68db51994b59",
   "metadata": {},
   "outputs": [
    {
     "name": "stderr",
     "output_type": "stream",
     "text": [
      "                                                                                \r"
     ]
    },
    {
     "name": "stdout",
     "output_type": "stream",
     "text": [
      "The Top Inventors results have been successfully written to the parquet file in hive warehouse.\n"
     ]
    }
   ],
   "source": [
    "final_result_with_schema.write.parquet(top_inventors_path, mode=\"overwrite\")\n",
    "\n",
    "print(\"The Top Inventors results have been successfully written to the parquet file in hive warehouse.\")"
   ]
  },
  {
   "cell_type": "code",
   "execution_count": null,
   "id": "69b4b0a4-74b0-4788-b2e9-ec170901e4c4",
   "metadata": {},
   "outputs": [],
   "source": []
  }
 ],
 "metadata": {
  "kernelspec": {
   "display_name": "Python 3 (ipykernel)",
   "language": "python",
   "name": "python3"
  },
  "language_info": {
   "codemirror_mode": {
    "name": "ipython",
    "version": 3
   },
   "file_extension": ".py",
   "mimetype": "text/x-python",
   "name": "python",
   "nbconvert_exporter": "python",
   "pygments_lexer": "ipython3",
   "version": "3.10.6"
  }
 },
 "nbformat": 4,
 "nbformat_minor": 5
}
