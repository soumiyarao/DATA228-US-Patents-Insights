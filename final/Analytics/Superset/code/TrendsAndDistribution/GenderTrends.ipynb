{
 "cells": [
  {
   "cell_type": "code",
   "execution_count": 1,
   "id": "a06b5e7b-db80-46e6-a0e0-815a1c41698d",
   "metadata": {},
   "outputs": [
    {
     "name": "stderr",
     "output_type": "stream",
     "text": [
      "24/12/01 18:02:07 WARN Utils: Your hostname, MacBook-Pro.local resolves to a loopback address: 127.0.0.1; using 10.0.0.33 instead (on interface en0)\n",
      "24/12/01 18:02:07 WARN Utils: Set SPARK_LOCAL_IP if you need to bind to another address\n",
      "Ivy Default Cache set to: /Users/bhland/.ivy2/cache\n",
      "The jars for the packages stored in: /Users/bhland/.ivy2/jars\n",
      "org.apache.hudi#hudi-spark3.5-bundle_2.12 added as a dependency\n",
      ":: resolving dependencies :: org.apache.spark#spark-submit-parent-1dc583ca-812c-42ac-aa2b-97c572d6378d;1.0\n",
      "\tconfs: [default]\n",
      "\tfound org.apache.hudi#hudi-spark3.5-bundle_2.12;0.15.0 in central\n",
      "\tfound org.apache.hive#hive-storage-api;2.8.1 in central\n",
      "\tfound org.slf4j#slf4j-api;1.7.36 in local-m2-cache\n",
      ":: resolution report :: resolve 70ms :: artifacts dl 2ms\n",
      "\t:: modules in use:\n",
      "\torg.apache.hive#hive-storage-api;2.8.1 from central in [default]\n",
      "\torg.apache.hudi#hudi-spark3.5-bundle_2.12;0.15.0 from central in [default]\n",
      "\torg.slf4j#slf4j-api;1.7.36 from local-m2-cache in [default]\n",
      "\t---------------------------------------------------------------------\n",
      "\t|                  |            modules            ||   artifacts   |\n",
      "\t|       conf       | number| search|dwnlded|evicted|| number|dwnlded|\n",
      "\t---------------------------------------------------------------------\n",
      "\t|      default     |   3   |   0   |   0   |   0   ||   3   |   0   |\n",
      "\t---------------------------------------------------------------------\n"
     ]
    },
    {
     "name": "stdout",
     "output_type": "stream",
     "text": [
      ":: loading settings :: url = jar:file:/Users/bhland/miniforge3/lib/python3.10/site-packages/pyspark/jars/ivy-2.5.1.jar!/org/apache/ivy/core/settings/ivysettings.xml\n"
     ]
    },
    {
     "name": "stderr",
     "output_type": "stream",
     "text": [
      ":: retrieving :: org.apache.spark#spark-submit-parent-1dc583ca-812c-42ac-aa2b-97c572d6378d\n",
      "\tconfs: [default]\n",
      "\t0 artifacts copied, 3 already retrieved (0kB/2ms)\n",
      "24/12/01 18:02:07 WARN NativeCodeLoader: Unable to load native-hadoop library for your platform... using builtin-java classes where applicable\n",
      "Setting default log level to \"WARN\".\n",
      "To adjust logging level use sc.setLogLevel(newLevel). For SparkR, use setLogLevel(newLevel).\n",
      "24/12/01 18:02:08 WARN Utils: Service 'SparkUI' could not bind on port 4040. Attempting port 4041.\n",
      "24/12/01 18:02:08 WARN Utils: Service 'SparkUI' could not bind on port 4041. Attempting port 4042.\n"
     ]
    }
   ],
   "source": [
    "from pyspark.sql import SparkSession\n",
    "from pyspark.sql.functions import *\n",
    "from pyspark.sql.types import *\n",
    "from pyspark.sql import functions as F\n",
    "\n",
    "spark = SparkSession.builder \\\n",
    "    .appName(\"PatentBranchAnalytics\") \\\n",
    "    .config(\"spark.jars.packages\", \"org.apache.hudi:hudi-spark3.5-bundle_2.12:0.15.0\") \\\n",
    "    .config(\"spark.serializer\", \"org.apache.spark.serializer.KryoSerializer\") \\\n",
    "    .config(\"spark.sql.catalog.spark_catalog\", \"org.apache.spark.sql.hudi.catalog.HoodieCatalog\") \\\n",
    "    .config(\"spark.sql.hive.convertMetastoreParquet\", \"false\") \\\n",
    "    .config(\"spark.sql.parquet.outputTimestampType\", \"TIMESTAMP_MICROS\") \\\n",
    "    .config(\"spark.sql.datetime.java8API.enabled\", \"true\") \\\n",
    "    .config(\"spark.driver.memory\", \"8g\") \\\n",
    "    .config(\"spark.executor.memory\", \"8g\") \\\n",
    "    .getOrCreate()"
   ]
  },
  {
   "cell_type": "code",
   "execution_count": 2,
   "id": "f84aa27f-a590-455a-9586-1755d044dfc4",
   "metadata": {},
   "outputs": [],
   "source": [
    "# Constants\n",
    "\n",
    "filtered_patents_input_path = \"../../data_source/filtered_patents\"\n",
    "inventor_data_path = \"../../data_source/preprocessed_data_input/inventor_info\"\n",
    "\n",
    "gender_trends_table_path = \"file:/Users/bhland/hive/warehouse/dashboard_analytics_results/gender_trends\"  "
   ]
  },
  {
   "cell_type": "code",
   "execution_count": 3,
   "id": "6b3c39be-b301-487f-a041-429234002641",
   "metadata": {},
   "outputs": [
    {
     "name": "stdout",
     "output_type": "stream",
     "text": [
      "+-----------+-----------+-------------------------------------------------------------------------------------------------------------------------------+----------+--------------+-----------+-----------+---------+----------------------------------+---------+\n",
      "|patent_type|patent_date|patent_title                                                                                                                   |num_claims|application_id|filing_date|series_code|patent_id|branch                            |code     |\n",
      "+-----------+-----------+-------------------------------------------------------------------------------------------------------------------------------+----------+--------------+-----------+-----------+---------+----------------------------------+---------+\n",
      "|utility    |2018-06-19 |Filler neck closure assembly                                                                                                   |19        |15412444      |2017-01-23 |15         |10000117 |Software Development and Security |G06Q10/00|\n",
      "|utility    |2018-06-19 |Vehicle camera peripheral                                                                                                      |11        |15655054      |2017-07-20 |15         |10000164 |Networking and Distributed Systems|H04W     |\n",
      "|utility    |2018-06-19 |Creatinine biosensor and method of using the same                                                                              |6         |15509067      |2015-09-01 |15         |10000784 |Data Science and Analytics        |B82Y30/00|\n",
      "|utility    |2018-06-19 |Focusing control device, focusing control method, focusing control program, lens device, and imaging device                    |20        |15590019      |2017-05-09 |15         |10001621 |Artificial Intelligence           |G06T     |\n",
      "|utility    |2018-06-19 |Electronic device comprising a wake up module distinct from a core domain                                                      |19        |14852513      |2015-09-12 |14         |10001829 |Artificial Intelligence           |G10L15/22|\n",
      "|utility    |2018-06-19 |Calibration of multiple rigid bodies in a virtual reality system                                                               |20        |15402422      |2017-01-10 |15         |10001834 |Artificial Intelligence           |G06T     |\n",
      "|utility    |2018-06-19 |Gamification platform                                                                                                          |20        |14845953      |2015-09-04 |14         |10001896 |Software Development and Security |G06F3/048|\n",
      "|utility    |2018-06-19 |Information processing apparatus, information processing system, and information processing method                             |9         |15145178      |2016-05-03 |15         |10001934 |Software Development and Security |H04L67/02|\n",
      "|utility    |2018-06-19 |Systems, methods, and devices for handling Wi-Fi and bluetooth audio                                                           |18        |14733169      |2015-06-08 |14         |10001964 |Networking and Distributed Systems|H04W     |\n",
      "|utility    |2018-06-19 |Determining whether a data storage is encrypted                                                                                |9         |15636520      |2017-06-28 |15         |10002083 |Software Development and Security |G06F21/00|\n",
      "|utility    |2018-06-19 |Client computer for updating a database stored on a server via a network                                                       |5         |15202672      |2016-07-06 |15         |10002151 |Data Science and Analytics        |G06F16/27|\n",
      "|utility    |2018-06-19 |System and method for registration in orthopaedic applications                                                                 |4         |14429301      |2013-10-15 |14         |10002227 |Artificial Intelligence           |G06T     |\n",
      "|utility    |2018-06-19 |Moving body tracking method and moving body tracking device                                                                    |18        |15317758      |2015-07-27 |15         |10002289 |Artificial Intelligence           |G06T     |\n",
      "|utility    |2018-06-19 |Systems and methods for predicting transactions                                                                                |26        |15481094      |2017-04-06 |15         |10002322 |Artificial Intelligence           |G06N     |\n",
      "|utility    |2018-06-19 |Systems and methods for point of sale deposits                                                                                 |20        |15899962      |2018-02-20 |15         |10002346 |Software Development and Security |G06Q20/40|\n",
      "|utility    |2018-06-19 |Producing glyph distance fields                                                                                                |36        |13571562      |2012-08-10 |13         |10002448 |Artificial Intelligence           |G06T     |\n",
      "|utility    |2018-06-19 |Image rendering apparatus and method                                                                                           |24        |14321493      |2014-07-01 |14         |10002457 |Artificial Intelligence           |G06T     |\n",
      "|utility    |2018-06-19 |Information processing apparatus, information processing method, and storage medium, for enabling accurate detection of a color|15        |15150236      |2016-05-09 |15         |10002463 |Artificial Intelligence           |G06T     |\n",
      "|utility    |2018-06-19 |Light field light source orientation method for augmented reality and virtual reality and front-end device                     |6         |15381137      |2016-12-16 |15         |10002464 |Artificial Intelligence           |G06T     |\n",
      "|utility    |2018-06-19 |Information signalling for network assisted interference mitigation                                                            |23        |14440337      |2013-12-03 |14         |10003367 |Networking and Distributed Systems|H04W     |\n",
      "+-----------+-----------+-------------------------------------------------------------------------------------------------------------------------------+----------+--------------+-----------+-----------+---------+----------------------------------+---------+\n",
      "only showing top 20 rows\n",
      "\n"
     ]
    }
   ],
   "source": [
    "patents_filtered_df = spark.read.parquet(filtered_patents_input_path)\n",
    "patents_filtered_df.show(truncate=False)"
   ]
  },
  {
   "cell_type": "code",
   "execution_count": 4,
   "id": "3be1d9e4-da63-4f67-9227-d1030dc14f81",
   "metadata": {},
   "outputs": [],
   "source": [
    "inventor_df = spark.read.parquet(inventor_data_path)\n",
    "\n",
    "inventor_filtered_df = inventor_df.join(\n",
    "    patents_filtered_df,\n",
    "    inventor_df.patent_id == patents_filtered_df.patent_id, \n",
    "    \"inner\"\n",
    ")\n",
    "\n",
    "inventor_filtered_df = inventor_filtered_df.drop(inventor_df['patent_id'])\n",
    "\n",
    "inventor_df_with_year = inventor_filtered_df.withColumn(\"year\", F.year(\"patent_date\")).withColumn(\"month\", F.month(\"patent_date\")) \n"
   ]
  },
  {
   "cell_type": "code",
   "execution_count": 5,
   "id": "0abce2d0-79ce-4a1c-931a-49ec56a3e156",
   "metadata": {},
   "outputs": [
    {
     "name": "stderr",
     "output_type": "stream",
     "text": [
      "[Stage 7:====================================================>      (8 + 1) / 9]\r"
     ]
    },
    {
     "name": "stdout",
     "output_type": "stream",
     "text": [
      "+----------+----------------------------------+----------+\n",
      "|year      |branch                            |male_count|\n",
      "+----------+----------------------------------+----------+\n",
      "|2023-10-01|Data Science and Analytics        |473       |\n",
      "|1979-05-01|Artificial Intelligence           |7         |\n",
      "|1981-12-01|Artificial Intelligence           |17        |\n",
      "|1985-12-01|Artificial Intelligence           |28        |\n",
      "|1986-05-01|Networking and Distributed Systems|10        |\n",
      "|1988-08-01|Artificial Intelligence           |33        |\n",
      "|1995-01-01|Networking and Distributed Systems|80        |\n",
      "|2001-08-01|Artificial Intelligence           |288       |\n",
      "|2004-09-01|Artificial Intelligence           |367       |\n",
      "|2006-08-01|Artificial Intelligence           |634       |\n",
      "|2006-09-01|Advanced Computing Technologies   |30        |\n",
      "|2010-02-01|Networking and Distributed Systems|929       |\n",
      "|2013-04-01|Artificial Intelligence           |1221      |\n",
      "|2022-04-01|Artificial Intelligence           |5246      |\n",
      "|2022-06-01|Artificial Intelligence           |5225      |\n",
      "|2023-06-01|Data Science and Analytics        |384       |\n",
      "|2024-01-01|Networking and Distributed Systems|5597      |\n",
      "|2000-10-01|Artificial Intelligence           |331       |\n",
      "|2001-03-01|Data Science and Analytics        |120       |\n",
      "|2008-09-01|Data Science and Analytics        |139       |\n",
      "+----------+----------------------------------+----------+\n",
      "only showing top 20 rows\n",
      "\n"
     ]
    },
    {
     "name": "stderr",
     "output_type": "stream",
     "text": [
      "                                                                                \r"
     ]
    }
   ],
   "source": [
    "inventer_with_gender = inventor_df_with_year.withColumn(\n",
    "    \"gender_code\",\n",
    "    F.coalesce(F.col(\"gender_code\"), F.lit(\"U\"))\n",
    ")\n",
    "\n",
    "\n",
    "male_df = inventer_with_gender.filter(F.col(\"gender_code\") == \"M\") \n",
    "\n",
    "male_count_df = male_df.groupBy(\"year\", \"month\", \"branch\").agg(\n",
    "    count(\"patent_id\").alias(\"male_count\")\n",
    ")\n",
    "\n",
    "male_count_df = male_count_df.withColumn(\"year\", make_date(col(\"year\"), col(\"month\"), lit(1)))\n",
    "\n",
    "\n",
    "male_df = male_count_df.drop(\"month\")\n",
    "\n",
    "male_df.show(truncate=False)"
   ]
  },
  {
   "cell_type": "code",
   "execution_count": 6,
   "id": "f65d63a2-2ae6-4a36-b339-a80c6dcec151",
   "metadata": {},
   "outputs": [
    {
     "name": "stderr",
     "output_type": "stream",
     "text": [
      "[Stage 21:==============>                                           (2 + 6) / 8]\r"
     ]
    },
    {
     "name": "stdout",
     "output_type": "stream",
     "text": [
      "+----------+----------------------------------+----------+------------+\n",
      "|year      |branch                            |male_count|female_count|\n",
      "+----------+----------------------------------+----------+------------+\n",
      "|2024-07-01|Data Science and Analytics        |371       |61          |\n",
      "|2024-07-01|Advanced Computing Technologies   |32        |4           |\n",
      "|2024-07-01|Software Development and Security |477       |87          |\n",
      "|2024-07-01|Artificial Intelligence           |7339      |1352        |\n",
      "|2024-07-01|Networking and Distributed Systems|5225      |924         |\n",
      "|2024-06-01|Data Science and Analytics        |356       |61          |\n",
      "|2024-06-01|Software Development and Security |374       |55          |\n",
      "|2024-06-01|Artificial Intelligence           |5701      |1027        |\n",
      "|2024-06-01|Advanced Computing Technologies   |22        |8           |\n",
      "|2024-06-01|Networking and Distributed Systems|4287      |809         |\n",
      "|2024-05-01|Artificial Intelligence           |5497      |1009        |\n",
      "|2024-05-01|Networking and Distributed Systems|4002      |705         |\n",
      "|2024-05-01|Advanced Computing Technologies   |9         |NULL        |\n",
      "|2024-05-01|Software Development and Security |354       |53          |\n",
      "|2024-05-01|Data Science and Analytics        |302       |69          |\n",
      "|2024-04-01|Advanced Computing Technologies   |29        |4           |\n",
      "|2024-04-01|Data Science and Analytics        |426       |71          |\n",
      "|2024-04-01|Software Development and Security |556       |111         |\n",
      "|2024-04-01|Artificial Intelligence           |6780      |1192        |\n",
      "|2024-04-01|Networking and Distributed Systems|4896      |875         |\n",
      "+----------+----------------------------------+----------+------------+\n",
      "only showing top 20 rows\n",
      "\n"
     ]
    },
    {
     "name": "stderr",
     "output_type": "stream",
     "text": [
      "                                                                                \r"
     ]
    }
   ],
   "source": [
    "female_df = inventer_with_gender.filter(F.col(\"gender_code\") == \"F\") \n",
    "\n",
    "female_count_df = female_df.groupBy(\"year\", \"month\", \"branch\").agg(\n",
    "    count(\"patent_id\").alias(\"female_count\")\n",
    ")\n",
    "\n",
    "female_count_df = female_count_df.withColumn(\"year\", make_date(col(\"year\"), col(\"month\"), lit(1)))\n",
    "\n",
    "\n",
    "female_combined_df = male_df.join(\n",
    "    female_count_df,\n",
    "    on=[\"year\", \"branch\"],\n",
    "    how=\"left\"\n",
    ").orderBy(desc(\"year\"))\n",
    "\n",
    "female_combined_df = female_combined_df.drop(\"month\")\n",
    "\n",
    "female_combined_df.show(truncate=False)"
   ]
  },
  {
   "cell_type": "code",
   "execution_count": 7,
   "id": "2bc9e9bb-65f4-4e74-81eb-9004d1165bb1",
   "metadata": {},
   "outputs": [
    {
     "name": "stderr",
     "output_type": "stream",
     "text": [
      "[Stage 41:================> (8 + 1) / 9][Stage 44:======>           (3 + 5) / 8]\r"
     ]
    },
    {
     "name": "stdout",
     "output_type": "stream",
     "text": [
      "+----------+----------------------------------+------------+----------+\n",
      "|year      |branch                            |female_count|male_count|\n",
      "+----------+----------------------------------+------------+----------+\n",
      "|2024-07-01|Data Science and Analytics        |61          |371       |\n",
      "|2024-07-01|Advanced Computing Technologies   |4           |32        |\n",
      "|2024-07-01|Software Development and Security |87          |477       |\n",
      "|2024-07-01|Artificial Intelligence           |1352        |7339      |\n",
      "|2024-07-01|Networking and Distributed Systems|924         |5225      |\n",
      "|2024-06-01|Data Science and Analytics        |61          |356       |\n",
      "|2024-06-01|Software Development and Security |55          |374       |\n",
      "|2024-06-01|Artificial Intelligence           |1027        |5701      |\n",
      "|2024-06-01|Advanced Computing Technologies   |8           |22        |\n",
      "|2024-06-01|Networking and Distributed Systems|809         |4287      |\n",
      "|2024-05-01|Artificial Intelligence           |1009        |5497      |\n",
      "|2024-05-01|Networking and Distributed Systems|705         |4002      |\n",
      "|2024-05-01|Advanced Computing Technologies   |0           |9         |\n",
      "|2024-05-01|Software Development and Security |53          |354       |\n",
      "|2024-05-01|Data Science and Analytics        |69          |302       |\n",
      "|2024-04-01|Advanced Computing Technologies   |4           |29        |\n",
      "|2024-04-01|Data Science and Analytics        |71          |426       |\n",
      "|2024-04-01|Software Development and Security |111         |556       |\n",
      "|2024-04-01|Artificial Intelligence           |1192        |6780      |\n",
      "|2024-04-01|Networking and Distributed Systems|875         |4896      |\n",
      "+----------+----------------------------------+------------+----------+\n",
      "only showing top 20 rows\n",
      "\n"
     ]
    },
    {
     "name": "stderr",
     "output_type": "stream",
     "text": [
      "                                                                                \r"
     ]
    }
   ],
   "source": [
    "final_combined_result = female_combined_df.select(\n",
    "    female_combined_df.year,\n",
    "    female_combined_df.branch,\n",
    "    F.coalesce(female_combined_df.female_count, F.lit(0)).alias(\"female_count\"),\n",
    "    F.coalesce(female_combined_df.male_count, F.lit(0)).alias(\"male_count\")\n",
    ")\n",
    "\n",
    "final_combined_result.show(truncate=False)"
   ]
  },
  {
   "cell_type": "code",
   "execution_count": 8,
   "id": "394bc181-eba7-40fc-9109-ecf41a83508b",
   "metadata": {},
   "outputs": [
    {
     "name": "stdout",
     "output_type": "stream",
     "text": [
      "root\n",
      " |-- timestamp: timestamp (nullable = true)\n",
      " |-- year: date (nullable = true)\n",
      " |-- branch: string (nullable = true)\n",
      " |-- male_count: integer (nullable = false)\n",
      " |-- female_count: integer (nullable = false)\n",
      "\n"
     ]
    }
   ],
   "source": [
    "gender_result_with_schema = final_combined_result.select(\n",
    "    col(\"year\").cast(TimestampType()).alias(\"timestamp\"),\n",
    "    col(\"year\").cast(DateType()),\n",
    "    col(\"branch\").cast(StringType()),\n",
    "    col(\"male_count\").cast(IntegerType()),\n",
    "    col(\"female_count\").cast(IntegerType())\n",
    ")\n",
    "\n",
    "gender_result_with_schema.printSchema()"
   ]
  },
  {
   "cell_type": "code",
   "execution_count": 10,
   "id": "4dca1b68-a32e-41fa-b138-ac7af0467cae",
   "metadata": {},
   "outputs": [
    {
     "name": "stderr",
     "output_type": "stream",
     "text": [
      "24/12/01 18:02:58 WARN HoodieSparkSqlWriterInternal: hoodie table at file:/Users/bhland/hive/warehouse/dashboard_analytics_results/gender_trends already exists. Deleting existing data & overwriting with new data.\n",
      "                                                                                \r"
     ]
    },
    {
     "name": "stdout",
     "output_type": "stream",
     "text": [
      "The Gender Trends results have been successfully written to the hudi table in hive warehouse.\n"
     ]
    },
    {
     "name": "stderr",
     "output_type": "stream",
     "text": [
      "24/12/01 18:03:04 WARN HoodieSparkSqlWriterInternal: Closing write client\n"
     ]
    }
   ],
   "source": [
    "gender_trends_hudi_options = {\n",
    "    'hoodie.table.name': 'gender_trends',\n",
    "    'hoodie.datasource.write.recordkey.field': 'year,branch',\n",
    "    'hoodie.datasource.write.precombine.field': \"male_count\",\n",
    "    'hoodie.datasource.write.table.name': 'gender_trends',\n",
    "    'hoodie.datasource.write.table.type': 'COPY_ON_WRITE',\n",
    "    'hoodie.datasource.write.operation': 'insert',\n",
    "    'hoodie.upsert.shuffle.parallelism': 2,\n",
    "    'hoodie.insert.shuffle.parallelism': 2,\n",
    "}\n",
    "gender_result_with_schema.write.format(\"org.apache.hudi\").options(**gender_trends_hudi_options).mode(\"overwrite\").save(gender_trends_table_path)\n",
    "\n",
    "print(\"The Gender Trends results have been successfully written to the hudi table in hive warehouse.\")"
   ]
  },
  {
   "cell_type": "code",
   "execution_count": null,
   "id": "80f2c641-f0f1-4f51-9b59-c2a33c896004",
   "metadata": {},
   "outputs": [],
   "source": []
  }
 ],
 "metadata": {
  "kernelspec": {
   "display_name": "Python 3 (ipykernel)",
   "language": "python",
   "name": "python3"
  },
  "language_info": {
   "codemirror_mode": {
    "name": "ipython",
    "version": 3
   },
   "file_extension": ".py",
   "mimetype": "text/x-python",
   "name": "python",
   "nbconvert_exporter": "python",
   "pygments_lexer": "ipython3",
   "version": "3.10.6"
  }
 },
 "nbformat": 4,
 "nbformat_minor": 5
}
