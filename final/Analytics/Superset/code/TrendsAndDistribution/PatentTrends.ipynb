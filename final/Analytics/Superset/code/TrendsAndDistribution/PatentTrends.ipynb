{
 "cells": [
  {
   "cell_type": "code",
   "execution_count": 9,
   "id": "9f9e07ea-028f-4333-96a0-5ccb23ed4e94",
   "metadata": {},
   "outputs": [],
   "source": [
    "from pyspark.sql import SparkSession\n",
    "from pyspark.sql.functions import *\n",
    "from pyspark.sql.types import *\n",
    "from pyspark.sql import functions as F\n",
    "\n",
    "spark = SparkSession.builder \\\n",
    "    .appName(\"PatentBranchAnalytics\") \\\n",
    "    .config(\"spark.jars.packages\", \"org.apache.hudi:hudi-spark3.5-bundle_2.12:0.15.0\") \\\n",
    "    .config(\"spark.serializer\", \"org.apache.spark.serializer.KryoSerializer\") \\\n",
    "    .config(\"spark.sql.catalog.spark_catalog\", \"org.apache.spark.sql.hudi.catalog.HoodieCatalog\") \\\n",
    "    .config(\"spark.sql.hive.convertMetastoreParquet\", \"false\") \\\n",
    "    .config(\"spark.sql.parquet.outputTimestampType\", \"TIMESTAMP_MICROS\") \\\n",
    "    .config(\"spark.sql.datetime.java8API.enabled\", \"true\") \\\n",
    "    .config(\"spark.driver.memory\", \"8g\") \\\n",
    "    .config(\"spark.executor.memory\", \"8g\") \\\n",
    "    .getOrCreate()"
   ]
  },
  {
   "cell_type": "code",
   "execution_count": 10,
   "id": "603bb938-ced9-4a75-b2e0-8a13ef645c67",
   "metadata": {},
   "outputs": [],
   "source": [
    "# Constants\n",
    "\n",
    "filtered_patents_input_path = \"../../data_source/filtered_patents\"\n",
    "\n",
    "patent_trends_table_path = \"file:/Users/bhland/hive/warehouse/dashboard_analytics_results/patent_trends\"  "
   ]
  },
  {
   "cell_type": "code",
   "execution_count": 11,
   "id": "6592979d-8e0f-4003-998e-9f6b3c426f4b",
   "metadata": {},
   "outputs": [
    {
     "name": "stdout",
     "output_type": "stream",
     "text": [
      "+-----------+-----------+-------------------------------------------------------------------------------------------------------------------------------+----------+--------------+-----------+-----------+---------+----------------------------------+---------+\n",
      "|patent_type|patent_date|patent_title                                                                                                                   |num_claims|application_id|filing_date|series_code|patent_id|branch                            |code     |\n",
      "+-----------+-----------+-------------------------------------------------------------------------------------------------------------------------------+----------+--------------+-----------+-----------+---------+----------------------------------+---------+\n",
      "|utility    |2018-06-19 |Filler neck closure assembly                                                                                                   |19        |15412444      |2017-01-23 |15         |10000117 |Software Development and Security |G06Q10/00|\n",
      "|utility    |2018-06-19 |Vehicle camera peripheral                                                                                                      |11        |15655054      |2017-07-20 |15         |10000164 |Networking and Distributed Systems|H04W     |\n",
      "|utility    |2018-06-19 |Creatinine biosensor and method of using the same                                                                              |6         |15509067      |2015-09-01 |15         |10000784 |Data Science and Analytics        |B82Y30/00|\n",
      "|utility    |2018-06-19 |Focusing control device, focusing control method, focusing control program, lens device, and imaging device                    |20        |15590019      |2017-05-09 |15         |10001621 |Artificial Intelligence           |G06T     |\n",
      "|utility    |2018-06-19 |Electronic device comprising a wake up module distinct from a core domain                                                      |19        |14852513      |2015-09-12 |14         |10001829 |Artificial Intelligence           |G10L15/22|\n",
      "|utility    |2018-06-19 |Calibration of multiple rigid bodies in a virtual reality system                                                               |20        |15402422      |2017-01-10 |15         |10001834 |Artificial Intelligence           |G06T     |\n",
      "|utility    |2018-06-19 |Gamification platform                                                                                                          |20        |14845953      |2015-09-04 |14         |10001896 |Software Development and Security |G06F3/048|\n",
      "|utility    |2018-06-19 |Information processing apparatus, information processing system, and information processing method                             |9         |15145178      |2016-05-03 |15         |10001934 |Software Development and Security |H04L67/02|\n",
      "|utility    |2018-06-19 |Systems, methods, and devices for handling Wi-Fi and bluetooth audio                                                           |18        |14733169      |2015-06-08 |14         |10001964 |Networking and Distributed Systems|H04W     |\n",
      "|utility    |2018-06-19 |Determining whether a data storage is encrypted                                                                                |9         |15636520      |2017-06-28 |15         |10002083 |Software Development and Security |G06F21/00|\n",
      "|utility    |2018-06-19 |Client computer for updating a database stored on a server via a network                                                       |5         |15202672      |2016-07-06 |15         |10002151 |Data Science and Analytics        |G06F16/27|\n",
      "|utility    |2018-06-19 |System and method for registration in orthopaedic applications                                                                 |4         |14429301      |2013-10-15 |14         |10002227 |Artificial Intelligence           |G06T     |\n",
      "|utility    |2018-06-19 |Moving body tracking method and moving body tracking device                                                                    |18        |15317758      |2015-07-27 |15         |10002289 |Artificial Intelligence           |G06T     |\n",
      "|utility    |2018-06-19 |Systems and methods for predicting transactions                                                                                |26        |15481094      |2017-04-06 |15         |10002322 |Artificial Intelligence           |G06N     |\n",
      "|utility    |2018-06-19 |Systems and methods for point of sale deposits                                                                                 |20        |15899962      |2018-02-20 |15         |10002346 |Software Development and Security |G06Q20/40|\n",
      "|utility    |2018-06-19 |Producing glyph distance fields                                                                                                |36        |13571562      |2012-08-10 |13         |10002448 |Artificial Intelligence           |G06T     |\n",
      "|utility    |2018-06-19 |Image rendering apparatus and method                                                                                           |24        |14321493      |2014-07-01 |14         |10002457 |Artificial Intelligence           |G06T     |\n",
      "|utility    |2018-06-19 |Information processing apparatus, information processing method, and storage medium, for enabling accurate detection of a color|15        |15150236      |2016-05-09 |15         |10002463 |Artificial Intelligence           |G06T     |\n",
      "|utility    |2018-06-19 |Light field light source orientation method for augmented reality and virtual reality and front-end device                     |6         |15381137      |2016-12-16 |15         |10002464 |Artificial Intelligence           |G06T     |\n",
      "|utility    |2018-06-19 |Information signalling for network assisted interference mitigation                                                            |23        |14440337      |2013-12-03 |14         |10003367 |Networking and Distributed Systems|H04W     |\n",
      "+-----------+-----------+-------------------------------------------------------------------------------------------------------------------------------+----------+--------------+-----------+-----------+---------+----------------------------------+---------+\n",
      "only showing top 20 rows\n",
      "\n"
     ]
    }
   ],
   "source": [
    "patents_filtered_df = spark.read.parquet(filtered_patents_input_path)\n",
    "patents_filtered_df.show(truncate=False)\n",
    "\n",
    "patent_df_with_years = patents_filtered_df.withColumn(\"grant_year\", year(col(\"patent_date\"))) \\\n",
    "                                .withColumn(\"grant_month\", month(col(\"patent_date\")))\n",
    "\n",
    "\n",
    "patent_df_with_years = patent_df_with_years.withColumn(\"grant_year\", make_date(col(\"grant_year\"), col(\"grant_month\"), lit(1)))\n"
   ]
  },
  {
   "cell_type": "code",
   "execution_count": 12,
   "id": "5cfab1cc-6821-4fed-9deb-14af74b5d5b3",
   "metadata": {},
   "outputs": [],
   "source": [
    "# Group by Year and Aggregate Counts\n",
    "grant_counts = patent_df_with_years.groupBy(\"grant_year\", \"branch\").agg(\n",
    "    count(\"patent_id\").alias(\"patent_grant_count\")\n",
    ")\n",
    "grant_counts = grant_counts.withColumnRenamed(\"branch\", \"grant_branch\")"
   ]
  },
  {
   "cell_type": "code",
   "execution_count": 13,
   "id": "bb79332c-3fbd-4168-87c5-0285f66f0313",
   "metadata": {},
   "outputs": [
    {
     "name": "stdout",
     "output_type": "stream",
     "text": [
      "+----------------------------------+----------+-----------+\n",
      "|branch                            |year      |grant_count|\n",
      "+----------------------------------+----------+-----------+\n",
      "|Data Science and Analytics        |2021-11-01|184        |\n",
      "|Data Science and Analytics        |1996-04-01|22         |\n",
      "|Software Development and Security |1998-07-01|16         |\n",
      "|Data Science and Analytics        |1998-11-01|22         |\n",
      "|Artificial Intelligence           |2006-10-01|276        |\n",
      "|Artificial Intelligence           |2011-09-01|311        |\n",
      "|Software Development and Security |2011-10-01|121        |\n",
      "|Advanced Computing Technologies   |2011-12-01|16         |\n",
      "|Artificial Intelligence           |2020-05-01|1733       |\n",
      "|Artificial Intelligence           |1988-01-01|15         |\n",
      "|Data Science and Analytics        |1988-03-01|4          |\n",
      "|Artificial Intelligence           |1988-11-01|22         |\n",
      "|Data Science and Analytics        |1993-08-01|15         |\n",
      "|Networking and Distributed Systems|1997-02-01|69         |\n",
      "|Software Development and Security |2001-07-01|33         |\n",
      "|Advanced Computing Technologies   |2005-11-01|4          |\n",
      "|Networking and Distributed Systems|2007-04-01|279        |\n",
      "|Data Science and Analytics        |2007-09-01|56         |\n",
      "|Networking and Distributed Systems|1978-08-01|1          |\n",
      "|Data Science and Analytics        |1997-01-01|14         |\n",
      "+----------------------------------+----------+-----------+\n",
      "only showing top 20 rows\n",
      "\n"
     ]
    }
   ],
   "source": [
    "final_result = grant_counts.select(\n",
    "    F.col(\"grant_branch\").alias(\"branch\"),\n",
    "    F.col(\"grant_year\").alias(\"year\"),\n",
    "    F.coalesce(grant_counts.patent_grant_count, F.lit(0)).alias(\"grant_count\")\n",
    ")\n",
    "\n",
    "final_result.show(truncate=False)\n"
   ]
  },
  {
   "cell_type": "code",
   "execution_count": 14,
   "id": "21f84724-00d7-497a-b721-11dbbba71646",
   "metadata": {},
   "outputs": [
    {
     "name": "stdout",
     "output_type": "stream",
     "text": [
      "+----------+----------------------------------+-----------+------------------+\n",
      "|year      |branch                            |grant_count|avg_claims        |\n",
      "+----------+----------------------------------+-----------+------------------+\n",
      "|2021-11-01|Data Science and Analytics        |184        |18.059782608695652|\n",
      "|1996-04-01|Data Science and Analytics        |22         |16.636363636363637|\n",
      "|1998-07-01|Software Development and Security |16         |19.5625           |\n",
      "|1998-11-01|Data Science and Analytics        |22         |18.954545454545453|\n",
      "|2006-10-01|Artificial Intelligence           |276        |23.44927536231884 |\n",
      "|2011-09-01|Artificial Intelligence           |311        |19.591639871382636|\n",
      "|2011-10-01|Software Development and Security |121        |21.90082644628099 |\n",
      "|2011-12-01|Advanced Computing Technologies   |16         |17.375            |\n",
      "|2020-05-01|Artificial Intelligence           |1733       |17.96537795729948 |\n",
      "|1988-01-01|Artificial Intelligence           |15         |13.933333333333334|\n",
      "|1988-03-01|Data Science and Analytics        |4          |25.25             |\n",
      "|1988-11-01|Artificial Intelligence           |22         |15.863636363636363|\n",
      "|1993-08-01|Data Science and Analytics        |15         |16.4              |\n",
      "|1997-02-01|Networking and Distributed Systems|69         |16.782608695652176|\n",
      "|2001-07-01|Software Development and Security |33         |25.03030303030303 |\n",
      "|2005-11-01|Advanced Computing Technologies   |4          |18.0              |\n",
      "|2007-04-01|Networking and Distributed Systems|279        |22.78494623655914 |\n",
      "|2007-09-01|Data Science and Analytics        |56         |22.535714285714285|\n",
      "|1978-08-01|Networking and Distributed Systems|1          |5.0               |\n",
      "|1997-01-01|Data Science and Analytics        |14         |16.642857142857142|\n",
      "+----------+----------------------------------+-----------+------------------+\n",
      "only showing top 20 rows\n",
      "\n"
     ]
    }
   ],
   "source": [
    "df_with_year_and_month = patents_filtered_df \\\n",
    "    .withColumn(\"year\", F.year(\"patent_date\")) \\\n",
    "    .withColumn(\"month\", F.month(\"patent_date\"))  \n",
    "\n",
    "# Group by year and branch, and calculate the average number of claims\n",
    "avg_claims = df_with_year_and_month.groupBy(\"year\",\"month\",\"branch\").agg(\n",
    "    F.avg(\"num_claims\").alias(\"avg_claims\")\n",
    ")\n",
    "\n",
    "avg_claims = avg_claims.withColumn(\"year\", make_date(col(\"year\"), col(\"month\"), lit(1)))\n",
    "\n",
    "combined_df = final_result.join(\n",
    "    avg_claims,\n",
    "    on=[\"year\", \"branch\"],\n",
    "    how=\"left\"\n",
    ")\n",
    "\n",
    "combined_df = combined_df.drop(\"month\")\n",
    "\n",
    "combined_df.show(truncate=False)"
   ]
  },
  {
   "cell_type": "code",
   "execution_count": 15,
   "id": "30b235dc-d3ab-4ab9-92af-fae8e5a1ea7b",
   "metadata": {},
   "outputs": [
    {
     "name": "stdout",
     "output_type": "stream",
     "text": [
      "+-------------------+----------+----------------------------------+-----------+----------+\n",
      "|timestamp          |year      |branch                            |grant_count|avg_claims|\n",
      "+-------------------+----------+----------------------------------+-----------+----------+\n",
      "|2021-11-01 00:00:00|2021-11-01|Data Science and Analytics        |184        |18.059782 |\n",
      "|1996-04-01 00:00:00|1996-04-01|Data Science and Analytics        |22         |16.636364 |\n",
      "|1998-07-01 00:00:00|1998-07-01|Software Development and Security |16         |19.5625   |\n",
      "|1998-11-01 00:00:00|1998-11-01|Data Science and Analytics        |22         |18.954546 |\n",
      "|2006-10-01 00:00:00|2006-10-01|Artificial Intelligence           |276        |23.449276 |\n",
      "|2011-09-01 00:00:00|2011-09-01|Artificial Intelligence           |311        |19.59164  |\n",
      "|2011-10-01 00:00:00|2011-10-01|Software Development and Security |121        |21.900826 |\n",
      "|2011-12-01 00:00:00|2011-12-01|Advanced Computing Technologies   |16         |17.375    |\n",
      "|2020-05-01 00:00:00|2020-05-01|Artificial Intelligence           |1733       |17.965378 |\n",
      "|1988-01-01 00:00:00|1988-01-01|Artificial Intelligence           |15         |13.933333 |\n",
      "|1988-03-01 00:00:00|1988-03-01|Data Science and Analytics        |4          |25.25     |\n",
      "|1988-11-01 00:00:00|1988-11-01|Artificial Intelligence           |22         |15.863636 |\n",
      "|1993-08-01 00:00:00|1993-08-01|Data Science and Analytics        |15         |16.4      |\n",
      "|1997-02-01 00:00:00|1997-02-01|Networking and Distributed Systems|69         |16.782608 |\n",
      "|2001-07-01 00:00:00|2001-07-01|Software Development and Security |33         |25.030304 |\n",
      "|2005-11-01 00:00:00|2005-11-01|Advanced Computing Technologies   |4          |18.0      |\n",
      "|2007-04-01 00:00:00|2007-04-01|Networking and Distributed Systems|279        |22.784946 |\n",
      "|2007-09-01 00:00:00|2007-09-01|Data Science and Analytics        |56         |22.535715 |\n",
      "|1978-08-01 00:00:00|1978-08-01|Networking and Distributed Systems|1          |5.0       |\n",
      "|1997-01-01 00:00:00|1997-01-01|Data Science and Analytics        |14         |16.642857 |\n",
      "+-------------------+----------+----------------------------------+-----------+----------+\n",
      "only showing top 20 rows\n",
      "\n"
     ]
    }
   ],
   "source": [
    "patent_trends_with_schema = combined_df.select(\n",
    "    col(\"year\").cast(TimestampType()).alias(\"timestamp\"),\n",
    "    col(\"year\").cast(DateType()),\n",
    "    col(\"branch\").cast(StringType()),\n",
    "    col(\"grant_count\").cast(IntegerType()),\n",
    "    col(\"avg_claims\").cast(FloatType()),\n",
    ")\n",
    "\n",
    "patent_trends_with_schema.show(truncate=False)\n"
   ]
  },
  {
   "cell_type": "code",
   "execution_count": 16,
   "id": "ceba0c49-e21d-4181-97fe-c6c6063b2983",
   "metadata": {},
   "outputs": [
    {
     "name": "stderr",
     "output_type": "stream",
     "text": [
      "24/12/01 18:01:37 WARN HoodieSparkSqlWriterInternal: hoodie table at file:/Users/bhland/hive/warehouse/dashboard_analytics_results/patent_trends already exists. Deleting existing data & overwriting with new data.\n"
     ]
    },
    {
     "name": "stdout",
     "output_type": "stream",
     "text": [
      "The Patents Trends results have been successfully written to the hudi table in hive warehouse.\n"
     ]
    },
    {
     "name": "stderr",
     "output_type": "stream",
     "text": [
      "24/12/01 18:01:39 WARN HoodieSparkSqlWriterInternal: Closing write client\n"
     ]
    }
   ],
   "source": [
    "patent_trends_hudi_options = {\n",
    "    'hoodie.table.name': 'patent_trends',\n",
    "    'hoodie.datasource.write.recordkey.field': 'year,branch',\n",
    "    'hoodie.datasource.write.precombine.field': \"grant_count\",\n",
    "    'hoodie.datasource.write.table.name': 'patent_trends',\n",
    "    'hoodie.datasource.write.table.type': 'COPY_ON_WRITE',\n",
    "    'hoodie.datasource.write.operation': 'insert',\n",
    "    'hoodie.upsert.shuffle.parallelism': 2,\n",
    "    'hoodie.insert.shuffle.parallelism': 2,\n",
    "}\n",
    "patent_trends_with_schema.write.format(\"org.apache.hudi\").options(**patent_trends_hudi_options).mode(\"overwrite\").save(patent_trends_table_path)\n",
    "\n",
    "print(\"The Patents Trends results have been successfully written to the hudi table in hive warehouse.\")"
   ]
  },
  {
   "cell_type": "code",
   "execution_count": null,
   "id": "059200c5-8fd3-4653-983d-78abc065de37",
   "metadata": {},
   "outputs": [],
   "source": []
  }
 ],
 "metadata": {
  "kernelspec": {
   "display_name": "Python 3 (ipykernel)",
   "language": "python",
   "name": "python3"
  },
  "language_info": {
   "codemirror_mode": {
    "name": "ipython",
    "version": 3
   },
   "file_extension": ".py",
   "mimetype": "text/x-python",
   "name": "python",
   "nbconvert_exporter": "python",
   "pygments_lexer": "ipython3",
   "version": "3.10.6"
  }
 },
 "nbformat": 4,
 "nbformat_minor": 5
}
