{
 "cells": [
  {
   "cell_type": "code",
   "execution_count": 10,
   "id": "282e5aab-705b-4b14-bf80-fbbf7b0387dd",
   "metadata": {},
   "outputs": [],
   "source": [
    "from pyspark.sql import SparkSession\n",
    "from pyspark.sql.functions import *\n",
    "from pyspark.sql.types import *\n",
    "\n",
    "# Create a SparkSession\n",
    "spark = SparkSession.builder.appName(\"FilterPatents\") \\\n",
    "    .config(\"spark.driver.memory\", \"8g\") \\\n",
    "    .config(\"spark.executor.memory\", \"8g\") \\\n",
    "    .getOrCreate()\n"
   ]
  },
  {
   "cell_type": "code",
   "execution_count": 11,
   "id": "2016368c-1a8e-4b65-8892-53cecd560b6d",
   "metadata": {},
   "outputs": [
    {
     "name": "stdout",
     "output_type": "stream",
     "text": [
      "root\n",
      " |-- branch: string (nullable = true)\n",
      " |-- code: string (nullable = true)\n",
      "\n",
      "+----------------------------------+---------+\n",
      "|branch                            |code     |\n",
      "+----------------------------------+---------+\n",
      "|Artificial Intelligence           |G06N     |\n",
      "|Artificial Intelligence           |G06F19/00|\n",
      "|Artificial Intelligence           |G06F17/27|\n",
      "|Artificial Intelligence           |G06F17/28|\n",
      "|Artificial Intelligence           |G10L15/22|\n",
      "|Artificial Intelligence           |G06T     |\n",
      "|Artificial Intelligence           |G06K9/00 |\n",
      "|Data Science and Analytics        |G06F16/00|\n",
      "|Data Science and Analytics        |G06F17/00|\n",
      "|Data Science and Analytics        |H04L67/00|\n",
      "|Data Science and Analytics        |H04L12/28|\n",
      "|Data Science and Analytics        |G06F3/06 |\n",
      "|Data Science and Analytics        |G06F12/02|\n",
      "|Data Science and Analytics        |G06F16/27|\n",
      "|Data Science and Analytics        |H04L29/06|\n",
      "|Data Science and Analytics        |G06Q50/00|\n",
      "|Data Science and Analytics        |B82Y30/00|\n",
      "|Networking and Distributed Systems|H04L29/00|\n",
      "|Networking and Distributed Systems|H04L12/00|\n",
      "|Networking and Distributed Systems|H04W     |\n",
      "+----------------------------------+---------+\n",
      "only showing top 20 rows\n",
      "\n"
     ]
    }
   ],
   "source": [
    "branches_data = [\n",
    "    \n",
    "    (\"Artificial Intelligence\", [\"G06N\", \"G06F19/00\", \"G06F17/27\", \"G06F17/28\", \"G10L15/22\", \"G06T\", \"G06K9/00\"]),\n",
    "    (\"Data Science and Analytics\", [\"G06F16/00\", \"G06F17/00\", \"H04L67/00\", \"H04L12/28\", \n",
    "                                     \"G06F3/06\", \"G06F12/02\", \"G06F16/27\", \"H04L29/06\", \"G06Q50/00\", \"B82Y30/00\"]),\n",
    "    (\"Networking and Distributed Systems\", [\"H04L29/00\", \"H04L12/00\", \"H04W\", \"H04L12/24\", \"H04L67/10\", \"G06F9/50\", \n",
    "                                             \"H04L67/22\", \"H04L29/08\", \"G06F9/46\", \"G06F15/173\", \"G06F15/16\"]),\n",
    "    (\"Software Development and Security\", [\"G06F8/00\", \"G06F9/00\", \"G06F9/44\", \"G06F9/451\", \"H04L67/02\", \"G06F3/048\", \n",
    "                                            \"G06Q10/00\", \"G06F3/00\", \"H04L9/00\", \"G06F21/00\", \"G06Q20/40\"]),\n",
    "    (\"Advanced Computing Technologies\", [\"B25J9/00\", \"G05B19/00\", \"G06F15/18\", \"H03K17/00\", \"G09G5/00\", \"G06Q30/00\"])\n",
    "]\n",
    "\n",
    "# Create the branches DataFrame\n",
    "branches_df = spark.createDataFrame(branches_data, [\"branch\", \"codes\"])\n",
    "\n",
    "branches_df_exploded = branches_df.withColumn(\"code\", explode(col(\"codes\"))).drop(\"codes\")\n",
    "\n",
    "branches_df_exploded.printSchema()\n",
    "branches_df_exploded.show(truncate=False)"
   ]
  },
  {
   "cell_type": "code",
   "execution_count": 12,
   "id": "9bde6fbe-2eac-4bee-b28c-b638e797b82f",
   "metadata": {},
   "outputs": [],
   "source": [
    "# Constants\n",
    "\n",
    "cpc_input_path = \"../data_source/preprocessed_data_input/cpc_info\"\n",
    "patent_input_path = \"../data_source/preprocessed_data_input/patent_info\"\n",
    "filtered_patents_output_path = \"../data_source/filtered_patents\""
   ]
  },
  {
   "cell_type": "code",
   "execution_count": 13,
   "id": "d53cb2f5-7a9a-4dd1-a663-db3c919932cb",
   "metadata": {},
   "outputs": [
    {
     "name": "stderr",
     "output_type": "stream",
     "text": [
      "[Stage 32:===========================================>              (3 + 1) / 4]\r"
     ]
    },
    {
     "name": "stdout",
     "output_type": "stream",
     "text": [
      "+---------+-----------------------+----+\n",
      "|patent_id|branch                 |code|\n",
      "+---------+-----------------------+----+\n",
      "|4575628  |Artificial Intelligence|G06T|\n",
      "|4575628  |Artificial Intelligence|G06T|\n",
      "|4575628  |Artificial Intelligence|G06T|\n",
      "|4575751  |Artificial Intelligence|G06T|\n",
      "|4349739  |Artificial Intelligence|G06T|\n",
      "|4349739  |Artificial Intelligence|G06T|\n",
      "|4349739  |Artificial Intelligence|G06T|\n",
      "|4533957  |Artificial Intelligence|G06T|\n",
      "|4533959  |Artificial Intelligence|G06T|\n",
      "|4670781  |Artificial Intelligence|G06T|\n",
      "|4670788  |Artificial Intelligence|G06T|\n",
      "|4670788  |Artificial Intelligence|G06T|\n",
      "|4670788  |Artificial Intelligence|G06T|\n",
      "|4670788  |Artificial Intelligence|G06T|\n",
      "|4670793  |Artificial Intelligence|G06T|\n",
      "|4670793  |Artificial Intelligence|G06T|\n",
      "|4486784  |Artificial Intelligence|G06T|\n",
      "|4670840  |Artificial Intelligence|G06T|\n",
      "|4670840  |Artificial Intelligence|G06T|\n",
      "|4670848  |Artificial Intelligence|G06N|\n",
      "+---------+-----------------------+----+\n",
      "only showing top 20 rows\n",
      "\n",
      "root\n",
      " |-- patent_id: string (nullable = true)\n",
      " |-- branch: string (nullable = true)\n",
      " |-- code: string (nullable = true)\n",
      "\n"
     ]
    },
    {
     "name": "stderr",
     "output_type": "stream",
     "text": [
      "                                                                                \r"
     ]
    }
   ],
   "source": [
    "cpc_df = spark.read.parquet(cpc_input_path)  \n",
    "\n",
    "# Filtering patents based on branch codes\n",
    "\n",
    "filtered_patents = cpc_df.join(\n",
    "    branches_df_exploded,\n",
    "    (cpc_df.cpc_group == branches_df_exploded.code) |  \n",
    "    (cpc_df.cpc_subclass == branches_df_exploded.code),\n",
    "    \"inner\"\n",
    ").select(\"patent_id\", \"branch\", \"code\")\n",
    "\n",
    "\n",
    "filtered_patents.show(truncate=False)\n",
    "\n",
    "filtered_patents.printSchema()"
   ]
  },
  {
   "cell_type": "code",
   "execution_count": 14,
   "id": "a1f3c816-c866-47f0-9f52-7a24786c6bdc",
   "metadata": {},
   "outputs": [
    {
     "name": "stderr",
     "output_type": "stream",
     "text": [
      "[Stage 33:=======================================================>(79 + 1) / 80]\r"
     ]
    },
    {
     "name": "stdout",
     "output_type": "stream",
     "text": [
      "+---------+----------------------------------+---------+\n",
      "|patent_id|branch                            |code     |\n",
      "+---------+----------------------------------+---------+\n",
      "|10000036 |Data Science and Analytics        |B82Y30/00|\n",
      "|10001293 |Networking and Distributed Systems|H04L67/10|\n",
      "|10001380 |Networking and Distributed Systems|H04W     |\n",
      "|10001910 |Software Development and Security |G06F3/048|\n",
      "|10002005 |Software Development and Security |G06F9/451|\n",
      "|10002009 |Software Development and Security |G06F21/00|\n",
      "|10002036 |Networking and Distributed Systems|H04L67/10|\n",
      "|10002095 |Artificial Intelligence           |G06N     |\n",
      "|10002107 |Artificial Intelligence           |G06N     |\n",
      "|10002157 |Data Science and Analytics        |G06F16/27|\n",
      "|10002302 |Networking and Distributed Systems|H04W     |\n",
      "|10002323 |Artificial Intelligence           |G06N     |\n",
      "|10002325 |Artificial Intelligence           |G06N     |\n",
      "|10002327 |Artificial Intelligence           |G06N     |\n",
      "|10002337 |Artificial Intelligence           |G06T     |\n",
      "|10002394 |Networking and Distributed Systems|H04W     |\n",
      "|10002411 |Artificial Intelligence           |G06T     |\n",
      "|10002417 |Artificial Intelligence           |G06T     |\n",
      "|10002437 |Artificial Intelligence           |G06T     |\n",
      "|10002442 |Artificial Intelligence           |G06T     |\n",
      "+---------+----------------------------------+---------+\n",
      "only showing top 20 rows\n",
      "\n"
     ]
    },
    {
     "name": "stderr",
     "output_type": "stream",
     "text": [
      "                                                                                \r"
     ]
    }
   ],
   "source": [
    "unique_patents_df = filtered_patents.dropDuplicates([\"patent_id\"])\n",
    "\n",
    "unique_patents_df.show(truncate=False)"
   ]
  },
  {
   "cell_type": "code",
   "execution_count": 15,
   "id": "ba45d730-b40e-463c-a3e7-842c2247f20b",
   "metadata": {},
   "outputs": [
    {
     "name": "stderr",
     "output_type": "stream",
     "text": [
      "                                                                                \r"
     ]
    },
    {
     "name": "stdout",
     "output_type": "stream",
     "text": [
      "+-----------+-----------+-------------------------------------------------------------------------------------------------------------------------------------------------------+----------+--------------+-----------+-----------+---------+----------------------------------+---------+\n",
      "|patent_type|patent_date|patent_title                                                                                                                                           |num_claims|application_id|filing_date|series_code|patent_id|branch                            |code     |\n",
      "+-----------+-----------+-------------------------------------------------------------------------------------------------------------------------------------------------------+----------+--------------+-----------+-----------+---------+----------------------------------+---------+\n",
      "|utility    |2018-06-19 |High kinetic energy penetrator shielding and high wear resistance materials fabricated with boron nitride nanotubes (BNNTS) and BNNT polymer composites|20        |14753848      |2015-06-29 |14         |10000036 |Data Science and Analytics        |B82Y30/00|\n",
      "|utility    |2018-06-19 |Navigation using crowdsourcing data                                                                                                                    |12        |15149637      |2016-05-09 |15         |10001380 |Networking and Distributed Systems|H04W     |\n",
      "|utility    |2018-06-19 |Mobile terminal and controlling method thereof for creating shortcut of executing application                                                          |9         |14443153      |2015-01-21 |14         |10001910 |Software Development and Security |G06F3/048|\n",
      "|utility    |2018-06-19 |Displaying data related to media content                                                                                                               |21        |14502736      |2014-09-30 |14         |10002005 |Software Development and Security |G06F9/451|\n",
      "|utility    |2018-06-19 |Electronic device performing emulation-based forensic analysis and method of performing forensic analysis using the same                               |10        |15408210      |2017-01-17 |15         |10002009 |Software Development and Security |G06F21/00|\n",
      "|utility    |2018-06-19 |System, method and computer program product for sharing information in a distributed framework                                                         |127       |15405110      |2017-01-12 |15         |10002036 |Networking and Distributed Systems|H04L67/10|\n",
      "|utility    |2018-06-19 |High performance interconnect physical layer                                                                                                           |27        |14672107      |2015-03-28 |14         |10002095 |Artificial Intelligence           |G06N     |\n",
      "|utility    |2018-06-19 |Method of host-directed illumination and system for conducting host-directed illumination                                                              |13        |15472451      |2017-03-29 |15         |10002302 |Networking and Distributed Systems|H04W     |\n",
      "|utility    |2018-06-19 |Approximate assignment operator for constrained based evolutionary search                                                                              |12        |14500092      |2014-09-29 |14         |10002323 |Artificial Intelligence           |G06N     |\n",
      "|utility    |2018-06-19 |Knowledge representation systems and methods incorporating inference rules                                                                             |15        |13345644      |2012-01-06 |13         |10002325 |Artificial Intelligence           |G06N     |\n",
      "|utility    |2018-06-19 |Systems, methods, devices and arrangements for emergency call services and emergency broadcasts                                                        |19        |15070986      |2016-03-15 |15         |10002327 |Artificial Intelligence           |G06N     |\n",
      "|utility    |2018-06-19 |Method for collaborative shopping                                                                                                                      |18        |13612593      |2012-09-12 |13         |10002337 |Artificial Intelligence           |G06T     |\n",
      "|utility    |2018-06-19 |Roadside reporter system                                                                                                                               |20        |15497401      |2017-04-26 |15         |10002394 |Networking and Distributed Systems|H04W     |\n",
      "|utility    |2018-06-19 |Ready for rotation state detection device, method of detecting ready for rotation state and substrate processing apparatus                             |15        |14281989      |2014-05-20 |14         |10002417 |Artificial Intelligence           |G06T     |\n",
      "|utility    |2018-06-19 |Method and electronic device of identifying redundant data                                                                                             |17        |15202586      |2016-07-06 |15         |10002437 |Artificial Intelligence           |G06T     |\n",
      "|utility    |2018-06-19 |Placement of augmented reality objects using a guide marker                                                                                            |20        |15850387      |2017-12-21 |15         |10002442 |Artificial Intelligence           |G06T     |\n",
      "|utility    |2018-06-19 |Data plot processing                                                                                                                                   |17        |13942904      |2013-07-16 |13         |10002458 |Artificial Intelligence           |G06T     |\n",
      "|utility    |2018-06-19 |Wear compensation for a display                                                                                                                        |25        |15085853      |2016-03-30 |15         |10002562 |Artificial Intelligence           |G06T     |\n",
      "|utility    |2018-06-19 |Guided wave communication system with interference cancellation and methods for use therewith                                                          |20        |15808131      |2017-11-09 |15         |10003364 |Networking and Distributed Systems|H04W     |\n",
      "|utility    |2018-06-19 |Key generating method and apparatus                                                                                                                    |4         |14867106      |2015-09-28 |14         |10003462 |Artificial Intelligence           |G06T     |\n",
      "+-----------+-----------+-------------------------------------------------------------------------------------------------------------------------------------------------------+----------+--------------+-----------+-----------+---------+----------------------------------+---------+\n",
      "only showing top 20 rows\n",
      "\n"
     ]
    },
    {
     "name": "stderr",
     "output_type": "stream",
     "text": [
      "[Stage 43:=======================================================>(79 + 1) / 80]\r"
     ]
    },
    {
     "name": "stdout",
     "output_type": "stream",
     "text": [
      "636487\n"
     ]
    },
    {
     "name": "stderr",
     "output_type": "stream",
     "text": [
      "                                                                                \r"
     ]
    }
   ],
   "source": [
    "patent_df = spark.read.parquet(patent_input_path)\n",
    "\n",
    "patents_filtered_year_df = patent_df.filter(patent_df[\"patent_date\"] < \"2024-08-01\")\n",
    "\n",
    "patents_filtered_df = patents_filtered_year_df.join(\n",
    "    unique_patents_df,\n",
    "    patents_filtered_year_df.patent_id == unique_patents_df.patent_id, \n",
    "    \"inner\"\n",
    ")\n",
    "\n",
    "patents_filtered_df = patents_filtered_df.drop(patent_df['patent_id'])\n",
    "patents_filtered_df.show(truncate=False)\n",
    "print(patents_filtered_df.count())"
   ]
  },
  {
   "cell_type": "code",
   "execution_count": 16,
   "id": "7e950d2e-65f4-4a86-a837-f0ade923f38e",
   "metadata": {},
   "outputs": [
    {
     "name": "stderr",
     "output_type": "stream",
     "text": [
      "[Stage 55:======================================>                  (8 + 4) / 12]\r"
     ]
    },
    {
     "name": "stdout",
     "output_type": "stream",
     "text": [
      "The filtered patents have been successfully written to the output file.\n"
     ]
    },
    {
     "name": "stderr",
     "output_type": "stream",
     "text": [
      "                                                                                \r"
     ]
    }
   ],
   "source": [
    "patents_filtered_df.write.parquet(filtered_patents_output_path, mode=\"overwrite\")\n",
    "print(\"The filtered patents have been successfully written to the output file.\")"
   ]
  },
  {
   "cell_type": "code",
   "execution_count": null,
   "id": "6ad2b2ff-118e-4810-9a1f-fea6c22deecc",
   "metadata": {},
   "outputs": [],
   "source": []
  }
 ],
 "metadata": {
  "kernelspec": {
   "display_name": "Python 3 (ipykernel)",
   "language": "python",
   "name": "python3"
  },
  "language_info": {
   "codemirror_mode": {
    "name": "ipython",
    "version": 3
   },
   "file_extension": ".py",
   "mimetype": "text/x-python",
   "name": "python",
   "nbconvert_exporter": "python",
   "pygments_lexer": "ipython3",
   "version": "3.10.6"
  }
 },
 "nbformat": 4,
 "nbformat_minor": 5
}
